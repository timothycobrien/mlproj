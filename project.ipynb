{
 "cells": [
  {
   "cell_type": "markdown",
   "metadata": {},
   "source": [
    "# Final Project -- Reddit News Data vs. Dow Jones Market Performance\n",
    "## By: Oliver Hamilton, Tim O'Brien, and Gabriel Ting\n",
    "---"
   ]
  },
  {
   "cell_type": "markdown",
   "metadata": {},
   "source": [
    "### Imports and Data Loading"
   ]
  },
  {
   "cell_type": "code",
   "execution_count": 3,
   "metadata": {},
   "outputs": [],
   "source": [
    "import pandas as pd\n",
    "import numpy as np\n",
    "import seaborn as sns\n",
    "from sklearn.metrics.pairwise import cosine_similarity"
   ]
  },
  {
   "cell_type": "markdown",
   "metadata": {},
   "source": [
    "The combined dataset below contains dates along with corresponding labels indicating market upward (1) or downward (0) trend and the day's top 25 Reddit news story headlines from the morning before market open. \n",
    "\n",
    "The DOW dataset below is used to extract the exact magnitude of upward or downward market movement for the days on which we have sampled reddit news data."
   ]
  },
  {
   "cell_type": "code",
   "execution_count": 4,
   "metadata": {},
   "outputs": [],
   "source": [
    "combined_dataset = pd.read_csv('./data/Combined_News_DJIA.csv')\n",
    "combined_dataset = combined_dataset.drop(columns = [\"Label\"])  # We do not care about this binary upward/downward indicator...it is too weak\n",
    "\n",
    "dow_dataset = pd.read_csv('./data/upload_DJIA_table.csv')\n",
    "dow_dataset = dow_dataset[::-1]  # Reverse columns"
   ]
  },
  {
   "cell_type": "markdown",
   "metadata": {},
   "source": [
    "### Data Transformation and Visualization"
   ]
  },
  {
   "cell_type": "code",
   "execution_count": 5,
   "metadata": {},
   "outputs": [
    {
     "output_type": "execute_result",
     "data": {
      "text/plain": [
       "            Date          Open          High           Low         Close  \\\n",
       "1988  2008-08-08  11432.089844  11759.959961  11388.040039  11734.320312   \n",
       "1987  2008-08-11  11729.669922  11867.110352  11675.530273  11782.349609   \n",
       "1986  2008-08-12  11781.700195  11782.349609  11601.519531  11642.469727   \n",
       "1985  2008-08-13  11632.809570  11633.780273  11453.339844  11532.959961   \n",
       "1984  2008-08-14  11532.070312  11718.280273  11450.889648  11615.929688   \n",
       "\n",
       "         Volume     Adj Close  \n",
       "1988  212830000  11734.320312  \n",
       "1987  183190000  11782.349609  \n",
       "1986  173590000  11642.469727  \n",
       "1985  182550000  11532.959961  \n",
       "1984  159790000  11615.929688  "
      ],
      "text/html": "<div>\n<style scoped>\n    .dataframe tbody tr th:only-of-type {\n        vertical-align: middle;\n    }\n\n    .dataframe tbody tr th {\n        vertical-align: top;\n    }\n\n    .dataframe thead th {\n        text-align: right;\n    }\n</style>\n<table border=\"1\" class=\"dataframe\">\n  <thead>\n    <tr style=\"text-align: right;\">\n      <th></th>\n      <th>Date</th>\n      <th>Open</th>\n      <th>High</th>\n      <th>Low</th>\n      <th>Close</th>\n      <th>Volume</th>\n      <th>Adj Close</th>\n    </tr>\n  </thead>\n  <tbody>\n    <tr>\n      <th>1988</th>\n      <td>2008-08-08</td>\n      <td>11432.089844</td>\n      <td>11759.959961</td>\n      <td>11388.040039</td>\n      <td>11734.320312</td>\n      <td>212830000</td>\n      <td>11734.320312</td>\n    </tr>\n    <tr>\n      <th>1987</th>\n      <td>2008-08-11</td>\n      <td>11729.669922</td>\n      <td>11867.110352</td>\n      <td>11675.530273</td>\n      <td>11782.349609</td>\n      <td>183190000</td>\n      <td>11782.349609</td>\n    </tr>\n    <tr>\n      <th>1986</th>\n      <td>2008-08-12</td>\n      <td>11781.700195</td>\n      <td>11782.349609</td>\n      <td>11601.519531</td>\n      <td>11642.469727</td>\n      <td>173590000</td>\n      <td>11642.469727</td>\n    </tr>\n    <tr>\n      <th>1985</th>\n      <td>2008-08-13</td>\n      <td>11632.809570</td>\n      <td>11633.780273</td>\n      <td>11453.339844</td>\n      <td>11532.959961</td>\n      <td>182550000</td>\n      <td>11532.959961</td>\n    </tr>\n    <tr>\n      <th>1984</th>\n      <td>2008-08-14</td>\n      <td>11532.070312</td>\n      <td>11718.280273</td>\n      <td>11450.889648</td>\n      <td>11615.929688</td>\n      <td>159790000</td>\n      <td>11615.929688</td>\n    </tr>\n  </tbody>\n</table>\n</div>"
     },
     "metadata": {},
     "execution_count": 5
    }
   ],
   "source": [
    "dow_dataset.head()"
   ]
  },
  {
   "cell_type": "markdown",
   "metadata": {},
   "source": [
    "In the cell below, we transform the \"Open\" and \"Close\" columns across all our market days to form a percentage change column that will be added to our original combined dataset. Similarly, we will add a spread measure too. This will be represented as the high price minus the low price relative to the opening price of the index for the day."
   ]
  },
  {
   "cell_type": "code",
   "execution_count": 6,
   "metadata": {},
   "outputs": [],
   "source": [
    "# This function cleans off all 'b's, blank characters, and leading \" or ' characters from the news article headers.\n",
    "def clean_header(header):\n",
    "    i, j = 0, len(header) - 1\n",
    "    while header[i] in \"\"\"b'\" \"\"\":  # Iterable with: 'b', ' ', \", and '.\n",
    "        i += 1\n",
    "    while header[j] in \"\"\"'\" \"\"\":  # Iterable with: ', \", and ' '.\n",
    "        j -= 1\n",
    "    return header[i:j+1]"
   ]
  },
  {
   "cell_type": "code",
   "execution_count": 7,
   "metadata": {},
   "outputs": [
    {
     "output_type": "stream",
     "name": "stdout",
     "text": [
      "Dataset has shape: (1989, 28)\n"
     ]
    },
    {
     "output_type": "execute_result",
     "data": {
      "text/plain": [
       "         Date  percent_change  spread_rel_open  \\\n",
       "0  2008-08-08        0.026437         0.032533   \n",
       "1  2008-08-11        0.004491         0.016333   \n",
       "2  2008-08-12       -0.011818         0.015348   \n",
       "3  2008-08-13       -0.008583         0.015511   \n",
       "4  2008-08-14        0.007272         0.023187   \n",
       "\n",
       "                                                Top1  \\\n",
       "0  Georgia 'downs two Russian warplanes' as count...   \n",
       "1  Why wont America and Nato help us? If they won...   \n",
       "2  Remember that adorable 9-year-old who sang at ...   \n",
       "3  U.S. refuses Israel weapons to attack Iran: re...   \n",
       "4  All the experts admit that we should legalise ...   \n",
       "\n",
       "                                                Top2  \\\n",
       "0               BREAKING: Musharraf to be impeached.   \n",
       "1           Bush puts foot down on Georgian conflict   \n",
       "2                     Russia 'ends Georgia operation   \n",
       "3  When the president ordered to attack Tskhinval...   \n",
       "4  War in South Osetia - 89 pictures made by a Ru...   \n",
       "\n",
       "                                                Top3  \\\n",
       "0  Russia Today: Columns of troops roll into Sout...   \n",
       "1  Jewish Georgian minister: Thanks to Israeli tr...   \n",
       "2  If we had no sexual harassment we would have n...   \n",
       "3  Israel clears troops who killed Reuters cameraman   \n",
       "4  Swedish wrestler Ara Abrahamian throws away me...   \n",
       "\n",
       "                                                Top4  \\\n",
       "0  Russian tanks are moving towards the capital o...   \n",
       "1  Georgian army flees in disarray as Russians ad...   \n",
       "2  Al-Qa'eda is losing support in Iraq because of...   \n",
       "3  Britain\\'s policy of being tough on drugs is \"...   \n",
       "4  Russia exaggerated the death toll in South Oss...   \n",
       "\n",
       "                                                Top5  \\\n",
       "0  Afghan children raped with 'impunity,' U.N. of...   \n",
       "1          Olympic opening ceremony fireworks 'faked   \n",
       "2  Ceasefire in Georgia: Putin Outmaneuvers the West   \n",
       "3  Body of 14 year old found in trunk; Latest (ra...   \n",
       "4  Missile That Killed 9 Inside Pakistan May Have...   \n",
       "\n",
       "                                                Top6  \\\n",
       "0  150 Russian tanks have entered South Ossetia w...   \n",
       "1  What were the Mossad with fraudulent New Zeala...   \n",
       "2  Why Microsoft and Intel tried to kill the XO $...   \n",
       "3  China has moved 10 *million* quake survivors i...   \n",
       "4  Rushdie Condemns Random House's Refusal to Pub...   \n",
       "\n",
       "                                                Top7  ...  \\\n",
       "0  Breaking: Georgia invades South Ossetia, Russi...  ...   \n",
       "1  Russia angered by Israeli military sale to Geo...  ...   \n",
       "2  Stratfor: The Russo-Georgian War and the Balan...  ...   \n",
       "3  Bush announces Operation Get All Up In Russia'...  ...   \n",
       "4  Poland and US agree to missle defense deal. In...  ...   \n",
       "\n",
       "                                               Top16  \\\n",
       "0  Georgia Invades South Ossetia - if Russia gets...   \n",
       "1  Israel and the US behind the Georgian aggression?   \n",
       "2  U.S. troops still in Georgia (did you know the...   \n",
       "3                         Elephants extinct by 2020?   \n",
       "4  Bank analyst forecast Georgian crisis 2 days e...   \n",
       "\n",
       "                                               Top17  \\\n",
       "0                   Al-Qaeda Faces Islamist Backlash   \n",
       "1  Do not believe TV, neither Russian nor Georgia...   \n",
       "2          Why Russias response to Georgia was right   \n",
       "3  US humanitarian missions soon in Georgia - if ...   \n",
       "4  Georgia confict could set back Russia's US rel...   \n",
       "\n",
       "                                               Top18  \\\n",
       "0  Condoleezza Rice: \"The US would not act to pre...   \n",
       "1  Riots are still going on in Montreal (Canada) ...   \n",
       "2  Gorbachev accuses U.S. of making a \"serious bl...   \n",
       "3                Georgia's DDOS came from US sources   \n",
       "4  War in the Caucasus is as much the product of ...   \n",
       "\n",
       "                                               Top19  \\\n",
       "0  This is a busy day:  The European Union has ap...   \n",
       "1       China to overtake US as largest manufacturer   \n",
       "2            Russia, Georgia, and NATO: Cold War Two   \n",
       "3  Russian convoy heads into Georgia, violating t...   \n",
       "4  Non-media\" photos of South Ossetia/Georgia con...   \n",
       "\n",
       "                                               Top20  \\\n",
       "0  Georgia will withdraw 1,000 soldiers from Iraq...   \n",
       "1                        War in South Ossetia [PICS]   \n",
       "2  Remember that adorable 62-year-old who led you...   \n",
       "3  Israeli defence minister: US against strike on...   \n",
       "4  Georgian TV reporter shot by Russian sniper du...   \n",
       "\n",
       "                                               Top21  \\\n",
       "0  Why the Pentagon Thinks Attacking Iran is a Ba...   \n",
       "1    Israeli Physicians Group Condemns State Torture   \n",
       "2             War in Georgia: The Israeli connection   \n",
       "3                        Gorbachev: We Had No Choice   \n",
       "4  Saudi Arabia: Mother moves to block child marr...   \n",
       "\n",
       "                                               Top22  \\\n",
       "0  Caucasus in crisis: Georgia invades South Ossetia   \n",
       "1  Russia has just beaten the United States over ...   \n",
       "2  All signs point to the US encouraging Georgia ...   \n",
       "3  Witness: Russian forces head towards Tbilisi i...   \n",
       "4      Taliban wages war on humanitarian aid workers   \n",
       "\n",
       "                                               Top23  \\\n",
       "0  Indian shoe manufactory  - And again in a seri...   \n",
       "1  Perhaps *the* question about the Georgia - Rus...   \n",
       "2  Christopher King argues that the US and NATO a...   \n",
       "3  Quarter of Russians blame U.S. for conflict: poll   \n",
       "4  Russia: World  \"can forget about\" Georgia\\'s t...   \n",
       "\n",
       "                                               Top24  \\\n",
       "0  Visitors Suffering from Mental Illnesses Banne...   \n",
       "1                    Russia is so much better at war   \n",
       "2                           America: The New Mexico?   \n",
       "3  Georgian president  says US military will take...   \n",
       "4  Darfur rebels accuse Sudan of mounting major a...   \n",
       "\n",
       "                                               Top25  \n",
       "0              No Help for Mexico's Kidnapping Surge  \n",
       "1  So this is what it's come to: trading sex for ...  \n",
       "2  BBC NEWS | Asia-Pacific | Extinction 'by man n...  \n",
       "3  2006: Nobel laureate Aleksander Solzhenitsyn a...  \n",
       "4  Philippines : Peace Advocate say Muslims need ...  \n",
       "\n",
       "[5 rows x 28 columns]"
      ],
      "text/html": "<div>\n<style scoped>\n    .dataframe tbody tr th:only-of-type {\n        vertical-align: middle;\n    }\n\n    .dataframe tbody tr th {\n        vertical-align: top;\n    }\n\n    .dataframe thead th {\n        text-align: right;\n    }\n</style>\n<table border=\"1\" class=\"dataframe\">\n  <thead>\n    <tr style=\"text-align: right;\">\n      <th></th>\n      <th>Date</th>\n      <th>percent_change</th>\n      <th>spread_rel_open</th>\n      <th>Top1</th>\n      <th>Top2</th>\n      <th>Top3</th>\n      <th>Top4</th>\n      <th>Top5</th>\n      <th>Top6</th>\n      <th>Top7</th>\n      <th>...</th>\n      <th>Top16</th>\n      <th>Top17</th>\n      <th>Top18</th>\n      <th>Top19</th>\n      <th>Top20</th>\n      <th>Top21</th>\n      <th>Top22</th>\n      <th>Top23</th>\n      <th>Top24</th>\n      <th>Top25</th>\n    </tr>\n  </thead>\n  <tbody>\n    <tr>\n      <th>0</th>\n      <td>2008-08-08</td>\n      <td>0.026437</td>\n      <td>0.032533</td>\n      <td>Georgia 'downs two Russian warplanes' as count...</td>\n      <td>BREAKING: Musharraf to be impeached.</td>\n      <td>Russia Today: Columns of troops roll into Sout...</td>\n      <td>Russian tanks are moving towards the capital o...</td>\n      <td>Afghan children raped with 'impunity,' U.N. of...</td>\n      <td>150 Russian tanks have entered South Ossetia w...</td>\n      <td>Breaking: Georgia invades South Ossetia, Russi...</td>\n      <td>...</td>\n      <td>Georgia Invades South Ossetia - if Russia gets...</td>\n      <td>Al-Qaeda Faces Islamist Backlash</td>\n      <td>Condoleezza Rice: \"The US would not act to pre...</td>\n      <td>This is a busy day:  The European Union has ap...</td>\n      <td>Georgia will withdraw 1,000 soldiers from Iraq...</td>\n      <td>Why the Pentagon Thinks Attacking Iran is a Ba...</td>\n      <td>Caucasus in crisis: Georgia invades South Ossetia</td>\n      <td>Indian shoe manufactory  - And again in a seri...</td>\n      <td>Visitors Suffering from Mental Illnesses Banne...</td>\n      <td>No Help for Mexico's Kidnapping Surge</td>\n    </tr>\n    <tr>\n      <th>1</th>\n      <td>2008-08-11</td>\n      <td>0.004491</td>\n      <td>0.016333</td>\n      <td>Why wont America and Nato help us? If they won...</td>\n      <td>Bush puts foot down on Georgian conflict</td>\n      <td>Jewish Georgian minister: Thanks to Israeli tr...</td>\n      <td>Georgian army flees in disarray as Russians ad...</td>\n      <td>Olympic opening ceremony fireworks 'faked</td>\n      <td>What were the Mossad with fraudulent New Zeala...</td>\n      <td>Russia angered by Israeli military sale to Geo...</td>\n      <td>...</td>\n      <td>Israel and the US behind the Georgian aggression?</td>\n      <td>Do not believe TV, neither Russian nor Georgia...</td>\n      <td>Riots are still going on in Montreal (Canada) ...</td>\n      <td>China to overtake US as largest manufacturer</td>\n      <td>War in South Ossetia [PICS]</td>\n      <td>Israeli Physicians Group Condemns State Torture</td>\n      <td>Russia has just beaten the United States over ...</td>\n      <td>Perhaps *the* question about the Georgia - Rus...</td>\n      <td>Russia is so much better at war</td>\n      <td>So this is what it's come to: trading sex for ...</td>\n    </tr>\n    <tr>\n      <th>2</th>\n      <td>2008-08-12</td>\n      <td>-0.011818</td>\n      <td>0.015348</td>\n      <td>Remember that adorable 9-year-old who sang at ...</td>\n      <td>Russia 'ends Georgia operation</td>\n      <td>If we had no sexual harassment we would have n...</td>\n      <td>Al-Qa'eda is losing support in Iraq because of...</td>\n      <td>Ceasefire in Georgia: Putin Outmaneuvers the West</td>\n      <td>Why Microsoft and Intel tried to kill the XO $...</td>\n      <td>Stratfor: The Russo-Georgian War and the Balan...</td>\n      <td>...</td>\n      <td>U.S. troops still in Georgia (did you know the...</td>\n      <td>Why Russias response to Georgia was right</td>\n      <td>Gorbachev accuses U.S. of making a \"serious bl...</td>\n      <td>Russia, Georgia, and NATO: Cold War Two</td>\n      <td>Remember that adorable 62-year-old who led you...</td>\n      <td>War in Georgia: The Israeli connection</td>\n      <td>All signs point to the US encouraging Georgia ...</td>\n      <td>Christopher King argues that the US and NATO a...</td>\n      <td>America: The New Mexico?</td>\n      <td>BBC NEWS | Asia-Pacific | Extinction 'by man n...</td>\n    </tr>\n    <tr>\n      <th>3</th>\n      <td>2008-08-13</td>\n      <td>-0.008583</td>\n      <td>0.015511</td>\n      <td>U.S. refuses Israel weapons to attack Iran: re...</td>\n      <td>When the president ordered to attack Tskhinval...</td>\n      <td>Israel clears troops who killed Reuters cameraman</td>\n      <td>Britain\\'s policy of being tough on drugs is \"...</td>\n      <td>Body of 14 year old found in trunk; Latest (ra...</td>\n      <td>China has moved 10 *million* quake survivors i...</td>\n      <td>Bush announces Operation Get All Up In Russia'...</td>\n      <td>...</td>\n      <td>Elephants extinct by 2020?</td>\n      <td>US humanitarian missions soon in Georgia - if ...</td>\n      <td>Georgia's DDOS came from US sources</td>\n      <td>Russian convoy heads into Georgia, violating t...</td>\n      <td>Israeli defence minister: US against strike on...</td>\n      <td>Gorbachev: We Had No Choice</td>\n      <td>Witness: Russian forces head towards Tbilisi i...</td>\n      <td>Quarter of Russians blame U.S. for conflict: poll</td>\n      <td>Georgian president  says US military will take...</td>\n      <td>2006: Nobel laureate Aleksander Solzhenitsyn a...</td>\n    </tr>\n    <tr>\n      <th>4</th>\n      <td>2008-08-14</td>\n      <td>0.007272</td>\n      <td>0.023187</td>\n      <td>All the experts admit that we should legalise ...</td>\n      <td>War in South Osetia - 89 pictures made by a Ru...</td>\n      <td>Swedish wrestler Ara Abrahamian throws away me...</td>\n      <td>Russia exaggerated the death toll in South Oss...</td>\n      <td>Missile That Killed 9 Inside Pakistan May Have...</td>\n      <td>Rushdie Condemns Random House's Refusal to Pub...</td>\n      <td>Poland and US agree to missle defense deal. In...</td>\n      <td>...</td>\n      <td>Bank analyst forecast Georgian crisis 2 days e...</td>\n      <td>Georgia confict could set back Russia's US rel...</td>\n      <td>War in the Caucasus is as much the product of ...</td>\n      <td>Non-media\" photos of South Ossetia/Georgia con...</td>\n      <td>Georgian TV reporter shot by Russian sniper du...</td>\n      <td>Saudi Arabia: Mother moves to block child marr...</td>\n      <td>Taliban wages war on humanitarian aid workers</td>\n      <td>Russia: World  \"can forget about\" Georgia\\'s t...</td>\n      <td>Darfur rebels accuse Sudan of mounting major a...</td>\n      <td>Philippines : Peace Advocate say Muslims need ...</td>\n    </tr>\n  </tbody>\n</table>\n<p>5 rows × 28 columns</p>\n</div>"
     },
     "metadata": {},
     "execution_count": 7
    }
   ],
   "source": [
    "combined_dataset = combined_dataset.applymap(lambda x: clean_header(str(x)))\n",
    "\n",
    "magnitude_labels = (dow_dataset[\"Close\"] - dow_dataset[\"Open\"]) / dow_dataset[\"Open\"]  # Percent change measure\n",
    "combined_dataset.insert(1, \"percent_change\", magnitude_labels.tolist())\n",
    "\n",
    "spread_labels = (dow_dataset[\"High\"] - dow_dataset[\"Low\"]) / dow_dataset[\"Open\"]  # Spread measure\n",
    "combined_dataset.insert(2, \"spread_rel_open\", spread_labels.tolist())\n",
    "\n",
    "print(\"Dataset has shape: \" + str(combined_dataset.shape))\n",
    "combined_dataset.head()"
   ]
  },
  {
   "cell_type": "code",
   "execution_count": null,
   "metadata": {},
   "outputs": [],
   "source": []
  },
  {
   "cell_type": "markdown",
   "metadata": {},
   "source": [
    "Now, the goal is to create rich embeddings to represent the textual Reddit news story data in attempt to cluster similar news story headings, compare their sentiment, and hopefully develop a strong classifier for one of the metrics above. Below, we import the dataset with the news header embeddings and add the percent_change and the spread_rel_open metrics."
   ]
  },
  {
   "cell_type": "code",
   "execution_count": 8,
   "metadata": {},
   "outputs": [
    {
     "output_type": "execute_result",
     "data": {
      "text/plain": [
       "         Date  percent_change  spread_rel_open  Top1_feature_0  \\\n",
       "0  2008-08-08        0.026437         0.032533        0.045079   \n",
       "1  2008-08-11        0.004491         0.016333        0.019073   \n",
       "2  2008-08-12       -0.011818         0.015348        0.016142   \n",
       "3  2008-08-13       -0.008583         0.015511       -0.032401   \n",
       "4  2008-08-14        0.007272         0.023187        0.022485   \n",
       "\n",
       "   Top1_feature_1  Top1_feature_2  Top1_feature_3  Top1_feature_4  \\\n",
       "0       -0.022705       -0.054172        0.004627       -0.072887   \n",
       "1       -0.077482       -0.030234       -0.024577       -0.029507   \n",
       "2        0.059271        0.054074       -0.040012       -0.067032   \n",
       "3       -0.064624        0.020649        0.005840        0.006389   \n",
       "4       -0.027689        0.041283        0.037246        0.039393   \n",
       "\n",
       "   Top1_feature_5  Top1_feature_6  ...  Top10_feature_502  Top10_feature_503  \\\n",
       "0        0.006421       -0.013796  ...           0.037529           0.079555   \n",
       "1        0.055582       -0.009761  ...           0.035775           0.010439   \n",
       "2        0.061725       -0.013906  ...           0.016392           0.075807   \n",
       "3        0.054969        0.016002  ...           0.037088           0.064971   \n",
       "4        0.002239        0.049105  ...           0.048365           0.055074   \n",
       "\n",
       "   Top10_feature_504  Top10_feature_505  Top10_feature_506  Top10_feature_507  \\\n",
       "0           0.007900           0.052349          -0.032850          -0.024886   \n",
       "1           0.047468           0.081217          -0.042919           0.047936   \n",
       "2          -0.016552           0.010285           0.000613          -0.035458   \n",
       "3           0.013768           0.051682          -0.050720           0.031203   \n",
       "4           0.078453           0.032827          -0.036714           0.023838   \n",
       "\n",
       "   Top10_feature_508  Top10_feature_509  Top10_feature_510  Top10_feature_511  \n",
       "0          -0.008362          -0.008685          -0.037892          -0.041780  \n",
       "1          -0.039455          -0.068909          -0.049422          -0.051906  \n",
       "2          -0.051954          -0.010246          -0.074031          -0.072625  \n",
       "3           0.008062          -0.045218          -0.021317          -0.054575  \n",
       "4           0.047548           0.054426          -0.072552          -0.024525  \n",
       "\n",
       "[5 rows x 5123 columns]"
      ],
      "text/html": "<div>\n<style scoped>\n    .dataframe tbody tr th:only-of-type {\n        vertical-align: middle;\n    }\n\n    .dataframe tbody tr th {\n        vertical-align: top;\n    }\n\n    .dataframe thead th {\n        text-align: right;\n    }\n</style>\n<table border=\"1\" class=\"dataframe\">\n  <thead>\n    <tr style=\"text-align: right;\">\n      <th></th>\n      <th>Date</th>\n      <th>percent_change</th>\n      <th>spread_rel_open</th>\n      <th>Top1_feature_0</th>\n      <th>Top1_feature_1</th>\n      <th>Top1_feature_2</th>\n      <th>Top1_feature_3</th>\n      <th>Top1_feature_4</th>\n      <th>Top1_feature_5</th>\n      <th>Top1_feature_6</th>\n      <th>...</th>\n      <th>Top10_feature_502</th>\n      <th>Top10_feature_503</th>\n      <th>Top10_feature_504</th>\n      <th>Top10_feature_505</th>\n      <th>Top10_feature_506</th>\n      <th>Top10_feature_507</th>\n      <th>Top10_feature_508</th>\n      <th>Top10_feature_509</th>\n      <th>Top10_feature_510</th>\n      <th>Top10_feature_511</th>\n    </tr>\n  </thead>\n  <tbody>\n    <tr>\n      <th>0</th>\n      <td>2008-08-08</td>\n      <td>0.026437</td>\n      <td>0.032533</td>\n      <td>0.045079</td>\n      <td>-0.022705</td>\n      <td>-0.054172</td>\n      <td>0.004627</td>\n      <td>-0.072887</td>\n      <td>0.006421</td>\n      <td>-0.013796</td>\n      <td>...</td>\n      <td>0.037529</td>\n      <td>0.079555</td>\n      <td>0.007900</td>\n      <td>0.052349</td>\n      <td>-0.032850</td>\n      <td>-0.024886</td>\n      <td>-0.008362</td>\n      <td>-0.008685</td>\n      <td>-0.037892</td>\n      <td>-0.041780</td>\n    </tr>\n    <tr>\n      <th>1</th>\n      <td>2008-08-11</td>\n      <td>0.004491</td>\n      <td>0.016333</td>\n      <td>0.019073</td>\n      <td>-0.077482</td>\n      <td>-0.030234</td>\n      <td>-0.024577</td>\n      <td>-0.029507</td>\n      <td>0.055582</td>\n      <td>-0.009761</td>\n      <td>...</td>\n      <td>0.035775</td>\n      <td>0.010439</td>\n      <td>0.047468</td>\n      <td>0.081217</td>\n      <td>-0.042919</td>\n      <td>0.047936</td>\n      <td>-0.039455</td>\n      <td>-0.068909</td>\n      <td>-0.049422</td>\n      <td>-0.051906</td>\n    </tr>\n    <tr>\n      <th>2</th>\n      <td>2008-08-12</td>\n      <td>-0.011818</td>\n      <td>0.015348</td>\n      <td>0.016142</td>\n      <td>0.059271</td>\n      <td>0.054074</td>\n      <td>-0.040012</td>\n      <td>-0.067032</td>\n      <td>0.061725</td>\n      <td>-0.013906</td>\n      <td>...</td>\n      <td>0.016392</td>\n      <td>0.075807</td>\n      <td>-0.016552</td>\n      <td>0.010285</td>\n      <td>0.000613</td>\n      <td>-0.035458</td>\n      <td>-0.051954</td>\n      <td>-0.010246</td>\n      <td>-0.074031</td>\n      <td>-0.072625</td>\n    </tr>\n    <tr>\n      <th>3</th>\n      <td>2008-08-13</td>\n      <td>-0.008583</td>\n      <td>0.015511</td>\n      <td>-0.032401</td>\n      <td>-0.064624</td>\n      <td>0.020649</td>\n      <td>0.005840</td>\n      <td>0.006389</td>\n      <td>0.054969</td>\n      <td>0.016002</td>\n      <td>...</td>\n      <td>0.037088</td>\n      <td>0.064971</td>\n      <td>0.013768</td>\n      <td>0.051682</td>\n      <td>-0.050720</td>\n      <td>0.031203</td>\n      <td>0.008062</td>\n      <td>-0.045218</td>\n      <td>-0.021317</td>\n      <td>-0.054575</td>\n    </tr>\n    <tr>\n      <th>4</th>\n      <td>2008-08-14</td>\n      <td>0.007272</td>\n      <td>0.023187</td>\n      <td>0.022485</td>\n      <td>-0.027689</td>\n      <td>0.041283</td>\n      <td>0.037246</td>\n      <td>0.039393</td>\n      <td>0.002239</td>\n      <td>0.049105</td>\n      <td>...</td>\n      <td>0.048365</td>\n      <td>0.055074</td>\n      <td>0.078453</td>\n      <td>0.032827</td>\n      <td>-0.036714</td>\n      <td>0.023838</td>\n      <td>0.047548</td>\n      <td>0.054426</td>\n      <td>-0.072552</td>\n      <td>-0.024525</td>\n    </tr>\n  </tbody>\n</table>\n<p>5 rows × 5123 columns</p>\n</div>"
     },
     "metadata": {},
     "execution_count": 8
    }
   ],
   "source": [
    "embeddings_dataset = pd.read_csv('./data/embeddings_dataset.csv')\n",
    "embeddings_dataset.insert(1, \"percent_change\", magnitude_labels.tolist())\n",
    "embeddings_dataset.insert(2, \"spread_rel_open\", spread_labels.tolist())\n",
    "embeddings_dataset.head()"
   ]
  },
  {
   "cell_type": "markdown",
   "metadata": {},
   "source": [
    "To display the relationships between headlines in the news, we slice the tranformed dataset by only considering the TOP Reddit news story each day. Then, graphs displaying the cosine similarity metric below for the first number_days (starting 08-08-2008) can be referenced below."
   ]
  },
  {
   "cell_type": "code",
   "execution_count": 21,
   "metadata": {},
   "outputs": [
    {
     "output_type": "stream",
     "name": "stdout",
     "text": [
      "Georgia 'downs two Russian warplanes' as countries move to brink of war\n"
     ]
    }
   ],
   "source": [
    "def plot_similarity(features, rotation):\n",
    "    metric = cosine_similarity(features, features)\n",
    "    sns.set(font_scale = 1.2)\n",
    "    graph = sns.heatmap(metric, vmin = 0, vmax = 1)\n",
    "    graph.set_title(\"Semantic Textual Cosine Similarity\")"
   ]
  },
  {
   "cell_type": "code",
   "execution_count": 8,
   "metadata": {},
   "outputs": [
    {
     "data": {
      "image/png": "[encoded data removed]",
      "text/plain": [
       "<Figure size 432x288 with 2 Axes>"
      ]
     },
     "metadata": {},
     "output_type": "display_data"
    }
   ],
   "source": [
    "number_days = 10\n",
    "plot_similarity(embeddings_dataset.loc[0 : number_days - 1, \"Top1_feature_0\" : \"Top1_feature_511\"], 90)"
   ]
  },
  {
   "cell_type": "markdown",
   "metadata": {},
   "source": [
    "Lastly, lets take a peek at the top news headings for the following distinct pairings that have the highest indicated similarity between their embeddings: (0, 3), (1, 3), and (6, 8). We expext to see news headings that are semantically similar among these pairs."
   ]
  },
  {
   "cell_type": "code",
   "execution_count": 9,
   "metadata": {},
   "outputs": [
    {
     "name": "stdout",
     "output_type": "stream",
     "text": [
      "Day 0 heading: Georgia 'downs two Russian warplanes' as countries move to brink of war\n",
      "Day 3 heading: U.S. refuses Israel weapons to attack Iran: report\n",
      "  --> cosine similarity = 0.2979886424922489\n",
      "\n",
      "Day 1 heading: Why wont America and Nato help us? If they wont help us now, why did we help them in Iraq?\n",
      "Day 3 heading: U.S. refuses Israel weapons to attack Iran: report\n",
      "  --> cosine similarity = 0.3074834316059009\n",
      "\n",
      "Day 6 heading: In an Afghan prison, the majority of female prisoners are serving 20-year sentences for being victims of rape\n",
      "Day 8 heading: Two elderly Chinese women have been sentenced to a year of re-education through labor after they sought a permit to demonstrate in an official Olympic protest area.\n",
      "  --> cosine similarity = 0.38154694854352833\n",
      "\n"
     ]
    }
   ],
   "source": [
    "print(\"Day 0 heading: \" + combined_dataset[\"Top1\"][0])\n",
    "print(\"Day 3 heading: \" + combined_dataset[\"Top1\"][3])\n",
    "sim = cosine_similarity(\n",
    "    embeddings_dataset.loc[0 : 0, \"Top1_feature_0\" : \"Top1_feature_511\"], \n",
    "    embeddings_dataset.loc[3 : 3, \"Top1_feature_0\" : \"Top1_feature_511\"]\n",
    ")\n",
    "print(\"  --> cosine similarity = \" + str(sim[0][0]) + \"\\n\")\n",
    "\n",
    "print(\"Day 1 heading: \" + combined_dataset[\"Top1\"][1])\n",
    "print(\"Day 3 heading: \" + combined_dataset[\"Top1\"][3])\n",
    "sim = cosine_similarity(\n",
    "    embeddings_dataset.loc[1 : 1, \"Top1_feature_0\" : \"Top1_feature_511\"], \n",
    "    embeddings_dataset.loc[3 : 3, \"Top1_feature_0\" : \"Top1_feature_511\"]\n",
    ")\n",
    "print(\"  --> cosine similarity = \" + str(sim[0][0]) + \"\\n\")\n",
    "\n",
    "print(\"Day 6 heading: \" + combined_dataset[\"Top1\"][6])\n",
    "print(\"Day 8 heading: \" + combined_dataset[\"Top1\"][8])\n",
    "sim = cosine_similarity(\n",
    "    embeddings_dataset.loc[6 : 6, \"Top1_feature_0\" : \"Top1_feature_511\"], \n",
    "    embeddings_dataset.loc[8 : 8, \"Top1_feature_0\" : \"Top1_feature_511\"]\n",
    ")\n",
    "print(\"  --> cosine similarity = \" + str(sim[0][0]) + \"\\n\")"
   ]
  },
  {
   "cell_type": "markdown",
   "metadata": {},
   "source": [
    "Here, in the above comparison, we can see that (0, 1, 3) are all about war, Isreal, Iraq/Iran. Additionally, we can see that (6, 8) both involve the topic of prison."
   ]
  },
  {
   "cell_type": "markdown",
   "metadata": {},
   "source": [
    "## In-Depth Data Investigation\n",
    "In this section, we explore how different techniques and approaches may be utilized to extract insights."
   ]
  },
  {
   "cell_type": "code",
   "execution_count": 10,
   "metadata": {},
   "outputs": [],
   "source": [
    "embeddings_dataset.loc\n",
    "def find_k_cluster():\n",
    "    return"
   ]
  },
  {
   "cell_type": "code",
   "execution_count": 40,
   "metadata": {},
   "outputs": [],
   "source": [
    "from sklearn.cluster import KMeans\n",
    "numClusters = 16\n",
    "def getKMeansModel(data, K=numClusters):\n",
    "    # Make the model and fit it to the data\n",
    "    kMeansModel = KMeans(n_clusters=K)\n",
    "    kMeansModel.fit(data)\n",
    "    \n",
    "    # Print the centroids\n",
    "    centroids = kMeansModel.cluster_centers_\n",
    "    \n",
    "    return kMeansModel"
   ]
  },
  {
   "cell_type": "code",
   "execution_count": 29,
   "metadata": {},
   "outputs": [],
   "source": [
    "# Predict which cluster the data falls into. Expects data to be a 2d array\n",
    "from sklearn.metrics import silhouette_samples, silhouette_score\n",
    "\n",
    "def predictCluster(model, data):\n",
    "    return model.predict(data)\n",
    "def silhouette(data, labels):\n",
    "    return silhouette_score(data, labels)"
   ]
  },
  {
   "cell_type": "code",
   "execution_count": 35,
   "metadata": {},
   "outputs": [
    {
     "output_type": "stream",
     "name": "stdout",
     "text": [
      "[[-0.00108613 -0.04884742 -0.01481004 ...  0.01184958 -0.03488505\n  -0.02284808]\n [-0.01343332  0.00721984 -0.01082638 ... -0.0042142  -0.02660332\n  -0.05223573]\n [ 0.03389676 -0.00129048 -0.03033362 ...  0.01727207 -0.0350223\n  -0.06933626]\n ...\n [-0.0009939  -0.02578813 -0.010764   ... -0.00388638 -0.04226019\n  -0.05551492]\n [-0.02007069 -0.02440115 -0.01632773 ...  0.02954255 -0.02538575\n  -0.01484244]\n [ 0.00411594 -0.03925119  0.03694685 ...  0.0029347  -0.02219541\n  -0.05090907]]\n"
     ]
    }
   ],
   "source": [
    "# Grab all features excluding dates\n",
    "allFeatures = embeddings_dataset.loc[:, \"Top1_feature_0\" : ]\n",
    "\n",
    "# Convert to np array\n",
    "allFeatures = allFeatures.to_numpy()\n",
    "\n",
    "# Get the model\n",
    "kMeansModel = getKMeansModel(allFeatures, 20)"
   ]
  },
  {
   "cell_type": "code",
   "execution_count": 44,
   "metadata": {
    "tags": []
   },
   "outputs": [
    {
     "output_type": "stream",
     "name": "stdout",
     "text": [
      "making model for 2 clusters\n",
      "making model for 3 clusters\n",
      "making model for 4 clusters\n",
      "making model for 5 clusters\n",
      "making model for 6 clusters\n",
      "making model for 7 clusters\n",
      "making model for 8 clusters\n",
      "making model for 9 clusters\n",
      "making model for 10 clusters\n",
      "making model for 11 clusters\n",
      "making model for 12 clusters\n",
      "making model for 13 clusters\n",
      "making model for 14 clusters\n",
      "making model for 15 clusters\n",
      "making model for 16 clusters\n",
      "making model for 17 clusters\n",
      "making model for 18 clusters\n",
      "making model for 19 clusters\n",
      "making model for 20 clusters\n",
      "making model for 21 clusters\n",
      "making model for 22 clusters\n"
     ]
    },
    {
     "output_type": "display_data",
     "data": {
      "text/plain": "<Figure size 432x288 with 1 Axes>",
      "image/svg+xml": "<?xml version=\"1.0\" encoding=\"utf-8\" standalone=\"no\"?>\r\n<!DOCTYPE svg PUBLIC \"-//W3C//DTD SVG 1.1//EN\"\r\n  \"http://www.w3.org/Graphics/SVG/1.1/DTD/svg11.dtd\">\r\n<!-- Created with matplotlib (https://matplotlib.org/) -->\r\n<svg height=\"277.314375pt\" version=\"1.1\" viewBox=\"0 0 398.50625 277.314375\" width=\"398.50625pt\" xmlns=\"http://www.w3.org/2000/svg\" xmlns:xlink=\"http://www.w3.org/1999/xlink\">\r\n <defs>\r\n  <style type=\"text/css\">\r\n*{stroke-linecap:butt;stroke-linejoin:round;}\r\n  </style>\r\n </defs>\r\n <g id=\"figure_1\">\r\n  <g id=\"patch_1\">\r\n   <path d=\"M 0 277.314375 \r\nL 398.50625 277.314375 \r\nL 398.50625 0 \r\nL 0 0 \r\nz\r\n\" style=\"fill:none;\"/>\r\n  </g>\r\n  <g id=\"axes_1\">\r\n   <g id=\"patch_2\">\r\n    <path d=\"M 56.50625 239.758125 \r\nL 391.30625 239.758125 \r\nL 391.30625 22.318125 \r\nL 56.50625 22.318125 \r\nz\r\n\" style=\"fill:#ffffff;\"/>\r\n   </g>\r\n   <g id=\"matplotlib.axis_1\">\r\n    <g id=\"xtick_1\">\r\n     <g id=\"line2d_1\">\r\n      <defs>\r\n       <path d=\"M 0 0 \r\nL 0 3.5 \r\n\" id=\"m113c313f78\" style=\"stroke:#000000;stroke-width:0.8;\"/>\r\n      </defs>\r\n      <g>\r\n       <use style=\"stroke:#000000;stroke-width:0.8;\" x=\"71.724432\" xlink:href=\"#m113c313f78\" y=\"239.758125\"/>\r\n      </g>\r\n     </g>\r\n     <g id=\"text_1\">\r\n      <!-- 0.0 -->\r\n      <defs>\r\n       <path d=\"M 31.78125 66.40625 \r\nQ 24.171875 66.40625 20.328125 58.90625 \r\nQ 16.5 51.421875 16.5 36.375 \r\nQ 16.5 21.390625 20.328125 13.890625 \r\nQ 24.171875 6.390625 31.78125 6.390625 \r\nQ 39.453125 6.390625 43.28125 13.890625 \r\nQ 47.125 21.390625 47.125 36.375 \r\nQ 47.125 51.421875 43.28125 58.90625 \r\nQ 39.453125 66.40625 31.78125 66.40625 \r\nz\r\nM 31.78125 74.21875 \r\nQ 44.046875 74.21875 50.515625 64.515625 \r\nQ 56.984375 54.828125 56.984375 36.375 \r\nQ 56.984375 17.96875 50.515625 8.265625 \r\nQ 44.046875 -1.421875 31.78125 -1.421875 \r\nQ 19.53125 -1.421875 13.0625 8.265625 \r\nQ 6.59375 17.96875 6.59375 36.375 \r\nQ 6.59375 54.828125 13.0625 64.515625 \r\nQ 19.53125 74.21875 31.78125 74.21875 \r\nz\r\n\" id=\"DejaVuSans-48\"/>\r\n       <path d=\"M 10.6875 12.40625 \r\nL 21 12.40625 \r\nL 21 0 \r\nL 10.6875 0 \r\nz\r\n\" id=\"DejaVuSans-46\"/>\r\n      </defs>\r\n      <g transform=\"translate(63.772869 254.356562)scale(0.1 -0.1)\">\r\n       <use xlink:href=\"#DejaVuSans-48\"/>\r\n       <use x=\"63.623047\" xlink:href=\"#DejaVuSans-46\"/>\r\n       <use x=\"95.410156\" xlink:href=\"#DejaVuSans-48\"/>\r\n      </g>\r\n     </g>\r\n    </g>\r\n    <g id=\"xtick_2\">\r\n     <g id=\"line2d_2\">\r\n      <g>\r\n       <use style=\"stroke:#000000;stroke-width:0.8;\" x=\"109.769886\" xlink:href=\"#m113c313f78\" y=\"239.758125\"/>\r\n      </g>\r\n     </g>\r\n     <g id=\"text_2\">\r\n      <!-- 2.5 -->\r\n      <defs>\r\n       <path d=\"M 19.1875 8.296875 \r\nL 53.609375 8.296875 \r\nL 53.609375 0 \r\nL 7.328125 0 \r\nL 7.328125 8.296875 \r\nQ 12.9375 14.109375 22.625 23.890625 \r\nQ 32.328125 33.6875 34.8125 36.53125 \r\nQ 39.546875 41.84375 41.421875 45.53125 \r\nQ 43.3125 49.21875 43.3125 52.78125 \r\nQ 43.3125 58.59375 39.234375 62.25 \r\nQ 35.15625 65.921875 28.609375 65.921875 \r\nQ 23.96875 65.921875 18.8125 64.3125 \r\nQ 13.671875 62.703125 7.8125 59.421875 \r\nL 7.8125 69.390625 \r\nQ 13.765625 71.78125 18.9375 73 \r\nQ 24.125 74.21875 28.421875 74.21875 \r\nQ 39.75 74.21875 46.484375 68.546875 \r\nQ 53.21875 62.890625 53.21875 53.421875 \r\nQ 53.21875 48.921875 51.53125 44.890625 \r\nQ 49.859375 40.875 45.40625 35.40625 \r\nQ 44.1875 33.984375 37.640625 27.21875 \r\nQ 31.109375 20.453125 19.1875 8.296875 \r\nz\r\n\" id=\"DejaVuSans-50\"/>\r\n       <path d=\"M 10.796875 72.90625 \r\nL 49.515625 72.90625 \r\nL 49.515625 64.59375 \r\nL 19.828125 64.59375 \r\nL 19.828125 46.734375 \r\nQ 21.96875 47.46875 24.109375 47.828125 \r\nQ 26.265625 48.1875 28.421875 48.1875 \r\nQ 40.625 48.1875 47.75 41.5 \r\nQ 54.890625 34.8125 54.890625 23.390625 \r\nQ 54.890625 11.625 47.5625 5.09375 \r\nQ 40.234375 -1.421875 26.90625 -1.421875 \r\nQ 22.3125 -1.421875 17.546875 -0.640625 \r\nQ 12.796875 0.140625 7.71875 1.703125 \r\nL 7.71875 11.625 \r\nQ 12.109375 9.234375 16.796875 8.0625 \r\nQ 21.484375 6.890625 26.703125 6.890625 \r\nQ 35.15625 6.890625 40.078125 11.328125 \r\nQ 45.015625 15.765625 45.015625 23.390625 \r\nQ 45.015625 31 40.078125 35.4375 \r\nQ 35.15625 39.890625 26.703125 39.890625 \r\nQ 22.75 39.890625 18.8125 39.015625 \r\nQ 14.890625 38.140625 10.796875 36.28125 \r\nz\r\n\" id=\"DejaVuSans-53\"/>\r\n      </defs>\r\n      <g transform=\"translate(101.818324 254.356562)scale(0.1 -0.1)\">\r\n       <use xlink:href=\"#DejaVuSans-50\"/>\r\n       <use x=\"63.623047\" xlink:href=\"#DejaVuSans-46\"/>\r\n       <use x=\"95.410156\" xlink:href=\"#DejaVuSans-53\"/>\r\n      </g>\r\n     </g>\r\n    </g>\r\n    <g id=\"xtick_3\">\r\n     <g id=\"line2d_3\">\r\n      <g>\r\n       <use style=\"stroke:#000000;stroke-width:0.8;\" x=\"147.815341\" xlink:href=\"#m113c313f78\" y=\"239.758125\"/>\r\n      </g>\r\n     </g>\r\n     <g id=\"text_3\">\r\n      <!-- 5.0 -->\r\n      <g transform=\"translate(139.863778 254.356562)scale(0.1 -0.1)\">\r\n       <use xlink:href=\"#DejaVuSans-53\"/>\r\n       <use x=\"63.623047\" xlink:href=\"#DejaVuSans-46\"/>\r\n       <use x=\"95.410156\" xlink:href=\"#DejaVuSans-48\"/>\r\n      </g>\r\n     </g>\r\n    </g>\r\n    <g id=\"xtick_4\">\r\n     <g id=\"line2d_4\">\r\n      <g>\r\n       <use style=\"stroke:#000000;stroke-width:0.8;\" x=\"185.860795\" xlink:href=\"#m113c313f78\" y=\"239.758125\"/>\r\n      </g>\r\n     </g>\r\n     <g id=\"text_4\">\r\n      <!-- 7.5 -->\r\n      <defs>\r\n       <path d=\"M 8.203125 72.90625 \r\nL 55.078125 72.90625 \r\nL 55.078125 68.703125 \r\nL 28.609375 0 \r\nL 18.3125 0 \r\nL 43.21875 64.59375 \r\nL 8.203125 64.59375 \r\nz\r\n\" id=\"DejaVuSans-55\"/>\r\n      </defs>\r\n      <g transform=\"translate(177.909233 254.356562)scale(0.1 -0.1)\">\r\n       <use xlink:href=\"#DejaVuSans-55\"/>\r\n       <use x=\"63.623047\" xlink:href=\"#DejaVuSans-46\"/>\r\n       <use x=\"95.410156\" xlink:href=\"#DejaVuSans-53\"/>\r\n      </g>\r\n     </g>\r\n    </g>\r\n    <g id=\"xtick_5\">\r\n     <g id=\"line2d_5\">\r\n      <g>\r\n       <use style=\"stroke:#000000;stroke-width:0.8;\" x=\"223.90625\" xlink:href=\"#m113c313f78\" y=\"239.758125\"/>\r\n      </g>\r\n     </g>\r\n     <g id=\"text_5\">\r\n      <!-- 10.0 -->\r\n      <defs>\r\n       <path d=\"M 12.40625 8.296875 \r\nL 28.515625 8.296875 \r\nL 28.515625 63.921875 \r\nL 10.984375 60.40625 \r\nL 10.984375 69.390625 \r\nL 28.421875 72.90625 \r\nL 38.28125 72.90625 \r\nL 38.28125 8.296875 \r\nL 54.390625 8.296875 \r\nL 54.390625 0 \r\nL 12.40625 0 \r\nz\r\n\" id=\"DejaVuSans-49\"/>\r\n      </defs>\r\n      <g transform=\"translate(212.773438 254.356562)scale(0.1 -0.1)\">\r\n       <use xlink:href=\"#DejaVuSans-49\"/>\r\n       <use x=\"63.623047\" xlink:href=\"#DejaVuSans-48\"/>\r\n       <use x=\"127.246094\" xlink:href=\"#DejaVuSans-46\"/>\r\n       <use x=\"159.033203\" xlink:href=\"#DejaVuSans-48\"/>\r\n      </g>\r\n     </g>\r\n    </g>\r\n    <g id=\"xtick_6\">\r\n     <g id=\"line2d_6\">\r\n      <g>\r\n       <use style=\"stroke:#000000;stroke-width:0.8;\" x=\"261.951705\" xlink:href=\"#m113c313f78\" y=\"239.758125\"/>\r\n      </g>\r\n     </g>\r\n     <g id=\"text_6\">\r\n      <!-- 12.5 -->\r\n      <g transform=\"translate(250.818892 254.356562)scale(0.1 -0.1)\">\r\n       <use xlink:href=\"#DejaVuSans-49\"/>\r\n       <use x=\"63.623047\" xlink:href=\"#DejaVuSans-50\"/>\r\n       <use x=\"127.246094\" xlink:href=\"#DejaVuSans-46\"/>\r\n       <use x=\"159.033203\" xlink:href=\"#DejaVuSans-53\"/>\r\n      </g>\r\n     </g>\r\n    </g>\r\n    <g id=\"xtick_7\">\r\n     <g id=\"line2d_7\">\r\n      <g>\r\n       <use style=\"stroke:#000000;stroke-width:0.8;\" x=\"299.997159\" xlink:href=\"#m113c313f78\" y=\"239.758125\"/>\r\n      </g>\r\n     </g>\r\n     <g id=\"text_7\">\r\n      <!-- 15.0 -->\r\n      <g transform=\"translate(288.864347 254.356562)scale(0.1 -0.1)\">\r\n       <use xlink:href=\"#DejaVuSans-49\"/>\r\n       <use x=\"63.623047\" xlink:href=\"#DejaVuSans-53\"/>\r\n       <use x=\"127.246094\" xlink:href=\"#DejaVuSans-46\"/>\r\n       <use x=\"159.033203\" xlink:href=\"#DejaVuSans-48\"/>\r\n      </g>\r\n     </g>\r\n    </g>\r\n    <g id=\"xtick_8\">\r\n     <g id=\"line2d_8\">\r\n      <g>\r\n       <use style=\"stroke:#000000;stroke-width:0.8;\" x=\"338.042614\" xlink:href=\"#m113c313f78\" y=\"239.758125\"/>\r\n      </g>\r\n     </g>\r\n     <g id=\"text_8\">\r\n      <!-- 17.5 -->\r\n      <g transform=\"translate(326.909801 254.356562)scale(0.1 -0.1)\">\r\n       <use xlink:href=\"#DejaVuSans-49\"/>\r\n       <use x=\"63.623047\" xlink:href=\"#DejaVuSans-55\"/>\r\n       <use x=\"127.246094\" xlink:href=\"#DejaVuSans-46\"/>\r\n       <use x=\"159.033203\" xlink:href=\"#DejaVuSans-53\"/>\r\n      </g>\r\n     </g>\r\n    </g>\r\n    <g id=\"xtick_9\">\r\n     <g id=\"line2d_9\">\r\n      <g>\r\n       <use style=\"stroke:#000000;stroke-width:0.8;\" x=\"376.088068\" xlink:href=\"#m113c313f78\" y=\"239.758125\"/>\r\n      </g>\r\n     </g>\r\n     <g id=\"text_9\">\r\n      <!-- 20.0 -->\r\n      <g transform=\"translate(364.955256 254.356562)scale(0.1 -0.1)\">\r\n       <use xlink:href=\"#DejaVuSans-50\"/>\r\n       <use x=\"63.623047\" xlink:href=\"#DejaVuSans-48\"/>\r\n       <use x=\"127.246094\" xlink:href=\"#DejaVuSans-46\"/>\r\n       <use x=\"159.033203\" xlink:href=\"#DejaVuSans-48\"/>\r\n      </g>\r\n     </g>\r\n    </g>\r\n    <g id=\"text_10\">\r\n     <!-- Number of clusters -->\r\n     <defs>\r\n      <path d=\"M 9.8125 72.90625 \r\nL 23.09375 72.90625 \r\nL 55.421875 11.921875 \r\nL 55.421875 72.90625 \r\nL 64.984375 72.90625 \r\nL 64.984375 0 \r\nL 51.703125 0 \r\nL 19.390625 60.984375 \r\nL 19.390625 0 \r\nL 9.8125 0 \r\nz\r\n\" id=\"DejaVuSans-78\"/>\r\n      <path d=\"M 8.5 21.578125 \r\nL 8.5 54.6875 \r\nL 17.484375 54.6875 \r\nL 17.484375 21.921875 \r\nQ 17.484375 14.15625 20.5 10.265625 \r\nQ 23.53125 6.390625 29.59375 6.390625 \r\nQ 36.859375 6.390625 41.078125 11.03125 \r\nQ 45.3125 15.671875 45.3125 23.6875 \r\nL 45.3125 54.6875 \r\nL 54.296875 54.6875 \r\nL 54.296875 0 \r\nL 45.3125 0 \r\nL 45.3125 8.40625 \r\nQ 42.046875 3.421875 37.71875 1 \r\nQ 33.40625 -1.421875 27.6875 -1.421875 \r\nQ 18.265625 -1.421875 13.375 4.4375 \r\nQ 8.5 10.296875 8.5 21.578125 \r\nz\r\nM 31.109375 56 \r\nz\r\n\" id=\"DejaVuSans-117\"/>\r\n      <path d=\"M 52 44.1875 \r\nQ 55.375 50.25 60.0625 53.125 \r\nQ 64.75 56 71.09375 56 \r\nQ 79.640625 56 84.28125 50.015625 \r\nQ 88.921875 44.046875 88.921875 33.015625 \r\nL 88.921875 0 \r\nL 79.890625 0 \r\nL 79.890625 32.71875 \r\nQ 79.890625 40.578125 77.09375 44.375 \r\nQ 74.3125 48.1875 68.609375 48.1875 \r\nQ 61.625 48.1875 57.5625 43.546875 \r\nQ 53.515625 38.921875 53.515625 30.90625 \r\nL 53.515625 0 \r\nL 44.484375 0 \r\nL 44.484375 32.71875 \r\nQ 44.484375 40.625 41.703125 44.40625 \r\nQ 38.921875 48.1875 33.109375 48.1875 \r\nQ 26.21875 48.1875 22.15625 43.53125 \r\nQ 18.109375 38.875 18.109375 30.90625 \r\nL 18.109375 0 \r\nL 9.078125 0 \r\nL 9.078125 54.6875 \r\nL 18.109375 54.6875 \r\nL 18.109375 46.1875 \r\nQ 21.1875 51.21875 25.484375 53.609375 \r\nQ 29.78125 56 35.6875 56 \r\nQ 41.65625 56 45.828125 52.96875 \r\nQ 50 49.953125 52 44.1875 \r\nz\r\n\" id=\"DejaVuSans-109\"/>\r\n      <path d=\"M 48.6875 27.296875 \r\nQ 48.6875 37.203125 44.609375 42.84375 \r\nQ 40.53125 48.484375 33.40625 48.484375 \r\nQ 26.265625 48.484375 22.1875 42.84375 \r\nQ 18.109375 37.203125 18.109375 27.296875 \r\nQ 18.109375 17.390625 22.1875 11.75 \r\nQ 26.265625 6.109375 33.40625 6.109375 \r\nQ 40.53125 6.109375 44.609375 11.75 \r\nQ 48.6875 17.390625 48.6875 27.296875 \r\nz\r\nM 18.109375 46.390625 \r\nQ 20.953125 51.265625 25.265625 53.625 \r\nQ 29.59375 56 35.59375 56 \r\nQ 45.5625 56 51.78125 48.09375 \r\nQ 58.015625 40.1875 58.015625 27.296875 \r\nQ 58.015625 14.40625 51.78125 6.484375 \r\nQ 45.5625 -1.421875 35.59375 -1.421875 \r\nQ 29.59375 -1.421875 25.265625 0.953125 \r\nQ 20.953125 3.328125 18.109375 8.203125 \r\nL 18.109375 0 \r\nL 9.078125 0 \r\nL 9.078125 75.984375 \r\nL 18.109375 75.984375 \r\nz\r\n\" id=\"DejaVuSans-98\"/>\r\n      <path d=\"M 56.203125 29.59375 \r\nL 56.203125 25.203125 \r\nL 14.890625 25.203125 \r\nQ 15.484375 15.921875 20.484375 11.0625 \r\nQ 25.484375 6.203125 34.421875 6.203125 \r\nQ 39.59375 6.203125 44.453125 7.46875 \r\nQ 49.3125 8.734375 54.109375 11.28125 \r\nL 54.109375 2.78125 \r\nQ 49.265625 0.734375 44.1875 -0.34375 \r\nQ 39.109375 -1.421875 33.890625 -1.421875 \r\nQ 20.796875 -1.421875 13.15625 6.1875 \r\nQ 5.515625 13.8125 5.515625 26.8125 \r\nQ 5.515625 40.234375 12.765625 48.109375 \r\nQ 20.015625 56 32.328125 56 \r\nQ 43.359375 56 49.78125 48.890625 \r\nQ 56.203125 41.796875 56.203125 29.59375 \r\nz\r\nM 47.21875 32.234375 \r\nQ 47.125 39.59375 43.09375 43.984375 \r\nQ 39.0625 48.390625 32.421875 48.390625 \r\nQ 24.90625 48.390625 20.390625 44.140625 \r\nQ 15.875 39.890625 15.1875 32.171875 \r\nz\r\n\" id=\"DejaVuSans-101\"/>\r\n      <path d=\"M 41.109375 46.296875 \r\nQ 39.59375 47.171875 37.8125 47.578125 \r\nQ 36.03125 48 33.890625 48 \r\nQ 26.265625 48 22.1875 43.046875 \r\nQ 18.109375 38.09375 18.109375 28.8125 \r\nL 18.109375 0 \r\nL 9.078125 0 \r\nL 9.078125 54.6875 \r\nL 18.109375 54.6875 \r\nL 18.109375 46.1875 \r\nQ 20.953125 51.171875 25.484375 53.578125 \r\nQ 30.03125 56 36.53125 56 \r\nQ 37.453125 56 38.578125 55.875 \r\nQ 39.703125 55.765625 41.0625 55.515625 \r\nz\r\n\" id=\"DejaVuSans-114\"/>\r\n      <path id=\"DejaVuSans-32\"/>\r\n      <path d=\"M 30.609375 48.390625 \r\nQ 23.390625 48.390625 19.1875 42.75 \r\nQ 14.984375 37.109375 14.984375 27.296875 \r\nQ 14.984375 17.484375 19.15625 11.84375 \r\nQ 23.34375 6.203125 30.609375 6.203125 \r\nQ 37.796875 6.203125 41.984375 11.859375 \r\nQ 46.1875 17.53125 46.1875 27.296875 \r\nQ 46.1875 37.015625 41.984375 42.703125 \r\nQ 37.796875 48.390625 30.609375 48.390625 \r\nz\r\nM 30.609375 56 \r\nQ 42.328125 56 49.015625 48.375 \r\nQ 55.71875 40.765625 55.71875 27.296875 \r\nQ 55.71875 13.875 49.015625 6.21875 \r\nQ 42.328125 -1.421875 30.609375 -1.421875 \r\nQ 18.84375 -1.421875 12.171875 6.21875 \r\nQ 5.515625 13.875 5.515625 27.296875 \r\nQ 5.515625 40.765625 12.171875 48.375 \r\nQ 18.84375 56 30.609375 56 \r\nz\r\n\" id=\"DejaVuSans-111\"/>\r\n      <path d=\"M 37.109375 75.984375 \r\nL 37.109375 68.5 \r\nL 28.515625 68.5 \r\nQ 23.6875 68.5 21.796875 66.546875 \r\nQ 19.921875 64.59375 19.921875 59.515625 \r\nL 19.921875 54.6875 \r\nL 34.71875 54.6875 \r\nL 34.71875 47.703125 \r\nL 19.921875 47.703125 \r\nL 19.921875 0 \r\nL 10.890625 0 \r\nL 10.890625 47.703125 \r\nL 2.296875 47.703125 \r\nL 2.296875 54.6875 \r\nL 10.890625 54.6875 \r\nL 10.890625 58.5 \r\nQ 10.890625 67.625 15.140625 71.796875 \r\nQ 19.390625 75.984375 28.609375 75.984375 \r\nz\r\n\" id=\"DejaVuSans-102\"/>\r\n      <path d=\"M 48.78125 52.59375 \r\nL 48.78125 44.1875 \r\nQ 44.96875 46.296875 41.140625 47.34375 \r\nQ 37.3125 48.390625 33.40625 48.390625 \r\nQ 24.65625 48.390625 19.8125 42.84375 \r\nQ 14.984375 37.3125 14.984375 27.296875 \r\nQ 14.984375 17.28125 19.8125 11.734375 \r\nQ 24.65625 6.203125 33.40625 6.203125 \r\nQ 37.3125 6.203125 41.140625 7.25 \r\nQ 44.96875 8.296875 48.78125 10.40625 \r\nL 48.78125 2.09375 \r\nQ 45.015625 0.34375 40.984375 -0.53125 \r\nQ 36.96875 -1.421875 32.421875 -1.421875 \r\nQ 20.0625 -1.421875 12.78125 6.34375 \r\nQ 5.515625 14.109375 5.515625 27.296875 \r\nQ 5.515625 40.671875 12.859375 48.328125 \r\nQ 20.21875 56 33.015625 56 \r\nQ 37.15625 56 41.109375 55.140625 \r\nQ 45.0625 54.296875 48.78125 52.59375 \r\nz\r\n\" id=\"DejaVuSans-99\"/>\r\n      <path d=\"M 9.421875 75.984375 \r\nL 18.40625 75.984375 \r\nL 18.40625 0 \r\nL 9.421875 0 \r\nz\r\n\" id=\"DejaVuSans-108\"/>\r\n      <path d=\"M 44.28125 53.078125 \r\nL 44.28125 44.578125 \r\nQ 40.484375 46.53125 36.375 47.5 \r\nQ 32.28125 48.484375 27.875 48.484375 \r\nQ 21.1875 48.484375 17.84375 46.4375 \r\nQ 14.5 44.390625 14.5 40.28125 \r\nQ 14.5 37.15625 16.890625 35.375 \r\nQ 19.28125 33.59375 26.515625 31.984375 \r\nL 29.59375 31.296875 \r\nQ 39.15625 29.25 43.1875 25.515625 \r\nQ 47.21875 21.78125 47.21875 15.09375 \r\nQ 47.21875 7.46875 41.1875 3.015625 \r\nQ 35.15625 -1.421875 24.609375 -1.421875 \r\nQ 20.21875 -1.421875 15.453125 -0.5625 \r\nQ 10.6875 0.296875 5.421875 2 \r\nL 5.421875 11.28125 \r\nQ 10.40625 8.6875 15.234375 7.390625 \r\nQ 20.0625 6.109375 24.8125 6.109375 \r\nQ 31.15625 6.109375 34.5625 8.28125 \r\nQ 37.984375 10.453125 37.984375 14.40625 \r\nQ 37.984375 18.0625 35.515625 20.015625 \r\nQ 33.0625 21.96875 24.703125 23.78125 \r\nL 21.578125 24.515625 \r\nQ 13.234375 26.265625 9.515625 29.90625 \r\nQ 5.8125 33.546875 5.8125 39.890625 \r\nQ 5.8125 47.609375 11.28125 51.796875 \r\nQ 16.75 56 26.8125 56 \r\nQ 31.78125 56 36.171875 55.265625 \r\nQ 40.578125 54.546875 44.28125 53.078125 \r\nz\r\n\" id=\"DejaVuSans-115\"/>\r\n      <path d=\"M 18.3125 70.21875 \r\nL 18.3125 54.6875 \r\nL 36.8125 54.6875 \r\nL 36.8125 47.703125 \r\nL 18.3125 47.703125 \r\nL 18.3125 18.015625 \r\nQ 18.3125 11.328125 20.140625 9.421875 \r\nQ 21.96875 7.515625 27.59375 7.515625 \r\nL 36.8125 7.515625 \r\nL 36.8125 0 \r\nL 27.59375 0 \r\nQ 17.1875 0 13.234375 3.875 \r\nQ 9.28125 7.765625 9.28125 18.015625 \r\nL 9.28125 47.703125 \r\nL 2.6875 47.703125 \r\nL 2.6875 54.6875 \r\nL 9.28125 54.6875 \r\nL 9.28125 70.21875 \r\nz\r\n\" id=\"DejaVuSans-116\"/>\r\n     </defs>\r\n     <g transform=\"translate(176.214063 268.034687)scale(0.1 -0.1)\">\r\n      <use xlink:href=\"#DejaVuSans-78\"/>\r\n      <use x=\"74.804688\" xlink:href=\"#DejaVuSans-117\"/>\r\n      <use x=\"138.183594\" xlink:href=\"#DejaVuSans-109\"/>\r\n      <use x=\"235.595703\" xlink:href=\"#DejaVuSans-98\"/>\r\n      <use x=\"299.072266\" xlink:href=\"#DejaVuSans-101\"/>\r\n      <use x=\"360.595703\" xlink:href=\"#DejaVuSans-114\"/>\r\n      <use x=\"401.708984\" xlink:href=\"#DejaVuSans-32\"/>\r\n      <use x=\"433.496094\" xlink:href=\"#DejaVuSans-111\"/>\r\n      <use x=\"494.677734\" xlink:href=\"#DejaVuSans-102\"/>\r\n      <use x=\"529.882812\" xlink:href=\"#DejaVuSans-32\"/>\r\n      <use x=\"561.669922\" xlink:href=\"#DejaVuSans-99\"/>\r\n      <use x=\"616.650391\" xlink:href=\"#DejaVuSans-108\"/>\r\n      <use x=\"644.433594\" xlink:href=\"#DejaVuSans-117\"/>\r\n      <use x=\"707.8125\" xlink:href=\"#DejaVuSans-115\"/>\r\n      <use x=\"759.912109\" xlink:href=\"#DejaVuSans-116\"/>\r\n      <use x=\"799.121094\" xlink:href=\"#DejaVuSans-101\"/>\r\n      <use x=\"860.644531\" xlink:href=\"#DejaVuSans-114\"/>\r\n      <use x=\"901.757812\" xlink:href=\"#DejaVuSans-115\"/>\r\n     </g>\r\n    </g>\r\n   </g>\r\n   <g id=\"matplotlib.axis_2\">\r\n    <g id=\"ytick_1\">\r\n     <g id=\"line2d_10\">\r\n      <defs>\r\n       <path d=\"M 0 0 \r\nL -3.5 0 \r\n\" id=\"mc2657f8c03\" style=\"stroke:#000000;stroke-width:0.8;\"/>\r\n      </defs>\r\n      <g>\r\n       <use style=\"stroke:#000000;stroke-width:0.8;\" x=\"56.50625\" xlink:href=\"#mc2657f8c03\" y=\"211.822872\"/>\r\n      </g>\r\n     </g>\r\n     <g id=\"text_11\">\r\n      <!-- 0.018 -->\r\n      <defs>\r\n       <path d=\"M 31.78125 34.625 \r\nQ 24.75 34.625 20.71875 30.859375 \r\nQ 16.703125 27.09375 16.703125 20.515625 \r\nQ 16.703125 13.921875 20.71875 10.15625 \r\nQ 24.75 6.390625 31.78125 6.390625 \r\nQ 38.8125 6.390625 42.859375 10.171875 \r\nQ 46.921875 13.96875 46.921875 20.515625 \r\nQ 46.921875 27.09375 42.890625 30.859375 \r\nQ 38.875 34.625 31.78125 34.625 \r\nz\r\nM 21.921875 38.8125 \r\nQ 15.578125 40.375 12.03125 44.71875 \r\nQ 8.5 49.078125 8.5 55.328125 \r\nQ 8.5 64.0625 14.71875 69.140625 \r\nQ 20.953125 74.21875 31.78125 74.21875 \r\nQ 42.671875 74.21875 48.875 69.140625 \r\nQ 55.078125 64.0625 55.078125 55.328125 \r\nQ 55.078125 49.078125 51.53125 44.71875 \r\nQ 48 40.375 41.703125 38.8125 \r\nQ 48.828125 37.15625 52.796875 32.3125 \r\nQ 56.78125 27.484375 56.78125 20.515625 \r\nQ 56.78125 9.90625 50.3125 4.234375 \r\nQ 43.84375 -1.421875 31.78125 -1.421875 \r\nQ 19.734375 -1.421875 13.25 4.234375 \r\nQ 6.78125 9.90625 6.78125 20.515625 \r\nQ 6.78125 27.484375 10.78125 32.3125 \r\nQ 14.796875 37.15625 21.921875 38.8125 \r\nz\r\nM 18.3125 54.390625 \r\nQ 18.3125 48.734375 21.84375 45.5625 \r\nQ 25.390625 42.390625 31.78125 42.390625 \r\nQ 38.140625 42.390625 41.71875 45.5625 \r\nQ 45.3125 48.734375 45.3125 54.390625 \r\nQ 45.3125 60.0625 41.71875 63.234375 \r\nQ 38.140625 66.40625 31.78125 66.40625 \r\nQ 25.390625 66.40625 21.84375 63.234375 \r\nQ 18.3125 60.0625 18.3125 54.390625 \r\nz\r\n\" id=\"DejaVuSans-56\"/>\r\n      </defs>\r\n      <g transform=\"translate(20.878125 215.62209)scale(0.1 -0.1)\">\r\n       <use xlink:href=\"#DejaVuSans-48\"/>\r\n       <use x=\"63.623047\" xlink:href=\"#DejaVuSans-46\"/>\r\n       <use x=\"95.410156\" xlink:href=\"#DejaVuSans-48\"/>\r\n       <use x=\"159.033203\" xlink:href=\"#DejaVuSans-49\"/>\r\n       <use x=\"222.65625\" xlink:href=\"#DejaVuSans-56\"/>\r\n      </g>\r\n     </g>\r\n    </g>\r\n    <g id=\"ytick_2\">\r\n     <g id=\"line2d_11\">\r\n      <g>\r\n       <use style=\"stroke:#000000;stroke-width:0.8;\" x=\"56.50625\" xlink:href=\"#mc2657f8c03\" y=\"183.677323\"/>\r\n      </g>\r\n     </g>\r\n     <g id=\"text_12\">\r\n      <!-- 0.020 -->\r\n      <g transform=\"translate(20.878125 187.476542)scale(0.1 -0.1)\">\r\n       <use xlink:href=\"#DejaVuSans-48\"/>\r\n       <use x=\"63.623047\" xlink:href=\"#DejaVuSans-46\"/>\r\n       <use x=\"95.410156\" xlink:href=\"#DejaVuSans-48\"/>\r\n       <use x=\"159.033203\" xlink:href=\"#DejaVuSans-50\"/>\r\n       <use x=\"222.65625\" xlink:href=\"#DejaVuSans-48\"/>\r\n      </g>\r\n     </g>\r\n    </g>\r\n    <g id=\"ytick_3\">\r\n     <g id=\"line2d_12\">\r\n      <g>\r\n       <use style=\"stroke:#000000;stroke-width:0.8;\" x=\"56.50625\" xlink:href=\"#mc2657f8c03\" y=\"155.531775\"/>\r\n      </g>\r\n     </g>\r\n     <g id=\"text_13\">\r\n      <!-- 0.022 -->\r\n      <g transform=\"translate(20.878125 159.330993)scale(0.1 -0.1)\">\r\n       <use xlink:href=\"#DejaVuSans-48\"/>\r\n       <use x=\"63.623047\" xlink:href=\"#DejaVuSans-46\"/>\r\n       <use x=\"95.410156\" xlink:href=\"#DejaVuSans-48\"/>\r\n       <use x=\"159.033203\" xlink:href=\"#DejaVuSans-50\"/>\r\n       <use x=\"222.65625\" xlink:href=\"#DejaVuSans-50\"/>\r\n      </g>\r\n     </g>\r\n    </g>\r\n    <g id=\"ytick_4\">\r\n     <g id=\"line2d_13\">\r\n      <g>\r\n       <use style=\"stroke:#000000;stroke-width:0.8;\" x=\"56.50625\" xlink:href=\"#mc2657f8c03\" y=\"127.386226\"/>\r\n      </g>\r\n     </g>\r\n     <g id=\"text_14\">\r\n      <!-- 0.024 -->\r\n      <defs>\r\n       <path d=\"M 37.796875 64.3125 \r\nL 12.890625 25.390625 \r\nL 37.796875 25.390625 \r\nz\r\nM 35.203125 72.90625 \r\nL 47.609375 72.90625 \r\nL 47.609375 25.390625 \r\nL 58.015625 25.390625 \r\nL 58.015625 17.1875 \r\nL 47.609375 17.1875 \r\nL 47.609375 0 \r\nL 37.796875 0 \r\nL 37.796875 17.1875 \r\nL 4.890625 17.1875 \r\nL 4.890625 26.703125 \r\nz\r\n\" id=\"DejaVuSans-52\"/>\r\n      </defs>\r\n      <g transform=\"translate(20.878125 131.185445)scale(0.1 -0.1)\">\r\n       <use xlink:href=\"#DejaVuSans-48\"/>\r\n       <use x=\"63.623047\" xlink:href=\"#DejaVuSans-46\"/>\r\n       <use x=\"95.410156\" xlink:href=\"#DejaVuSans-48\"/>\r\n       <use x=\"159.033203\" xlink:href=\"#DejaVuSans-50\"/>\r\n       <use x=\"222.65625\" xlink:href=\"#DejaVuSans-52\"/>\r\n      </g>\r\n     </g>\r\n    </g>\r\n    <g id=\"ytick_5\">\r\n     <g id=\"line2d_14\">\r\n      <g>\r\n       <use style=\"stroke:#000000;stroke-width:0.8;\" x=\"56.50625\" xlink:href=\"#mc2657f8c03\" y=\"99.240678\"/>\r\n      </g>\r\n     </g>\r\n     <g id=\"text_15\">\r\n      <!-- 0.026 -->\r\n      <defs>\r\n       <path d=\"M 33.015625 40.375 \r\nQ 26.375 40.375 22.484375 35.828125 \r\nQ 18.609375 31.296875 18.609375 23.390625 \r\nQ 18.609375 15.53125 22.484375 10.953125 \r\nQ 26.375 6.390625 33.015625 6.390625 \r\nQ 39.65625 6.390625 43.53125 10.953125 \r\nQ 47.40625 15.53125 47.40625 23.390625 \r\nQ 47.40625 31.296875 43.53125 35.828125 \r\nQ 39.65625 40.375 33.015625 40.375 \r\nz\r\nM 52.59375 71.296875 \r\nL 52.59375 62.3125 \r\nQ 48.875 64.0625 45.09375 64.984375 \r\nQ 41.3125 65.921875 37.59375 65.921875 \r\nQ 27.828125 65.921875 22.671875 59.328125 \r\nQ 17.53125 52.734375 16.796875 39.40625 \r\nQ 19.671875 43.65625 24.015625 45.921875 \r\nQ 28.375 48.1875 33.59375 48.1875 \r\nQ 44.578125 48.1875 50.953125 41.515625 \r\nQ 57.328125 34.859375 57.328125 23.390625 \r\nQ 57.328125 12.15625 50.6875 5.359375 \r\nQ 44.046875 -1.421875 33.015625 -1.421875 \r\nQ 20.359375 -1.421875 13.671875 8.265625 \r\nQ 6.984375 17.96875 6.984375 36.375 \r\nQ 6.984375 53.65625 15.1875 63.9375 \r\nQ 23.390625 74.21875 37.203125 74.21875 \r\nQ 40.921875 74.21875 44.703125 73.484375 \r\nQ 48.484375 72.75 52.59375 71.296875 \r\nz\r\n\" id=\"DejaVuSans-54\"/>\r\n      </defs>\r\n      <g transform=\"translate(20.878125 103.039896)scale(0.1 -0.1)\">\r\n       <use xlink:href=\"#DejaVuSans-48\"/>\r\n       <use x=\"63.623047\" xlink:href=\"#DejaVuSans-46\"/>\r\n       <use x=\"95.410156\" xlink:href=\"#DejaVuSans-48\"/>\r\n       <use x=\"159.033203\" xlink:href=\"#DejaVuSans-50\"/>\r\n       <use x=\"222.65625\" xlink:href=\"#DejaVuSans-54\"/>\r\n      </g>\r\n     </g>\r\n    </g>\r\n    <g id=\"ytick_6\">\r\n     <g id=\"line2d_15\">\r\n      <g>\r\n       <use style=\"stroke:#000000;stroke-width:0.8;\" x=\"56.50625\" xlink:href=\"#mc2657f8c03\" y=\"71.095129\"/>\r\n      </g>\r\n     </g>\r\n     <g id=\"text_16\">\r\n      <!-- 0.028 -->\r\n      <g transform=\"translate(20.878125 74.894348)scale(0.1 -0.1)\">\r\n       <use xlink:href=\"#DejaVuSans-48\"/>\r\n       <use x=\"63.623047\" xlink:href=\"#DejaVuSans-46\"/>\r\n       <use x=\"95.410156\" xlink:href=\"#DejaVuSans-48\"/>\r\n       <use x=\"159.033203\" xlink:href=\"#DejaVuSans-50\"/>\r\n       <use x=\"222.65625\" xlink:href=\"#DejaVuSans-56\"/>\r\n      </g>\r\n     </g>\r\n    </g>\r\n    <g id=\"ytick_7\">\r\n     <g id=\"line2d_16\">\r\n      <g>\r\n       <use style=\"stroke:#000000;stroke-width:0.8;\" x=\"56.50625\" xlink:href=\"#mc2657f8c03\" y=\"42.949581\"/>\r\n      </g>\r\n     </g>\r\n     <g id=\"text_17\">\r\n      <!-- 0.030 -->\r\n      <defs>\r\n       <path d=\"M 40.578125 39.3125 \r\nQ 47.65625 37.796875 51.625 33 \r\nQ 55.609375 28.21875 55.609375 21.1875 \r\nQ 55.609375 10.40625 48.1875 4.484375 \r\nQ 40.765625 -1.421875 27.09375 -1.421875 \r\nQ 22.515625 -1.421875 17.65625 -0.515625 \r\nQ 12.796875 0.390625 7.625 2.203125 \r\nL 7.625 11.71875 \r\nQ 11.71875 9.328125 16.59375 8.109375 \r\nQ 21.484375 6.890625 26.8125 6.890625 \r\nQ 36.078125 6.890625 40.9375 10.546875 \r\nQ 45.796875 14.203125 45.796875 21.1875 \r\nQ 45.796875 27.640625 41.28125 31.265625 \r\nQ 36.765625 34.90625 28.71875 34.90625 \r\nL 20.21875 34.90625 \r\nL 20.21875 43.015625 \r\nL 29.109375 43.015625 \r\nQ 36.375 43.015625 40.234375 45.921875 \r\nQ 44.09375 48.828125 44.09375 54.296875 \r\nQ 44.09375 59.90625 40.109375 62.90625 \r\nQ 36.140625 65.921875 28.71875 65.921875 \r\nQ 24.65625 65.921875 20.015625 65.03125 \r\nQ 15.375 64.15625 9.8125 62.3125 \r\nL 9.8125 71.09375 \r\nQ 15.4375 72.65625 20.34375 73.4375 \r\nQ 25.25 74.21875 29.59375 74.21875 \r\nQ 40.828125 74.21875 47.359375 69.109375 \r\nQ 53.90625 64.015625 53.90625 55.328125 \r\nQ 53.90625 49.265625 50.4375 45.09375 \r\nQ 46.96875 40.921875 40.578125 39.3125 \r\nz\r\n\" id=\"DejaVuSans-51\"/>\r\n      </defs>\r\n      <g transform=\"translate(20.878125 46.748799)scale(0.1 -0.1)\">\r\n       <use xlink:href=\"#DejaVuSans-48\"/>\r\n       <use x=\"63.623047\" xlink:href=\"#DejaVuSans-46\"/>\r\n       <use x=\"95.410156\" xlink:href=\"#DejaVuSans-48\"/>\r\n       <use x=\"159.033203\" xlink:href=\"#DejaVuSans-51\"/>\r\n       <use x=\"222.65625\" xlink:href=\"#DejaVuSans-48\"/>\r\n      </g>\r\n     </g>\r\n    </g>\r\n    <g id=\"text_18\">\r\n     <!-- Silhouette score -->\r\n     <defs>\r\n      <path d=\"M 53.515625 70.515625 \r\nL 53.515625 60.890625 \r\nQ 47.90625 63.578125 42.921875 64.890625 \r\nQ 37.9375 66.21875 33.296875 66.21875 \r\nQ 25.25 66.21875 20.875 63.09375 \r\nQ 16.5 59.96875 16.5 54.203125 \r\nQ 16.5 49.359375 19.40625 46.890625 \r\nQ 22.3125 44.4375 30.421875 42.921875 \r\nL 36.375 41.703125 \r\nQ 47.40625 39.59375 52.65625 34.296875 \r\nQ 57.90625 29 57.90625 20.125 \r\nQ 57.90625 9.515625 50.796875 4.046875 \r\nQ 43.703125 -1.421875 29.984375 -1.421875 \r\nQ 24.8125 -1.421875 18.96875 -0.25 \r\nQ 13.140625 0.921875 6.890625 3.21875 \r\nL 6.890625 13.375 \r\nQ 12.890625 10.015625 18.65625 8.296875 \r\nQ 24.421875 6.59375 29.984375 6.59375 \r\nQ 38.421875 6.59375 43.015625 9.90625 \r\nQ 47.609375 13.234375 47.609375 19.390625 \r\nQ 47.609375 24.75 44.3125 27.78125 \r\nQ 41.015625 30.8125 33.5 32.328125 \r\nL 27.484375 33.5 \r\nQ 16.453125 35.6875 11.515625 40.375 \r\nQ 6.59375 45.0625 6.59375 53.421875 \r\nQ 6.59375 63.09375 13.40625 68.65625 \r\nQ 20.21875 74.21875 32.171875 74.21875 \r\nQ 37.3125 74.21875 42.625 73.28125 \r\nQ 47.953125 72.359375 53.515625 70.515625 \r\nz\r\n\" id=\"DejaVuSans-83\"/>\r\n      <path d=\"M 9.421875 54.6875 \r\nL 18.40625 54.6875 \r\nL 18.40625 0 \r\nL 9.421875 0 \r\nz\r\nM 9.421875 75.984375 \r\nL 18.40625 75.984375 \r\nL 18.40625 64.59375 \r\nL 9.421875 64.59375 \r\nz\r\n\" id=\"DejaVuSans-105\"/>\r\n      <path d=\"M 54.890625 33.015625 \r\nL 54.890625 0 \r\nL 45.90625 0 \r\nL 45.90625 32.71875 \r\nQ 45.90625 40.484375 42.875 44.328125 \r\nQ 39.84375 48.1875 33.796875 48.1875 \r\nQ 26.515625 48.1875 22.3125 43.546875 \r\nQ 18.109375 38.921875 18.109375 30.90625 \r\nL 18.109375 0 \r\nL 9.078125 0 \r\nL 9.078125 75.984375 \r\nL 18.109375 75.984375 \r\nL 18.109375 46.1875 \r\nQ 21.34375 51.125 25.703125 53.5625 \r\nQ 30.078125 56 35.796875 56 \r\nQ 45.21875 56 50.046875 50.171875 \r\nQ 54.890625 44.34375 54.890625 33.015625 \r\nz\r\n\" id=\"DejaVuSans-104\"/>\r\n     </defs>\r\n     <g transform=\"translate(14.798437 171.482656)rotate(-90)scale(0.1 -0.1)\">\r\n      <use xlink:href=\"#DejaVuSans-83\"/>\r\n      <use x=\"63.476562\" xlink:href=\"#DejaVuSans-105\"/>\r\n      <use x=\"91.259766\" xlink:href=\"#DejaVuSans-108\"/>\r\n      <use x=\"119.042969\" xlink:href=\"#DejaVuSans-104\"/>\r\n      <use x=\"182.421875\" xlink:href=\"#DejaVuSans-111\"/>\r\n      <use x=\"243.603516\" xlink:href=\"#DejaVuSans-117\"/>\r\n      <use x=\"306.982422\" xlink:href=\"#DejaVuSans-101\"/>\r\n      <use x=\"368.505859\" xlink:href=\"#DejaVuSans-116\"/>\r\n      <use x=\"407.714844\" xlink:href=\"#DejaVuSans-116\"/>\r\n      <use x=\"446.923828\" xlink:href=\"#DejaVuSans-101\"/>\r\n      <use x=\"508.447266\" xlink:href=\"#DejaVuSans-32\"/>\r\n      <use x=\"540.234375\" xlink:href=\"#DejaVuSans-115\"/>\r\n      <use x=\"592.333984\" xlink:href=\"#DejaVuSans-99\"/>\r\n      <use x=\"647.314453\" xlink:href=\"#DejaVuSans-111\"/>\r\n      <use x=\"708.496094\" xlink:href=\"#DejaVuSans-114\"/>\r\n      <use x=\"747.359375\" xlink:href=\"#DejaVuSans-101\"/>\r\n     </g>\r\n    </g>\r\n   </g>\r\n   <g id=\"line2d_17\">\r\n    <path clip-path=\"url(#pd77d2c54c8)\" d=\"M 71.724432 229.874489 \r\nL 86.942614 225.095729 \r\nL 102.160795 199.492893 \r\nL 117.378977 194.860619 \r\nL 132.597159 175.234866 \r\nL 147.815341 152.733225 \r\nL 163.033523 169.414567 \r\nL 178.251705 198.710043 \r\nL 193.469886 185.415411 \r\nL 208.688068 153.413951 \r\nL 223.90625 130.442851 \r\nL 239.124432 131.409834 \r\nL 254.342614 99.88604 \r\nL 269.560795 79.347964 \r\nL 284.778977 96.533203 \r\nL 299.997159 43.823077 \r\nL 315.215341 51.022953 \r\nL 330.433523 41.545621 \r\nL 345.651705 110.602732 \r\nL 360.869886 32.201761 \r\nL 376.088068 36.144336 \r\n\" style=\"fill:none;stroke:#1f77b4;stroke-linecap:square;stroke-width:1.5;\"/>\r\n   </g>\r\n   <g id=\"patch_3\">\r\n    <path d=\"M 56.50625 239.758125 \r\nL 56.50625 22.318125 \r\n\" style=\"fill:none;stroke:#000000;stroke-linecap:square;stroke-linejoin:miter;stroke-width:0.8;\"/>\r\n   </g>\r\n   <g id=\"patch_4\">\r\n    <path d=\"M 391.30625 239.758125 \r\nL 391.30625 22.318125 \r\n\" style=\"fill:none;stroke:#000000;stroke-linecap:square;stroke-linejoin:miter;stroke-width:0.8;\"/>\r\n   </g>\r\n   <g id=\"patch_5\">\r\n    <path d=\"M 56.50625 239.758125 \r\nL 391.30625 239.758125 \r\n\" style=\"fill:none;stroke:#000000;stroke-linecap:square;stroke-linejoin:miter;stroke-width:0.8;\"/>\r\n   </g>\r\n   <g id=\"patch_6\">\r\n    <path d=\"M 56.50625 22.318125 \r\nL 391.30625 22.318125 \r\n\" style=\"fill:none;stroke:#000000;stroke-linecap:square;stroke-linejoin:miter;stroke-width:0.8;\"/>\r\n   </g>\r\n   <g id=\"text_19\">\r\n    <!-- Silhouette score versus number of clusters -->\r\n    <defs>\r\n     <path d=\"M 2.984375 54.6875 \r\nL 12.5 54.6875 \r\nL 29.59375 8.796875 \r\nL 46.6875 54.6875 \r\nL 56.203125 54.6875 \r\nL 35.6875 0 \r\nL 23.484375 0 \r\nz\r\n\" id=\"DejaVuSans-118\"/>\r\n     <path d=\"M 54.890625 33.015625 \r\nL 54.890625 0 \r\nL 45.90625 0 \r\nL 45.90625 32.71875 \r\nQ 45.90625 40.484375 42.875 44.328125 \r\nQ 39.84375 48.1875 33.796875 48.1875 \r\nQ 26.515625 48.1875 22.3125 43.546875 \r\nQ 18.109375 38.921875 18.109375 30.90625 \r\nL 18.109375 0 \r\nL 9.078125 0 \r\nL 9.078125 54.6875 \r\nL 18.109375 54.6875 \r\nL 18.109375 46.1875 \r\nQ 21.34375 51.125 25.703125 53.5625 \r\nQ 30.078125 56 35.796875 56 \r\nQ 45.21875 56 50.046875 50.171875 \r\nQ 54.890625 44.34375 54.890625 33.015625 \r\nz\r\n\" id=\"DejaVuSans-110\"/>\r\n    </defs>\r\n    <g transform=\"translate(95.25125 16.318125)scale(0.12 -0.12)\">\r\n     <use xlink:href=\"#DejaVuSans-83\"/>\r\n     <use x=\"63.476562\" xlink:href=\"#DejaVuSans-105\"/>\r\n     <use x=\"91.259766\" xlink:href=\"#DejaVuSans-108\"/>\r\n     <use x=\"119.042969\" xlink:href=\"#DejaVuSans-104\"/>\r\n     <use x=\"182.421875\" xlink:href=\"#DejaVuSans-111\"/>\r\n     <use x=\"243.603516\" xlink:href=\"#DejaVuSans-117\"/>\r\n     <use x=\"306.982422\" xlink:href=\"#DejaVuSans-101\"/>\r\n     <use x=\"368.505859\" xlink:href=\"#DejaVuSans-116\"/>\r\n     <use x=\"407.714844\" xlink:href=\"#DejaVuSans-116\"/>\r\n     <use x=\"446.923828\" xlink:href=\"#DejaVuSans-101\"/>\r\n     <use x=\"508.447266\" xlink:href=\"#DejaVuSans-32\"/>\r\n     <use x=\"540.234375\" xlink:href=\"#DejaVuSans-115\"/>\r\n     <use x=\"592.333984\" xlink:href=\"#DejaVuSans-99\"/>\r\n     <use x=\"647.314453\" xlink:href=\"#DejaVuSans-111\"/>\r\n     <use x=\"708.496094\" xlink:href=\"#DejaVuSans-114\"/>\r\n     <use x=\"747.359375\" xlink:href=\"#DejaVuSans-101\"/>\r\n     <use x=\"808.882812\" xlink:href=\"#DejaVuSans-32\"/>\r\n     <use x=\"840.669922\" xlink:href=\"#DejaVuSans-118\"/>\r\n     <use x=\"899.849609\" xlink:href=\"#DejaVuSans-101\"/>\r\n     <use x=\"961.373047\" xlink:href=\"#DejaVuSans-114\"/>\r\n     <use x=\"1002.486328\" xlink:href=\"#DejaVuSans-115\"/>\r\n     <use x=\"1054.585938\" xlink:href=\"#DejaVuSans-117\"/>\r\n     <use x=\"1117.964844\" xlink:href=\"#DejaVuSans-115\"/>\r\n     <use x=\"1170.064453\" xlink:href=\"#DejaVuSans-32\"/>\r\n     <use x=\"1201.851562\" xlink:href=\"#DejaVuSans-110\"/>\r\n     <use x=\"1265.230469\" xlink:href=\"#DejaVuSans-117\"/>\r\n     <use x=\"1328.609375\" xlink:href=\"#DejaVuSans-109\"/>\r\n     <use x=\"1426.021484\" xlink:href=\"#DejaVuSans-98\"/>\r\n     <use x=\"1489.498047\" xlink:href=\"#DejaVuSans-101\"/>\r\n     <use x=\"1551.021484\" xlink:href=\"#DejaVuSans-114\"/>\r\n     <use x=\"1592.134766\" xlink:href=\"#DejaVuSans-32\"/>\r\n     <use x=\"1623.921875\" xlink:href=\"#DejaVuSans-111\"/>\r\n     <use x=\"1685.103516\" xlink:href=\"#DejaVuSans-102\"/>\r\n     <use x=\"1720.308594\" xlink:href=\"#DejaVuSans-32\"/>\r\n     <use x=\"1752.095703\" xlink:href=\"#DejaVuSans-99\"/>\r\n     <use x=\"1807.076172\" xlink:href=\"#DejaVuSans-108\"/>\r\n     <use x=\"1834.859375\" xlink:href=\"#DejaVuSans-117\"/>\r\n     <use x=\"1898.238281\" xlink:href=\"#DejaVuSans-115\"/>\r\n     <use x=\"1950.337891\" xlink:href=\"#DejaVuSans-116\"/>\r\n     <use x=\"1989.546875\" xlink:href=\"#DejaVuSans-101\"/>\r\n     <use x=\"2051.070312\" xlink:href=\"#DejaVuSans-114\"/>\r\n     <use x=\"2092.183594\" xlink:href=\"#DejaVuSans-115\"/>\r\n    </g>\r\n   </g>\r\n  </g>\r\n </g>\r\n <defs>\r\n  <clipPath id=\"pd77d2c54c8\">\r\n   <rect height=\"217.44\" width=\"334.8\" x=\"56.50625\" y=\"22.318125\"/>\r\n  </clipPath>\r\n </defs>\r\n</svg>\r\n",
      "image/png": "[encoded data removed]"
     },
     "metadata": {
      "needs_background": "light"
     }
    }
   ],
   "source": [
    "# Sample predictions of first ten inputs\n",
    "import matplotlib.pyplot as plt\n",
    "arr = []\n",
    "for i in range(2, 23):\n",
    "    kMeansModel = getKMeansModel(allFeatures, i)\n",
    "    predict = (predictCluster(kMeansModel, allFeatures))\n",
    "    arr.append(silhouette(allFeatures, predict))\n",
    "\n",
    "plt.plot(arr)\n",
    "plt.title(\"Silhouette score versus number of clusters\")\n",
    "plt.xlabel(\"Number of clusters\")\n",
    "plt.ylabel(\"Silhouette score\")\n",
    "plt.show()"
   ]
  },
  {
   "cell_type": "code",
   "execution_count": 45,
   "metadata": {},
   "outputs": [
    {
     "output_type": "stream",
     "name": "stdout",
     "text": [
      "[0.023782798695523216, 0.02371408567503961, 0.02595414103402022, 0.027413560218605113, 0.026192390952950097, 0.029937930032599386, 0.0294263126653014]\n"
     ]
    }
   ],
   "source": [
    "print(arr[10:17])"
   ]
  },
  {
   "cell_type": "code",
   "execution_count": null,
   "metadata": {},
   "outputs": [],
   "source": [
    "import nltk\n",
    "nltk.downlo"
   ]
  }
 ],
 "metadata": {
  "kernelspec": {
   "display_name": "Python 3",
   "language": "python",
   "name": "python3"
  },
  "language_info": {
   "codemirror_mode": {
    "name": "ipython",
    "version": 3
   },
   "file_extension": ".py",
   "mimetype": "text/x-python",
   "name": "python",
   "nbconvert_exporter": "python",
   "pygments_lexer": "ipython3",
   "version": "3.8.3-final"
  }
 },
 "nbformat": 4,
 "nbformat_minor": 4
}