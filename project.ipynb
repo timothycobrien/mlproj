{
 "cells": [
  {
   "cell_type": "markdown",
   "metadata": {},
   "source": [
    "# Final Project -- Reddit News Data vs. Dow Jones Market Performance\n",
    "## By: Oliver Hamilton, Tim O'Brien, and Gabriel Ting\n",
    "---"
   ]
  },
  {
   "cell_type": "markdown",
   "metadata": {},
   "source": [
    "### Imports and Data Loading"
   ]
  },
  {
   "cell_type": "code",
   "execution_count": 1,
   "metadata": {},
   "outputs": [],
   "source": [
    "import pandas as pd\n",
    "import numpy as np\n",
    "import seaborn as sns\n",
    "from sklearn.metrics.pairwise import cosine_similarity"
   ]
  },
  {
   "cell_type": "markdown",
   "metadata": {},
   "source": [
    "The combined dataset below contains dates along with corresponding labels indicating market upward (1) or downward (0) trend and the day's top 25 Reddit news story headlines from the morning before market open. \n",
    "\n",
    "The DOW dataset below is used to extract the exact magnitude of upward or downward market movement for the days on which we have sampled reddit news data."
   ]
  },
  {
   "cell_type": "code",
   "execution_count": 2,
   "metadata": {},
   "outputs": [],
   "source": [
    "combined_dataset = pd.read_csv('./data/Combined_News_DJIA.csv')\n",
    "combined_dataset = combined_dataset.drop(columns = [\"Label\"])  # We do not care about this binary upward/downward indicator...it is too weak\n",
    "\n",
    "dow_dataset = pd.read_csv('./data/upload_DJIA_table.csv')\n",
    "dow_dataset = dow_dataset[::-1]  # Reverse columns"
   ]
  },
  {
   "cell_type": "markdown",
   "metadata": {},
   "source": [
    "### Data Transformation and Visualization"
   ]
  },
  {
   "cell_type": "code",
   "execution_count": 3,
   "metadata": {},
   "outputs": [
    {
     "data": {
      "text/html": [
       "<div>\n",
       "<style scoped>\n",
       "    .dataframe tbody tr th:only-of-type {\n",
       "        vertical-align: middle;\n",
       "    }\n",
       "\n",
       "    .dataframe tbody tr th {\n",
       "        vertical-align: top;\n",
       "    }\n",
       "\n",
       "    .dataframe thead th {\n",
       "        text-align: right;\n",
       "    }\n",
       "</style>\n",
       "<table border=\"1\" class=\"dataframe\">\n",
       "  <thead>\n",
       "    <tr style=\"text-align: right;\">\n",
       "      <th></th>\n",
       "      <th>Date</th>\n",
       "      <th>Open</th>\n",
       "      <th>High</th>\n",
       "      <th>Low</th>\n",
       "      <th>Close</th>\n",
       "      <th>Volume</th>\n",
       "      <th>Adj Close</th>\n",
       "    </tr>\n",
       "  </thead>\n",
       "  <tbody>\n",
       "    <tr>\n",
       "      <th>1988</th>\n",
       "      <td>2008-08-08</td>\n",
       "      <td>11432.089844</td>\n",
       "      <td>11759.959961</td>\n",
       "      <td>11388.040039</td>\n",
       "      <td>11734.320312</td>\n",
       "      <td>212830000</td>\n",
       "      <td>11734.320312</td>\n",
       "    </tr>\n",
       "    <tr>\n",
       "      <th>1987</th>\n",
       "      <td>2008-08-11</td>\n",
       "      <td>11729.669922</td>\n",
       "      <td>11867.110352</td>\n",
       "      <td>11675.530273</td>\n",
       "      <td>11782.349609</td>\n",
       "      <td>183190000</td>\n",
       "      <td>11782.349609</td>\n",
       "    </tr>\n",
       "    <tr>\n",
       "      <th>1986</th>\n",
       "      <td>2008-08-12</td>\n",
       "      <td>11781.700195</td>\n",
       "      <td>11782.349609</td>\n",
       "      <td>11601.519531</td>\n",
       "      <td>11642.469727</td>\n",
       "      <td>173590000</td>\n",
       "      <td>11642.469727</td>\n",
       "    </tr>\n",
       "    <tr>\n",
       "      <th>1985</th>\n",
       "      <td>2008-08-13</td>\n",
       "      <td>11632.809570</td>\n",
       "      <td>11633.780273</td>\n",
       "      <td>11453.339844</td>\n",
       "      <td>11532.959961</td>\n",
       "      <td>182550000</td>\n",
       "      <td>11532.959961</td>\n",
       "    </tr>\n",
       "    <tr>\n",
       "      <th>1984</th>\n",
       "      <td>2008-08-14</td>\n",
       "      <td>11532.070312</td>\n",
       "      <td>11718.280273</td>\n",
       "      <td>11450.889648</td>\n",
       "      <td>11615.929688</td>\n",
       "      <td>159790000</td>\n",
       "      <td>11615.929688</td>\n",
       "    </tr>\n",
       "  </tbody>\n",
       "</table>\n",
       "</div>"
      ],
      "text/plain": [
       "            Date          Open          High           Low         Close  \\\n",
       "1988  2008-08-08  11432.089844  11759.959961  11388.040039  11734.320312   \n",
       "1987  2008-08-11  11729.669922  11867.110352  11675.530273  11782.349609   \n",
       "1986  2008-08-12  11781.700195  11782.349609  11601.519531  11642.469727   \n",
       "1985  2008-08-13  11632.809570  11633.780273  11453.339844  11532.959961   \n",
       "1984  2008-08-14  11532.070312  11718.280273  11450.889648  11615.929688   \n",
       "\n",
       "         Volume     Adj Close  \n",
       "1988  212830000  11734.320312  \n",
       "1987  183190000  11782.349609  \n",
       "1986  173590000  11642.469727  \n",
       "1985  182550000  11532.959961  \n",
       "1984  159790000  11615.929688  "
      ]
     },
     "execution_count": 3,
     "metadata": {},
     "output_type": "execute_result"
    }
   ],
   "source": [
    "dow_dataset.head()"
   ]
  },
  {
   "cell_type": "markdown",
   "metadata": {},
   "source": [
    "In the cell below, we transform the \"Open\" and \"Close\" columns across all our market days to form a percentage change column that will be added to our original combined dataset. Similarly, we will add a spread measure too. This will be represented as the high price minus the low price relative to the opening price of the index for the day."
   ]
  },
  {
   "cell_type": "code",
   "execution_count": 4,
   "metadata": {},
   "outputs": [],
   "source": [
    "# This function cleans off all 'b's, blank characters, and leading \" or ' characters from the news article headers.\n",
    "def clean_header(header):\n",
    "    i, j = 0, len(header) - 1\n",
    "    while header[i] in \"\"\"b'\" \"\"\":  # Iterable with: 'b', ' ', \", and '.\n",
    "        i += 1\n",
    "    while header[j] in \"\"\"'\" \"\"\":  # Iterable with: ', \", and ' '.\n",
    "        j -= 1\n",
    "    return header[i:j+1]"
   ]
  },
  {
   "cell_type": "code",
   "execution_count": 5,
   "metadata": {},
   "outputs": [
    {
     "name": "stdout",
     "output_type": "stream",
     "text": [
      "Dataset has shape: (1989, 28)\n"
     ]
    },
    {
     "data": {
      "text/html": [
       "<div>\n",
       "<style scoped>\n",
       "    .dataframe tbody tr th:only-of-type {\n",
       "        vertical-align: middle;\n",
       "    }\n",
       "\n",
       "    .dataframe tbody tr th {\n",
       "        vertical-align: top;\n",
       "    }\n",
       "\n",
       "    .dataframe thead th {\n",
       "        text-align: right;\n",
       "    }\n",
       "</style>\n",
       "<table border=\"1\" class=\"dataframe\">\n",
       "  <thead>\n",
       "    <tr style=\"text-align: right;\">\n",
       "      <th></th>\n",
       "      <th>Date</th>\n",
       "      <th>percent_change</th>\n",
       "      <th>spread_rel_open</th>\n",
       "      <th>Top1</th>\n",
       "      <th>Top2</th>\n",
       "      <th>Top3</th>\n",
       "      <th>Top4</th>\n",
       "      <th>Top5</th>\n",
       "      <th>Top6</th>\n",
       "      <th>Top7</th>\n",
       "      <th>...</th>\n",
       "      <th>Top16</th>\n",
       "      <th>Top17</th>\n",
       "      <th>Top18</th>\n",
       "      <th>Top19</th>\n",
       "      <th>Top20</th>\n",
       "      <th>Top21</th>\n",
       "      <th>Top22</th>\n",
       "      <th>Top23</th>\n",
       "      <th>Top24</th>\n",
       "      <th>Top25</th>\n",
       "    </tr>\n",
       "  </thead>\n",
       "  <tbody>\n",
       "    <tr>\n",
       "      <th>0</th>\n",
       "      <td>2008-08-08</td>\n",
       "      <td>0.026437</td>\n",
       "      <td>0.032533</td>\n",
       "      <td>Georgia 'downs two Russian warplanes' as count...</td>\n",
       "      <td>BREAKING: Musharraf to be impeached.</td>\n",
       "      <td>Russia Today: Columns of troops roll into Sout...</td>\n",
       "      <td>Russian tanks are moving towards the capital o...</td>\n",
       "      <td>Afghan children raped with 'impunity,' U.N. of...</td>\n",
       "      <td>150 Russian tanks have entered South Ossetia w...</td>\n",
       "      <td>Breaking: Georgia invades South Ossetia, Russi...</td>\n",
       "      <td>...</td>\n",
       "      <td>Georgia Invades South Ossetia - if Russia gets...</td>\n",
       "      <td>Al-Qaeda Faces Islamist Backlash</td>\n",
       "      <td>Condoleezza Rice: \"The US would not act to pre...</td>\n",
       "      <td>This is a busy day:  The European Union has ap...</td>\n",
       "      <td>Georgia will withdraw 1,000 soldiers from Iraq...</td>\n",
       "      <td>Why the Pentagon Thinks Attacking Iran is a Ba...</td>\n",
       "      <td>Caucasus in crisis: Georgia invades South Ossetia</td>\n",
       "      <td>Indian shoe manufactory  - And again in a seri...</td>\n",
       "      <td>Visitors Suffering from Mental Illnesses Banne...</td>\n",
       "      <td>No Help for Mexico's Kidnapping Surge</td>\n",
       "    </tr>\n",
       "    <tr>\n",
       "      <th>1</th>\n",
       "      <td>2008-08-11</td>\n",
       "      <td>0.004491</td>\n",
       "      <td>0.016333</td>\n",
       "      <td>Why wont America and Nato help us? If they won...</td>\n",
       "      <td>Bush puts foot down on Georgian conflict</td>\n",
       "      <td>Jewish Georgian minister: Thanks to Israeli tr...</td>\n",
       "      <td>Georgian army flees in disarray as Russians ad...</td>\n",
       "      <td>Olympic opening ceremony fireworks 'faked</td>\n",
       "      <td>What were the Mossad with fraudulent New Zeala...</td>\n",
       "      <td>Russia angered by Israeli military sale to Geo...</td>\n",
       "      <td>...</td>\n",
       "      <td>Israel and the US behind the Georgian aggression?</td>\n",
       "      <td>Do not believe TV, neither Russian nor Georgia...</td>\n",
       "      <td>Riots are still going on in Montreal (Canada) ...</td>\n",
       "      <td>China to overtake US as largest manufacturer</td>\n",
       "      <td>War in South Ossetia [PICS]</td>\n",
       "      <td>Israeli Physicians Group Condemns State Torture</td>\n",
       "      <td>Russia has just beaten the United States over ...</td>\n",
       "      <td>Perhaps *the* question about the Georgia - Rus...</td>\n",
       "      <td>Russia is so much better at war</td>\n",
       "      <td>So this is what it's come to: trading sex for ...</td>\n",
       "    </tr>\n",
       "    <tr>\n",
       "      <th>2</th>\n",
       "      <td>2008-08-12</td>\n",
       "      <td>-0.011818</td>\n",
       "      <td>0.015348</td>\n",
       "      <td>Remember that adorable 9-year-old who sang at ...</td>\n",
       "      <td>Russia 'ends Georgia operation</td>\n",
       "      <td>If we had no sexual harassment we would have n...</td>\n",
       "      <td>Al-Qa'eda is losing support in Iraq because of...</td>\n",
       "      <td>Ceasefire in Georgia: Putin Outmaneuvers the West</td>\n",
       "      <td>Why Microsoft and Intel tried to kill the XO $...</td>\n",
       "      <td>Stratfor: The Russo-Georgian War and the Balan...</td>\n",
       "      <td>...</td>\n",
       "      <td>U.S. troops still in Georgia (did you know the...</td>\n",
       "      <td>Why Russias response to Georgia was right</td>\n",
       "      <td>Gorbachev accuses U.S. of making a \"serious bl...</td>\n",
       "      <td>Russia, Georgia, and NATO: Cold War Two</td>\n",
       "      <td>Remember that adorable 62-year-old who led you...</td>\n",
       "      <td>War in Georgia: The Israeli connection</td>\n",
       "      <td>All signs point to the US encouraging Georgia ...</td>\n",
       "      <td>Christopher King argues that the US and NATO a...</td>\n",
       "      <td>America: The New Mexico?</td>\n",
       "      <td>BBC NEWS | Asia-Pacific | Extinction 'by man n...</td>\n",
       "    </tr>\n",
       "    <tr>\n",
       "      <th>3</th>\n",
       "      <td>2008-08-13</td>\n",
       "      <td>-0.008583</td>\n",
       "      <td>0.015511</td>\n",
       "      <td>U.S. refuses Israel weapons to attack Iran: re...</td>\n",
       "      <td>When the president ordered to attack Tskhinval...</td>\n",
       "      <td>Israel clears troops who killed Reuters cameraman</td>\n",
       "      <td>Britain\\'s policy of being tough on drugs is \"...</td>\n",
       "      <td>Body of 14 year old found in trunk; Latest (ra...</td>\n",
       "      <td>China has moved 10 *million* quake survivors i...</td>\n",
       "      <td>Bush announces Operation Get All Up In Russia'...</td>\n",
       "      <td>...</td>\n",
       "      <td>Elephants extinct by 2020?</td>\n",
       "      <td>US humanitarian missions soon in Georgia - if ...</td>\n",
       "      <td>Georgia's DDOS came from US sources</td>\n",
       "      <td>Russian convoy heads into Georgia, violating t...</td>\n",
       "      <td>Israeli defence minister: US against strike on...</td>\n",
       "      <td>Gorbachev: We Had No Choice</td>\n",
       "      <td>Witness: Russian forces head towards Tbilisi i...</td>\n",
       "      <td>Quarter of Russians blame U.S. for conflict: poll</td>\n",
       "      <td>Georgian president  says US military will take...</td>\n",
       "      <td>2006: Nobel laureate Aleksander Solzhenitsyn a...</td>\n",
       "    </tr>\n",
       "    <tr>\n",
       "      <th>4</th>\n",
       "      <td>2008-08-14</td>\n",
       "      <td>0.007272</td>\n",
       "      <td>0.023187</td>\n",
       "      <td>All the experts admit that we should legalise ...</td>\n",
       "      <td>War in South Osetia - 89 pictures made by a Ru...</td>\n",
       "      <td>Swedish wrestler Ara Abrahamian throws away me...</td>\n",
       "      <td>Russia exaggerated the death toll in South Oss...</td>\n",
       "      <td>Missile That Killed 9 Inside Pakistan May Have...</td>\n",
       "      <td>Rushdie Condemns Random House's Refusal to Pub...</td>\n",
       "      <td>Poland and US agree to missle defense deal. In...</td>\n",
       "      <td>...</td>\n",
       "      <td>Bank analyst forecast Georgian crisis 2 days e...</td>\n",
       "      <td>Georgia confict could set back Russia's US rel...</td>\n",
       "      <td>War in the Caucasus is as much the product of ...</td>\n",
       "      <td>Non-media\" photos of South Ossetia/Georgia con...</td>\n",
       "      <td>Georgian TV reporter shot by Russian sniper du...</td>\n",
       "      <td>Saudi Arabia: Mother moves to block child marr...</td>\n",
       "      <td>Taliban wages war on humanitarian aid workers</td>\n",
       "      <td>Russia: World  \"can forget about\" Georgia\\'s t...</td>\n",
       "      <td>Darfur rebels accuse Sudan of mounting major a...</td>\n",
       "      <td>Philippines : Peace Advocate say Muslims need ...</td>\n",
       "    </tr>\n",
       "  </tbody>\n",
       "</table>\n",
       "<p>5 rows × 28 columns</p>\n",
       "</div>"
      ],
      "text/plain": [
       "         Date  percent_change  spread_rel_open  \\\n",
       "0  2008-08-08        0.026437         0.032533   \n",
       "1  2008-08-11        0.004491         0.016333   \n",
       "2  2008-08-12       -0.011818         0.015348   \n",
       "3  2008-08-13       -0.008583         0.015511   \n",
       "4  2008-08-14        0.007272         0.023187   \n",
       "\n",
       "                                                Top1  \\\n",
       "0  Georgia 'downs two Russian warplanes' as count...   \n",
       "1  Why wont America and Nato help us? If they won...   \n",
       "2  Remember that adorable 9-year-old who sang at ...   \n",
       "3  U.S. refuses Israel weapons to attack Iran: re...   \n",
       "4  All the experts admit that we should legalise ...   \n",
       "\n",
       "                                                Top2  \\\n",
       "0               BREAKING: Musharraf to be impeached.   \n",
       "1           Bush puts foot down on Georgian conflict   \n",
       "2                     Russia 'ends Georgia operation   \n",
       "3  When the president ordered to attack Tskhinval...   \n",
       "4  War in South Osetia - 89 pictures made by a Ru...   \n",
       "\n",
       "                                                Top3  \\\n",
       "0  Russia Today: Columns of troops roll into Sout...   \n",
       "1  Jewish Georgian minister: Thanks to Israeli tr...   \n",
       "2  If we had no sexual harassment we would have n...   \n",
       "3  Israel clears troops who killed Reuters cameraman   \n",
       "4  Swedish wrestler Ara Abrahamian throws away me...   \n",
       "\n",
       "                                                Top4  \\\n",
       "0  Russian tanks are moving towards the capital o...   \n",
       "1  Georgian army flees in disarray as Russians ad...   \n",
       "2  Al-Qa'eda is losing support in Iraq because of...   \n",
       "3  Britain\\'s policy of being tough on drugs is \"...   \n",
       "4  Russia exaggerated the death toll in South Oss...   \n",
       "\n",
       "                                                Top5  \\\n",
       "0  Afghan children raped with 'impunity,' U.N. of...   \n",
       "1          Olympic opening ceremony fireworks 'faked   \n",
       "2  Ceasefire in Georgia: Putin Outmaneuvers the West   \n",
       "3  Body of 14 year old found in trunk; Latest (ra...   \n",
       "4  Missile That Killed 9 Inside Pakistan May Have...   \n",
       "\n",
       "                                                Top6  \\\n",
       "0  150 Russian tanks have entered South Ossetia w...   \n",
       "1  What were the Mossad with fraudulent New Zeala...   \n",
       "2  Why Microsoft and Intel tried to kill the XO $...   \n",
       "3  China has moved 10 *million* quake survivors i...   \n",
       "4  Rushdie Condemns Random House's Refusal to Pub...   \n",
       "\n",
       "                                                Top7  ...  \\\n",
       "0  Breaking: Georgia invades South Ossetia, Russi...  ...   \n",
       "1  Russia angered by Israeli military sale to Geo...  ...   \n",
       "2  Stratfor: The Russo-Georgian War and the Balan...  ...   \n",
       "3  Bush announces Operation Get All Up In Russia'...  ...   \n",
       "4  Poland and US agree to missle defense deal. In...  ...   \n",
       "\n",
       "                                               Top16  \\\n",
       "0  Georgia Invades South Ossetia - if Russia gets...   \n",
       "1  Israel and the US behind the Georgian aggression?   \n",
       "2  U.S. troops still in Georgia (did you know the...   \n",
       "3                         Elephants extinct by 2020?   \n",
       "4  Bank analyst forecast Georgian crisis 2 days e...   \n",
       "\n",
       "                                               Top17  \\\n",
       "0                   Al-Qaeda Faces Islamist Backlash   \n",
       "1  Do not believe TV, neither Russian nor Georgia...   \n",
       "2          Why Russias response to Georgia was right   \n",
       "3  US humanitarian missions soon in Georgia - if ...   \n",
       "4  Georgia confict could set back Russia's US rel...   \n",
       "\n",
       "                                               Top18  \\\n",
       "0  Condoleezza Rice: \"The US would not act to pre...   \n",
       "1  Riots are still going on in Montreal (Canada) ...   \n",
       "2  Gorbachev accuses U.S. of making a \"serious bl...   \n",
       "3                Georgia's DDOS came from US sources   \n",
       "4  War in the Caucasus is as much the product of ...   \n",
       "\n",
       "                                               Top19  \\\n",
       "0  This is a busy day:  The European Union has ap...   \n",
       "1       China to overtake US as largest manufacturer   \n",
       "2            Russia, Georgia, and NATO: Cold War Two   \n",
       "3  Russian convoy heads into Georgia, violating t...   \n",
       "4  Non-media\" photos of South Ossetia/Georgia con...   \n",
       "\n",
       "                                               Top20  \\\n",
       "0  Georgia will withdraw 1,000 soldiers from Iraq...   \n",
       "1                        War in South Ossetia [PICS]   \n",
       "2  Remember that adorable 62-year-old who led you...   \n",
       "3  Israeli defence minister: US against strike on...   \n",
       "4  Georgian TV reporter shot by Russian sniper du...   \n",
       "\n",
       "                                               Top21  \\\n",
       "0  Why the Pentagon Thinks Attacking Iran is a Ba...   \n",
       "1    Israeli Physicians Group Condemns State Torture   \n",
       "2             War in Georgia: The Israeli connection   \n",
       "3                        Gorbachev: We Had No Choice   \n",
       "4  Saudi Arabia: Mother moves to block child marr...   \n",
       "\n",
       "                                               Top22  \\\n",
       "0  Caucasus in crisis: Georgia invades South Ossetia   \n",
       "1  Russia has just beaten the United States over ...   \n",
       "2  All signs point to the US encouraging Georgia ...   \n",
       "3  Witness: Russian forces head towards Tbilisi i...   \n",
       "4      Taliban wages war on humanitarian aid workers   \n",
       "\n",
       "                                               Top23  \\\n",
       "0  Indian shoe manufactory  - And again in a seri...   \n",
       "1  Perhaps *the* question about the Georgia - Rus...   \n",
       "2  Christopher King argues that the US and NATO a...   \n",
       "3  Quarter of Russians blame U.S. for conflict: poll   \n",
       "4  Russia: World  \"can forget about\" Georgia\\'s t...   \n",
       "\n",
       "                                               Top24  \\\n",
       "0  Visitors Suffering from Mental Illnesses Banne...   \n",
       "1                    Russia is so much better at war   \n",
       "2                           America: The New Mexico?   \n",
       "3  Georgian president  says US military will take...   \n",
       "4  Darfur rebels accuse Sudan of mounting major a...   \n",
       "\n",
       "                                               Top25  \n",
       "0              No Help for Mexico's Kidnapping Surge  \n",
       "1  So this is what it's come to: trading sex for ...  \n",
       "2  BBC NEWS | Asia-Pacific | Extinction 'by man n...  \n",
       "3  2006: Nobel laureate Aleksander Solzhenitsyn a...  \n",
       "4  Philippines : Peace Advocate say Muslims need ...  \n",
       "\n",
       "[5 rows x 28 columns]"
      ]
     },
     "execution_count": 5,
     "metadata": {},
     "output_type": "execute_result"
    }
   ],
   "source": [
    "combined_dataset = combined_dataset.applymap(lambda x: clean_header(str(x)))\n",
    "\n",
    "magnitude_labels = (dow_dataset[\"Close\"] - dow_dataset[\"Open\"]) / dow_dataset[\"Open\"]  # Percent change measure\n",
    "combined_dataset.insert(1, \"percent_change\", magnitude_labels.tolist())\n",
    "\n",
    "spread_labels = (dow_dataset[\"High\"] - dow_dataset[\"Low\"]) / dow_dataset[\"Open\"]  # Spread measure\n",
    "combined_dataset.insert(2, \"spread_rel_open\", spread_labels.tolist())\n",
    "\n",
    "print(\"Dataset has shape: \" + str(combined_dataset.shape))\n",
    "combined_dataset.head()"
   ]
  },
  {
   "cell_type": "markdown",
   "metadata": {},
   "source": [
    "Now, the goal is to create rich embeddings to represent the textual Reddit news story data in attempt to cluster similar news story headings, compare their sentiment, and hopefully develop a strong classifier for one of the metrics above. Below, we import the dataset with the news header embeddings and add the percent_change and the spread_rel_open metrics."
   ]
  },
  {
   "cell_type": "code",
   "execution_count": 6,
   "metadata": {},
   "outputs": [
    {
     "data": {
      "text/html": [
       "<div>\n",
       "<style scoped>\n",
       "    .dataframe tbody tr th:only-of-type {\n",
       "        vertical-align: middle;\n",
       "    }\n",
       "\n",
       "    .dataframe tbody tr th {\n",
       "        vertical-align: top;\n",
       "    }\n",
       "\n",
       "    .dataframe thead th {\n",
       "        text-align: right;\n",
       "    }\n",
       "</style>\n",
       "<table border=\"1\" class=\"dataframe\">\n",
       "  <thead>\n",
       "    <tr style=\"text-align: right;\">\n",
       "      <th></th>\n",
       "      <th>Date</th>\n",
       "      <th>percent_change</th>\n",
       "      <th>spread_rel_open</th>\n",
       "      <th>Top1_feature_0</th>\n",
       "      <th>Top1_feature_1</th>\n",
       "      <th>Top1_feature_2</th>\n",
       "      <th>Top1_feature_3</th>\n",
       "      <th>Top1_feature_4</th>\n",
       "      <th>Top1_feature_5</th>\n",
       "      <th>Top1_feature_6</th>\n",
       "      <th>...</th>\n",
       "      <th>Top10_feature_502</th>\n",
       "      <th>Top10_feature_503</th>\n",
       "      <th>Top10_feature_504</th>\n",
       "      <th>Top10_feature_505</th>\n",
       "      <th>Top10_feature_506</th>\n",
       "      <th>Top10_feature_507</th>\n",
       "      <th>Top10_feature_508</th>\n",
       "      <th>Top10_feature_509</th>\n",
       "      <th>Top10_feature_510</th>\n",
       "      <th>Top10_feature_511</th>\n",
       "    </tr>\n",
       "  </thead>\n",
       "  <tbody>\n",
       "    <tr>\n",
       "      <th>0</th>\n",
       "      <td>2008-08-08</td>\n",
       "      <td>0.026437</td>\n",
       "      <td>0.032533</td>\n",
       "      <td>0.045079</td>\n",
       "      <td>-0.022705</td>\n",
       "      <td>-0.054172</td>\n",
       "      <td>0.004627</td>\n",
       "      <td>-0.072887</td>\n",
       "      <td>0.006421</td>\n",
       "      <td>-0.013796</td>\n",
       "      <td>...</td>\n",
       "      <td>0.037529</td>\n",
       "      <td>0.079555</td>\n",
       "      <td>0.007900</td>\n",
       "      <td>0.052349</td>\n",
       "      <td>-0.032850</td>\n",
       "      <td>-0.024886</td>\n",
       "      <td>-0.008362</td>\n",
       "      <td>-0.008685</td>\n",
       "      <td>-0.037892</td>\n",
       "      <td>-0.041780</td>\n",
       "    </tr>\n",
       "    <tr>\n",
       "      <th>1</th>\n",
       "      <td>2008-08-11</td>\n",
       "      <td>0.004491</td>\n",
       "      <td>0.016333</td>\n",
       "      <td>0.019073</td>\n",
       "      <td>-0.077482</td>\n",
       "      <td>-0.030234</td>\n",
       "      <td>-0.024577</td>\n",
       "      <td>-0.029507</td>\n",
       "      <td>0.055582</td>\n",
       "      <td>-0.009761</td>\n",
       "      <td>...</td>\n",
       "      <td>0.035775</td>\n",
       "      <td>0.010439</td>\n",
       "      <td>0.047468</td>\n",
       "      <td>0.081217</td>\n",
       "      <td>-0.042919</td>\n",
       "      <td>0.047936</td>\n",
       "      <td>-0.039455</td>\n",
       "      <td>-0.068909</td>\n",
       "      <td>-0.049422</td>\n",
       "      <td>-0.051906</td>\n",
       "    </tr>\n",
       "    <tr>\n",
       "      <th>2</th>\n",
       "      <td>2008-08-12</td>\n",
       "      <td>-0.011818</td>\n",
       "      <td>0.015348</td>\n",
       "      <td>0.016142</td>\n",
       "      <td>0.059271</td>\n",
       "      <td>0.054074</td>\n",
       "      <td>-0.040012</td>\n",
       "      <td>-0.067032</td>\n",
       "      <td>0.061725</td>\n",
       "      <td>-0.013906</td>\n",
       "      <td>...</td>\n",
       "      <td>0.016392</td>\n",
       "      <td>0.075807</td>\n",
       "      <td>-0.016552</td>\n",
       "      <td>0.010285</td>\n",
       "      <td>0.000613</td>\n",
       "      <td>-0.035458</td>\n",
       "      <td>-0.051954</td>\n",
       "      <td>-0.010246</td>\n",
       "      <td>-0.074031</td>\n",
       "      <td>-0.072625</td>\n",
       "    </tr>\n",
       "    <tr>\n",
       "      <th>3</th>\n",
       "      <td>2008-08-13</td>\n",
       "      <td>-0.008583</td>\n",
       "      <td>0.015511</td>\n",
       "      <td>-0.032401</td>\n",
       "      <td>-0.064624</td>\n",
       "      <td>0.020649</td>\n",
       "      <td>0.005840</td>\n",
       "      <td>0.006389</td>\n",
       "      <td>0.054969</td>\n",
       "      <td>0.016002</td>\n",
       "      <td>...</td>\n",
       "      <td>0.037088</td>\n",
       "      <td>0.064971</td>\n",
       "      <td>0.013768</td>\n",
       "      <td>0.051682</td>\n",
       "      <td>-0.050720</td>\n",
       "      <td>0.031203</td>\n",
       "      <td>0.008062</td>\n",
       "      <td>-0.045218</td>\n",
       "      <td>-0.021317</td>\n",
       "      <td>-0.054575</td>\n",
       "    </tr>\n",
       "    <tr>\n",
       "      <th>4</th>\n",
       "      <td>2008-08-14</td>\n",
       "      <td>0.007272</td>\n",
       "      <td>0.023187</td>\n",
       "      <td>0.022485</td>\n",
       "      <td>-0.027689</td>\n",
       "      <td>0.041283</td>\n",
       "      <td>0.037246</td>\n",
       "      <td>0.039393</td>\n",
       "      <td>0.002239</td>\n",
       "      <td>0.049105</td>\n",
       "      <td>...</td>\n",
       "      <td>0.048365</td>\n",
       "      <td>0.055074</td>\n",
       "      <td>0.078453</td>\n",
       "      <td>0.032827</td>\n",
       "      <td>-0.036714</td>\n",
       "      <td>0.023838</td>\n",
       "      <td>0.047548</td>\n",
       "      <td>0.054426</td>\n",
       "      <td>-0.072552</td>\n",
       "      <td>-0.024525</td>\n",
       "    </tr>\n",
       "  </tbody>\n",
       "</table>\n",
       "<p>5 rows × 5123 columns</p>\n",
       "</div>"
      ],
      "text/plain": [
       "         Date  percent_change  spread_rel_open  Top1_feature_0  \\\n",
       "0  2008-08-08        0.026437         0.032533        0.045079   \n",
       "1  2008-08-11        0.004491         0.016333        0.019073   \n",
       "2  2008-08-12       -0.011818         0.015348        0.016142   \n",
       "3  2008-08-13       -0.008583         0.015511       -0.032401   \n",
       "4  2008-08-14        0.007272         0.023187        0.022485   \n",
       "\n",
       "   Top1_feature_1  Top1_feature_2  Top1_feature_3  Top1_feature_4  \\\n",
       "0       -0.022705       -0.054172        0.004627       -0.072887   \n",
       "1       -0.077482       -0.030234       -0.024577       -0.029507   \n",
       "2        0.059271        0.054074       -0.040012       -0.067032   \n",
       "3       -0.064624        0.020649        0.005840        0.006389   \n",
       "4       -0.027689        0.041283        0.037246        0.039393   \n",
       "\n",
       "   Top1_feature_5  Top1_feature_6  ...  Top10_feature_502  Top10_feature_503  \\\n",
       "0        0.006421       -0.013796  ...           0.037529           0.079555   \n",
       "1        0.055582       -0.009761  ...           0.035775           0.010439   \n",
       "2        0.061725       -0.013906  ...           0.016392           0.075807   \n",
       "3        0.054969        0.016002  ...           0.037088           0.064971   \n",
       "4        0.002239        0.049105  ...           0.048365           0.055074   \n",
       "\n",
       "   Top10_feature_504  Top10_feature_505  Top10_feature_506  Top10_feature_507  \\\n",
       "0           0.007900           0.052349          -0.032850          -0.024886   \n",
       "1           0.047468           0.081217          -0.042919           0.047936   \n",
       "2          -0.016552           0.010285           0.000613          -0.035458   \n",
       "3           0.013768           0.051682          -0.050720           0.031203   \n",
       "4           0.078453           0.032827          -0.036714           0.023838   \n",
       "\n",
       "   Top10_feature_508  Top10_feature_509  Top10_feature_510  Top10_feature_511  \n",
       "0          -0.008362          -0.008685          -0.037892          -0.041780  \n",
       "1          -0.039455          -0.068909          -0.049422          -0.051906  \n",
       "2          -0.051954          -0.010246          -0.074031          -0.072625  \n",
       "3           0.008062          -0.045218          -0.021317          -0.054575  \n",
       "4           0.047548           0.054426          -0.072552          -0.024525  \n",
       "\n",
       "[5 rows x 5123 columns]"
      ]
     },
     "execution_count": 6,
     "metadata": {},
     "output_type": "execute_result"
    }
   ],
   "source": [
    "embeddings_dataset = pd.read_csv('./data/embeddings_dataset.csv')\n",
    "embeddings_dataset.insert(1, \"percent_change\", magnitude_labels.tolist())\n",
    "embeddings_dataset.insert(2, \"spread_rel_open\", spread_labels.tolist())\n",
    "embeddings_dataset.head()"
   ]
  },
  {
   "cell_type": "markdown",
   "metadata": {},
   "source": [
    "To display the relationships between headlines in the news, we slice the tranformed dataset by only considering the TOP Reddit news story each day. Then, graphs displaying the cosine similarity metric below for the first number_days (starting 08-08-2008) can be referenced below."
   ]
  },
  {
   "cell_type": "code",
   "execution_count": 7,
   "metadata": {},
   "outputs": [],
   "source": [
    "def plot_similarity(features, rotation):\n",
    "    metric = cosine_similarity(features, features)\n",
    "    sns.set(font_scale = 1.2)\n",
    "    graph = sns.heatmap(metric, vmin = 0, vmax = 1)\n",
    "    graph.set_title(\"Semantic Textual Cosine Similarity\")"
   ]
  },
  {
   "cell_type": "code",
   "execution_count": 8,
   "metadata": {},
   "outputs": [
    {
     "data": {
      "image/png": "[encoded data removed]",
      "text/plain": [
       "<Figure size 432x288 with 2 Axes>"
      ]
     },
     "metadata": {},
     "output_type": "display_data"
    }
   ],
   "source": [
    "number_days = 10\n",
    "plot_similarity(embeddings_dataset.loc[0 : number_days - 1, \"Top1_feature_0\" : \"Top1_feature_511\"], 90)"
   ]
  },
  {
   "cell_type": "markdown",
   "metadata": {},
   "source": [
    "Lastly, lets take a peek at the top news headings for the following distinct pairings that have the highest indicated similarity between their embeddings: (0, 3), (1, 3), and (6, 8). We expext to see news headings that are semantically similar among these pairs."
   ]
  },
  {
   "cell_type": "code",
   "execution_count": 9,
   "metadata": {},
   "outputs": [
    {
     "name": "stdout",
     "output_type": "stream",
     "text": [
      "Day 0 heading: Georgia 'downs two Russian warplanes' as countries move to brink of war\n",
      "Day 3 heading: U.S. refuses Israel weapons to attack Iran: report\n",
      "  --> cosine similarity = 0.2979886424922489\n",
      "\n",
      "Day 1 heading: Why wont America and Nato help us? If they wont help us now, why did we help them in Iraq?\n",
      "Day 3 heading: U.S. refuses Israel weapons to attack Iran: report\n",
      "  --> cosine similarity = 0.3074834316059009\n",
      "\n",
      "Day 6 heading: In an Afghan prison, the majority of female prisoners are serving 20-year sentences for being victims of rape\n",
      "Day 8 heading: Two elderly Chinese women have been sentenced to a year of re-education through labor after they sought a permit to demonstrate in an official Olympic protest area.\n",
      "  --> cosine similarity = 0.38154694854352833\n",
      "\n"
     ]
    }
   ],
   "source": [
    "print(\"Day 0 heading: \" + combined_dataset[\"Top1\"][0])\n",
    "print(\"Day 3 heading: \" + combined_dataset[\"Top1\"][3])\n",
    "sim = cosine_similarity(\n",
    "    embeddings_dataset.loc[0 : 0, \"Top1_feature_0\" : \"Top1_feature_511\"], \n",
    "    embeddings_dataset.loc[3 : 3, \"Top1_feature_0\" : \"Top1_feature_511\"]\n",
    ")\n",
    "print(\"  --> cosine similarity = \" + str(sim[0][0]) + \"\\n\")\n",
    "\n",
    "print(\"Day 1 heading: \" + combined_dataset[\"Top1\"][1])\n",
    "print(\"Day 3 heading: \" + combined_dataset[\"Top1\"][3])\n",
    "sim = cosine_similarity(\n",
    "    embeddings_dataset.loc[1 : 1, \"Top1_feature_0\" : \"Top1_feature_511\"], \n",
    "    embeddings_dataset.loc[3 : 3, \"Top1_feature_0\" : \"Top1_feature_511\"]\n",
    ")\n",
    "print(\"  --> cosine similarity = \" + str(sim[0][0]) + \"\\n\")\n",
    "\n",
    "print(\"Day 6 heading: \" + combined_dataset[\"Top1\"][6])\n",
    "print(\"Day 8 heading: \" + combined_dataset[\"Top1\"][8])\n",
    "sim = cosine_similarity(\n",
    "    embeddings_dataset.loc[6 : 6, \"Top1_feature_0\" : \"Top1_feature_511\"], \n",
    "    embeddings_dataset.loc[8 : 8, \"Top1_feature_0\" : \"Top1_feature_511\"]\n",
    ")\n",
    "print(\"  --> cosine similarity = \" + str(sim[0][0]) + \"\\n\")"
   ]
  },
  {
   "cell_type": "markdown",
   "metadata": {},
   "source": [
    "Here, in the above comparison, we can see that (0, 1, 3) are all about war, Isreal, Iraq/Iran. Additionally, we can see that (6, 8) both involve the topic of prison."
   ]
  },
  {
   "cell_type": "markdown",
   "metadata": {},
   "source": [
    "# In-Depth Data Investigation\n",
    "In this section, we explore how different techniques and approaches may be utilized to extract insights. From a high level overview, we do clustering, sentiment analysis, and normalization of the compound sentiment analysis results."
   ]
  },
  {
   "cell_type": "markdown",
   "metadata": {},
   "source": [
    "## K-Means Clustering\n",
    "Here, we found the clusters of different news articles, and found that the optimal number of centroids was 10."
   ]
  },
  {
   "cell_type": "code",
   "execution_count": 10,
   "metadata": {},
   "outputs": [],
   "source": [
    "# get all article headlines in consistent order for verification\n",
    "flat_news = []\n",
    "for i in range(1, 11):\n",
    "    accessStr = \"Top\" + str(i)\n",
    "    for headLine in combined_dataset[accessStr]:\n",
    "        flat_news.append(headLine)"
   ]
  },
  {
   "cell_type": "code",
   "execution_count": 11,
   "metadata": {},
   "outputs": [],
   "source": [
    "from sklearn.cluster import KMeans\n",
    "numClusters = 15\n",
    "def getKMeansModel(data, K=numClusters):\n",
    "    # Make the model and fit it to the data\n",
    "    kMeansModel = KMeans(K, random_state=0)\n",
    "    kMeansModel.fit(data)\n",
    "    \n",
    "    # Print the centroids\n",
    "    centroids = kMeansModel.cluster_centers_\n",
    "    \n",
    "    return kMeansModel"
   ]
  },
  {
   "cell_type": "code",
   "execution_count": 12,
   "metadata": {},
   "outputs": [],
   "source": [
    "from sklearn.metrics import silhouette_samples, silhouette_score\n",
    "\n",
    "# Predict which cluster the data falls into. Expects data to be a 2d array\n",
    "def predictCluster(model, data):\n",
    "    return model.predict(data)\n",
    "def silhouette(data, labels):\n",
    "    return silhouette_score(data, labels)"
   ]
  },
  {
   "cell_type": "code",
   "execution_count": 13,
   "metadata": {
    "tags": []
   },
   "outputs": [
    {
     "name": "stdout",
     "output_type": "stream",
     "text": [
      "(1989, 512)\n",
      "(19890, 512)\n"
     ]
    }
   ],
   "source": [
    "# Grab all features excluding dates\n",
    "dframes = []\n",
    "for i in range(1, 11):\n",
    "    feat_string = \"Top\" + str(i)\n",
    "    dframes.append(embeddings_dataset.loc[:, f'{feat_string}_feature_0' : f'{feat_string}_feature_511' ])\n",
    "\n",
    "# Convert to np array\n",
    "print(dframes[1].shape)\n",
    "allFeatures = np.concatenate(dframes)\n",
    "print(allFeatures.shape)\n",
    "\n",
    "# Get the model\n",
    "kMeansModel = getKMeansModel(allFeatures, 15)"
   ]
  },
  {
   "cell_type": "code",
   "execution_count": 14,
   "metadata": {},
   "outputs": [],
   "source": [
    "import matplotlib.pyplot as plt"
   ]
  },
  {
   "cell_type": "code",
   "execution_count": 15,
   "metadata": {},
   "outputs": [],
   "source": [
    "# # Sample predictions of first ten inputs\n",
    "# arr = []\n",
    "# for i in range(2, 27):\n",
    "#     kMeansModel = getKMeansModel(allFeatures, i)\n",
    "#     predict = (predictCluster(kMeansModel, allFeatures))\n",
    "#     arr.append(silhouette(allFeatures, predict))\n",
    "\n",
    "# plt.plot(arr)\n",
    "# plt.title(\"Silhouette score versus number of clusters\")\n",
    "# plt.xlabel(\"Number of clusters\")\n",
    "# plt.ylabel(\"Silhouette score\")\n",
    "# plt.show()"
   ]
  },
  {
   "cell_type": "code",
   "execution_count": 16,
   "metadata": {},
   "outputs": [],
   "source": [
    "# optimal number of clusters is about index 8-9 which is 10-11 centroids\n",
    "optimal_num_centroids = 10\n",
    "opti_model = getKMeansModel(allFeatures, optimal_num_centroids)"
   ]
  },
  {
   "cell_type": "code",
   "execution_count": 17,
   "metadata": {},
   "outputs": [
    {
     "data": {
      "text/html": [
       "<div>\n",
       "<style scoped>\n",
       "    .dataframe tbody tr th:only-of-type {\n",
       "        vertical-align: middle;\n",
       "    }\n",
       "\n",
       "    .dataframe tbody tr th {\n",
       "        vertical-align: top;\n",
       "    }\n",
       "\n",
       "    .dataframe thead th {\n",
       "        text-align: right;\n",
       "    }\n",
       "</style>\n",
       "<table border=\"1\" class=\"dataframe\">\n",
       "  <thead>\n",
       "    <tr style=\"text-align: right;\">\n",
       "      <th></th>\n",
       "      <th>cluster</th>\n",
       "      <th>articles</th>\n",
       "    </tr>\n",
       "  </thead>\n",
       "  <tbody>\n",
       "    <tr>\n",
       "      <th>2</th>\n",
       "      <td>8</td>\n",
       "      <td>Remember that adorable 9-year-old who sang at ...</td>\n",
       "    </tr>\n",
       "    <tr>\n",
       "      <th>31</th>\n",
       "      <td>8</td>\n",
       "      <td>$US 13 billion of the money allocated for reco...</td>\n",
       "    </tr>\n",
       "    <tr>\n",
       "      <th>34</th>\n",
       "      <td>8</td>\n",
       "      <td>Japanese space tourist paid Space Adventures $...</td>\n",
       "    </tr>\n",
       "    <tr>\n",
       "      <th>44</th>\n",
       "      <td>8</td>\n",
       "      <td>Icelandic Currency (ISK) loses 73% of its valu...</td>\n",
       "    </tr>\n",
       "    <tr>\n",
       "      <th>48</th>\n",
       "      <td>8</td>\n",
       "      <td>Iceland has food stocks for about 3 to 5 weeks</td>\n",
       "    </tr>\n",
       "    <tr>\n",
       "      <th>70</th>\n",
       "      <td>8</td>\n",
       "      <td>Haitians are so desperate for food that many m...</td>\n",
       "    </tr>\n",
       "    <tr>\n",
       "      <th>71</th>\n",
       "      <td>8</td>\n",
       "      <td>India sinks Somali pirate ship</td>\n",
       "    </tr>\n",
       "    <tr>\n",
       "      <th>76</th>\n",
       "      <td>8</td>\n",
       "      <td>RIP Brenden Foster, the 11-year-old whose last...</td>\n",
       "    </tr>\n",
       "    <tr>\n",
       "      <th>77</th>\n",
       "      <td>8</td>\n",
       "      <td>Live updates on Mumbai Blasts</td>\n",
       "    </tr>\n",
       "    <tr>\n",
       "      <th>80</th>\n",
       "      <td>8</td>\n",
       "      <td>Brazil Announces Plan to Slow Amazon Deforesta...</td>\n",
       "    </tr>\n",
       "  </tbody>\n",
       "</table>\n",
       "</div>"
      ],
      "text/plain": [
       "    cluster                                           articles\n",
       "2         8  Remember that adorable 9-year-old who sang at ...\n",
       "31        8  $US 13 billion of the money allocated for reco...\n",
       "34        8  Japanese space tourist paid Space Adventures $...\n",
       "44        8  Icelandic Currency (ISK) loses 73% of its valu...\n",
       "48        8     Iceland has food stocks for about 3 to 5 weeks\n",
       "70        8  Haitians are so desperate for food that many m...\n",
       "71        8                     India sinks Somali pirate ship\n",
       "76        8  RIP Brenden Foster, the 11-year-old whose last...\n",
       "77        8                      Live updates on Mumbai Blasts\n",
       "80        8  Brazil Announces Plan to Slow Amazon Deforesta..."
      ]
     },
     "execution_count": 17,
     "metadata": {},
     "output_type": "execute_result"
    }
   ],
   "source": [
    "cluster_map = pd.DataFrame()\n",
    "cluster_map['cluster'] = opti_model.labels_\n",
    "cluster_map['articles'] = flat_news\n",
    "\n",
    "cluster_map[cluster_map.cluster == 8][:10]"
   ]
  },
  {
   "cell_type": "code",
   "execution_count": 18,
   "metadata": {},
   "outputs": [],
   "source": [
    "# # Print out some of the clusters\n",
    "# predictions = predictCluster(opti_model, allFeatures[:100]),\n",
    "# clusters = [[] for i in range(optimal_num_centroids)]\n",
    "# # Builds clusters\n",
    "# for index, predict in enumerate(predictions):\n",
    "#     clusters[index - 1].append(predict)\n",
    "\n",
    "# print(clusters)\n",
    "# for clusterIndex in range(len(clusters)):\n",
    "#     print(clusterIndex)\n",
    "#     for index in clusters[clusterIndex]:\n",
    "#         print(combined_dataset[\"Top1\"][index])"
   ]
  },
  {
   "cell_type": "markdown",
   "metadata": {},
   "source": [
    "## Sentiment Analysis\n",
    "In this section, we do sentiment analysis of each of the news articles, then normalize, as we found that the average article skewed negative."
   ]
  },
  {
   "cell_type": "code",
   "execution_count": 19,
   "metadata": {},
   "outputs": [
    {
     "name": "stderr",
     "output_type": "stream",
     "text": [
      "[nltk_data] Downloading package vader_lexicon to\n",
      "[nltk_data]     /Users/doydoy8/nltk_data...\n",
      "[nltk_data]   Package vader_lexicon is already up-to-date!\n"
     ]
    }
   ],
   "source": [
    "import nltk\n",
    "nltk.download('vader_lexicon')\n",
    "from nltk.sentiment.vader import SentimentIntensityAnalyzer\n",
    "sen = SentimentIntensityAnalyzer()"
   ]
  },
  {
   "cell_type": "code",
   "execution_count": 20,
   "metadata": {
    "tags": []
   },
   "outputs": [],
   "source": [
    "# creates polarity scores for all news articles\n",
    "news_pol = [[] for i in range(10)]\n",
    "for i in range(1, 11):\n",
    "    accessStr = \"Top\" + str(i)\n",
    "    topCur = []\n",
    "    for headLine in combined_dataset[accessStr]:\n",
    "        topCur.append(sen.polarity_scores(headLine))\n",
    "    news_pol[i-1] = topCur"
   ]
  },
  {
   "cell_type": "code",
   "execution_count": 21,
   "metadata": {
    "tags": []
   },
   "outputs": [
    {
     "name": "stdout",
     "output_type": "stream",
     "text": [
      "Minimum compound rating -0.9898\n",
      "Minimum compound rating 0.9623\n",
      "Average compound rating -0.2162445500251383\n",
      "Calculated polarity {'neg': 0.0, 'neu': 0.572, 'pos': 0.428, 'compound': 0.9623} and compound 0.9623 for positive\n",
      "Most positive article is \n",
      " Snowden Nominated for Freedom of Thought Prize \"Members of the European Parliament are officially nominating fugitive US leaker Edward Snowden for a prize celebrating freedom of thought, a parliamentary representative said Wednesday.\n",
      "Calculated polarity {'neg': 0.465, 'neu': 0.51, 'pos': 0.025, 'compound': -0.9898} and compound -0.9898 for negative\n",
      "Most negative article is \n",
      " The war on drugs in Mexico, decreed by Caldern, part-funded by millions of dollars in U.S. govt aids, has not only failed to curb the trade but intensified horrific violence, corruption and human-rights abuses - 37,000 Mexicans have been murdered, often tortured and brutalized before their deaths\n"
     ]
    },
    {
     "data": {
      "image/png": "[encoded data removed]",
      "text/plain": [
       "<Figure size 432x288 with 1 Axes>"
      ]
     },
     "metadata": {},
     "output_type": "display_data"
    }
   ],
   "source": [
    "# calculate some statistics\n",
    "flat_list = [x for top in news_pol for x in top]\n",
    "neg_list = [x['neg'] for x in flat_list]\n",
    "neu_list = [x['neu'] for x in flat_list]\n",
    "pos_list = [x['pos'] for x in flat_list]\n",
    "comp_list = [x['compound'] for x in flat_list]\n",
    "print(\"Minimum compound rating {}\".format(np.min(comp_list)))\n",
    "print(\"Minimum compound rating {}\".format(np.max(comp_list)))\n",
    "avg_comp = np.average(comp_list)\n",
    "print(\"Average compound rating {}\".format(avg_comp))\n",
    "max_ind = (np.argmax(comp_list))\n",
    "min_ind = (np.argmin(comp_list))\n",
    "print(\"Calculated polarity {} and compound {} for positive\".format(sen.polarity_scores(flat_news[max_ind]), comp_list[max_ind]))\n",
    "print(\"Most positive article is \\n\", flat_news[max_ind])\n",
    "print(\"Calculated polarity {} and compound {} for negative\".format(sen.polarity_scores(flat_news[min_ind]), comp_list[min_ind]))\n",
    "print(\"Most negative article is \\n\", flat_news[min_ind])\n",
    "\n",
    "threshholds = [.1 * i for i in range(1, 12)]\n",
    "t_arr = []\n",
    "for t in threshholds:\n",
    "    lower, upper = avg_comp - t, avg_comp + t\n",
    "    percentile = np.count_nonzero((lower < comp_list) & (comp_list < upper))/len(comp_list)\n",
    "    t_arr.append(percentile)\n",
    "plt.plot(threshholds, t_arr)\n",
    "plt.title(\"Proportion of headlines included versus tolerance\")\n",
    "plt.xlabel(\"Tolerance\")\n",
    "plt.ylabel(\"Proportion of headlines\")\n",
    "plt.show()"
   ]
  },
  {
   "cell_type": "code",
   "execution_count": 22,
   "metadata": {},
   "outputs": [
    {
     "data": {
      "image/png": "[encoded data removed]",
      "text/plain": [
       "<Figure size 432x288 with 1 Axes>"
      ]
     },
     "metadata": {},
     "output_type": "display_data"
    }
   ],
   "source": [
    "# Graph the compound sentiment\n",
    "compoundSentimentPlot = pd.DataFrame(comp_list).plot(kind='density', title=\"Compound sentiment scores vs. density\")\n",
    "compoundSentimentPlot.set_xlabel(\"Compound sentiment score\")\n",
    "compoundSentimentPlot.set_xlim(-1, 1)\n",
    "plt.show()"
   ]
  },
  {
   "cell_type": "code",
   "execution_count": 23,
   "metadata": {
    "scrolled": false
   },
   "outputs": [
    {
     "name": "stdout",
     "output_type": "stream",
     "text": [
      "Average of normalized composite scores 8.645115236497951e-17\n"
     ]
    },
    {
     "data": {
      "image/png": "[encoded data removed]",
      "text/plain": [
       "<Figure size 432x288 with 1 Axes>"
      ]
     },
     "metadata": {},
     "output_type": "display_data"
    }
   ],
   "source": [
    "# Normalize compound sentiment\n",
    "from scipy import stats\n",
    "from scipy.stats import gaussian_kde\n",
    "normalizedCompList = stats.zscore(comp_list)\n",
    "\n",
    "# Sanity check\n",
    "print(\"Average of normalized composite scores {}\".format(np.average(normalizedCompList)))\n",
    "\n",
    "# Graph the normalized sentiment\n",
    "density = gaussian_kde(normalizedCompList)\n",
    "a_min, a_max = np.min(normalizedCompList), np.max(normalizedCompList)\n",
    "xs = np.linspace(a_min, a_max, 250)\n",
    "density.covariance_factor = lambda: .25\n",
    "density._compute_covariance()\n",
    "plt.plot(xs, density(xs))\n",
    "plt.title(\"normalized compound sentiment scores vs density\")\n",
    "plt.ylabel(\"density\")\n",
    "plt.xlabel(\"z-score\")\n",
    "plt.show()"
   ]
  },
  {
   "cell_type": "markdown",
   "metadata": {},
   "source": [
    "# Regression\n",
    "Here, we use the clusters with the stock movements in order to perform regression. We focus on a key tests:\n",
    "- Running with the top 10 stories with just sentiment\n",
    "- Running on top 10 stories with which cluster they belong to\n",
    "    - Weighting the clusters in the order of appearance in top 10\n",
    "- Running combinations of the above\n",
    "\n",
    "- Weighted average of parameter\n",
    "- Each day has 10 boxes, has value between 0 and 1 depending on % of articles that were in that box"
   ]
  },
  {
   "cell_type": "markdown",
   "metadata": {},
   "source": [
    "## Map in cluster labels"
   ]
  },
  {
   "cell_type": "code",
   "execution_count": 24,
   "metadata": {
    "scrolled": true
   },
   "outputs": [
    {
     "name": "stdout",
     "output_type": "stream",
     "text": [
      "(1989, 10)\n"
     ]
    },
    {
     "data": {
      "text/html": [
       "<div>\n",
       "<style scoped>\n",
       "    .dataframe tbody tr th:only-of-type {\n",
       "        vertical-align: middle;\n",
       "    }\n",
       "\n",
       "    .dataframe tbody tr th {\n",
       "        vertical-align: top;\n",
       "    }\n",
       "\n",
       "    .dataframe thead th {\n",
       "        text-align: right;\n",
       "    }\n",
       "</style>\n",
       "<table border=\"1\" class=\"dataframe\">\n",
       "  <thead>\n",
       "    <tr style=\"text-align: right;\">\n",
       "      <th></th>\n",
       "      <th>Date</th>\n",
       "      <th>percent_change</th>\n",
       "      <th>spread_rel_open</th>\n",
       "      <th>Top1</th>\n",
       "      <th>Top2</th>\n",
       "      <th>Top3</th>\n",
       "      <th>Top4</th>\n",
       "      <th>Top5</th>\n",
       "      <th>Top6</th>\n",
       "      <th>Top7</th>\n",
       "      <th>...</th>\n",
       "      <th>Top1_Cluster</th>\n",
       "      <th>Top2_Cluster</th>\n",
       "      <th>Top3_Cluster</th>\n",
       "      <th>Top4_Cluster</th>\n",
       "      <th>Top5_Cluster</th>\n",
       "      <th>Top6_Cluster</th>\n",
       "      <th>Top7_Cluster</th>\n",
       "      <th>Top8_Cluster</th>\n",
       "      <th>Top9_Cluster</th>\n",
       "      <th>Top10_Cluster</th>\n",
       "    </tr>\n",
       "  </thead>\n",
       "  <tbody>\n",
       "    <tr>\n",
       "      <th>0</th>\n",
       "      <td>2008-08-08</td>\n",
       "      <td>0.026437</td>\n",
       "      <td>0.032533</td>\n",
       "      <td>Georgia 'downs two Russian warplanes' as count...</td>\n",
       "      <td>BREAKING: Musharraf to be impeached.</td>\n",
       "      <td>Russia Today: Columns of troops roll into Sout...</td>\n",
       "      <td>Russian tanks are moving towards the capital o...</td>\n",
       "      <td>Afghan children raped with 'impunity,' U.N. of...</td>\n",
       "      <td>150 Russian tanks have entered South Ossetia w...</td>\n",
       "      <td>Breaking: Georgia invades South Ossetia, Russi...</td>\n",
       "      <td>...</td>\n",
       "      <td>6</td>\n",
       "      <td>2</td>\n",
       "      <td>8</td>\n",
       "      <td>7</td>\n",
       "      <td>1</td>\n",
       "      <td>0</td>\n",
       "      <td>0</td>\n",
       "      <td>0</td>\n",
       "      <td>3</td>\n",
       "      <td>5</td>\n",
       "    </tr>\n",
       "    <tr>\n",
       "      <th>1</th>\n",
       "      <td>2008-08-11</td>\n",
       "      <td>0.004491</td>\n",
       "      <td>0.016333</td>\n",
       "      <td>Why wont America and Nato help us? If they won...</td>\n",
       "      <td>Bush puts foot down on Georgian conflict</td>\n",
       "      <td>Jewish Georgian minister: Thanks to Israeli tr...</td>\n",
       "      <td>Georgian army flees in disarray as Russians ad...</td>\n",
       "      <td>Olympic opening ceremony fireworks 'faked</td>\n",
       "      <td>What were the Mossad with fraudulent New Zeala...</td>\n",
       "      <td>Russia angered by Israeli military sale to Geo...</td>\n",
       "      <td>...</td>\n",
       "      <td>6</td>\n",
       "      <td>9</td>\n",
       "      <td>9</td>\n",
       "      <td>2</td>\n",
       "      <td>6</td>\n",
       "      <td>6</td>\n",
       "      <td>7</td>\n",
       "      <td>1</td>\n",
       "      <td>0</td>\n",
       "      <td>0</td>\n",
       "    </tr>\n",
       "    <tr>\n",
       "      <th>2</th>\n",
       "      <td>2008-08-12</td>\n",
       "      <td>-0.011818</td>\n",
       "      <td>0.015348</td>\n",
       "      <td>Remember that adorable 9-year-old who sang at ...</td>\n",
       "      <td>Russia 'ends Georgia operation</td>\n",
       "      <td>If we had no sexual harassment we would have n...</td>\n",
       "      <td>Al-Qa'eda is losing support in Iraq because of...</td>\n",
       "      <td>Ceasefire in Georgia: Putin Outmaneuvers the West</td>\n",
       "      <td>Why Microsoft and Intel tried to kill the XO $...</td>\n",
       "      <td>Stratfor: The Russo-Georgian War and the Balan...</td>\n",
       "      <td>...</td>\n",
       "      <td>4</td>\n",
       "      <td>0</td>\n",
       "      <td>4</td>\n",
       "      <td>6</td>\n",
       "      <td>2</td>\n",
       "      <td>6</td>\n",
       "      <td>2</td>\n",
       "      <td>2</td>\n",
       "      <td>0</td>\n",
       "      <td>4</td>\n",
       "    </tr>\n",
       "    <tr>\n",
       "      <th>3</th>\n",
       "      <td>2008-08-13</td>\n",
       "      <td>-0.008583</td>\n",
       "      <td>0.015511</td>\n",
       "      <td>U.S. refuses Israel weapons to attack Iran: re...</td>\n",
       "      <td>When the president ordered to attack Tskhinval...</td>\n",
       "      <td>Israel clears troops who killed Reuters cameraman</td>\n",
       "      <td>Britain\\'s policy of being tough on drugs is \"...</td>\n",
       "      <td>Body of 14 year old found in trunk; Latest (ra...</td>\n",
       "      <td>China has moved 10 *million* quake survivors i...</td>\n",
       "      <td>Bush announces Operation Get All Up In Russia'...</td>\n",
       "      <td>...</td>\n",
       "      <td>6</td>\n",
       "      <td>8</td>\n",
       "      <td>2</td>\n",
       "      <td>6</td>\n",
       "      <td>8</td>\n",
       "      <td>5</td>\n",
       "      <td>6</td>\n",
       "      <td>0</td>\n",
       "      <td>0</td>\n",
       "      <td>2</td>\n",
       "    </tr>\n",
       "    <tr>\n",
       "      <th>4</th>\n",
       "      <td>2008-08-14</td>\n",
       "      <td>0.007272</td>\n",
       "      <td>0.023187</td>\n",
       "      <td>All the experts admit that we should legalise ...</td>\n",
       "      <td>War in South Osetia - 89 pictures made by a Ru...</td>\n",
       "      <td>Swedish wrestler Ara Abrahamian throws away me...</td>\n",
       "      <td>Russia exaggerated the death toll in South Oss...</td>\n",
       "      <td>Missile That Killed 9 Inside Pakistan May Have...</td>\n",
       "      <td>Rushdie Condemns Random House's Refusal to Pub...</td>\n",
       "      <td>Poland and US agree to missle defense deal. In...</td>\n",
       "      <td>...</td>\n",
       "      <td>4</td>\n",
       "      <td>6</td>\n",
       "      <td>2</td>\n",
       "      <td>0</td>\n",
       "      <td>8</td>\n",
       "      <td>4</td>\n",
       "      <td>6</td>\n",
       "      <td>4</td>\n",
       "      <td>8</td>\n",
       "      <td>4</td>\n",
       "    </tr>\n",
       "  </tbody>\n",
       "</table>\n",
       "<p>5 rows × 23 columns</p>\n",
       "</div>"
      ],
      "text/plain": [
       "         Date  percent_change  spread_rel_open  \\\n",
       "0  2008-08-08        0.026437         0.032533   \n",
       "1  2008-08-11        0.004491         0.016333   \n",
       "2  2008-08-12       -0.011818         0.015348   \n",
       "3  2008-08-13       -0.008583         0.015511   \n",
       "4  2008-08-14        0.007272         0.023187   \n",
       "\n",
       "                                                Top1  \\\n",
       "0  Georgia 'downs two Russian warplanes' as count...   \n",
       "1  Why wont America and Nato help us? If they won...   \n",
       "2  Remember that adorable 9-year-old who sang at ...   \n",
       "3  U.S. refuses Israel weapons to attack Iran: re...   \n",
       "4  All the experts admit that we should legalise ...   \n",
       "\n",
       "                                                Top2  \\\n",
       "0               BREAKING: Musharraf to be impeached.   \n",
       "1           Bush puts foot down on Georgian conflict   \n",
       "2                     Russia 'ends Georgia operation   \n",
       "3  When the president ordered to attack Tskhinval...   \n",
       "4  War in South Osetia - 89 pictures made by a Ru...   \n",
       "\n",
       "                                                Top3  \\\n",
       "0  Russia Today: Columns of troops roll into Sout...   \n",
       "1  Jewish Georgian minister: Thanks to Israeli tr...   \n",
       "2  If we had no sexual harassment we would have n...   \n",
       "3  Israel clears troops who killed Reuters cameraman   \n",
       "4  Swedish wrestler Ara Abrahamian throws away me...   \n",
       "\n",
       "                                                Top4  \\\n",
       "0  Russian tanks are moving towards the capital o...   \n",
       "1  Georgian army flees in disarray as Russians ad...   \n",
       "2  Al-Qa'eda is losing support in Iraq because of...   \n",
       "3  Britain\\'s policy of being tough on drugs is \"...   \n",
       "4  Russia exaggerated the death toll in South Oss...   \n",
       "\n",
       "                                                Top5  \\\n",
       "0  Afghan children raped with 'impunity,' U.N. of...   \n",
       "1          Olympic opening ceremony fireworks 'faked   \n",
       "2  Ceasefire in Georgia: Putin Outmaneuvers the West   \n",
       "3  Body of 14 year old found in trunk; Latest (ra...   \n",
       "4  Missile That Killed 9 Inside Pakistan May Have...   \n",
       "\n",
       "                                                Top6  \\\n",
       "0  150 Russian tanks have entered South Ossetia w...   \n",
       "1  What were the Mossad with fraudulent New Zeala...   \n",
       "2  Why Microsoft and Intel tried to kill the XO $...   \n",
       "3  China has moved 10 *million* quake survivors i...   \n",
       "4  Rushdie Condemns Random House's Refusal to Pub...   \n",
       "\n",
       "                                                Top7  ... Top1_Cluster  \\\n",
       "0  Breaking: Georgia invades South Ossetia, Russi...  ...            6   \n",
       "1  Russia angered by Israeli military sale to Geo...  ...            6   \n",
       "2  Stratfor: The Russo-Georgian War and the Balan...  ...            4   \n",
       "3  Bush announces Operation Get All Up In Russia'...  ...            6   \n",
       "4  Poland and US agree to missle defense deal. In...  ...            4   \n",
       "\n",
       "  Top2_Cluster Top3_Cluster  Top4_Cluster  Top5_Cluster  Top6_Cluster  \\\n",
       "0            2            8             7             1             0   \n",
       "1            9            9             2             6             6   \n",
       "2            0            4             6             2             6   \n",
       "3            8            2             6             8             5   \n",
       "4            6            2             0             8             4   \n",
       "\n",
       "   Top7_Cluster  Top8_Cluster  Top9_Cluster  Top10_Cluster  \n",
       "0             0             0             3              5  \n",
       "1             7             1             0              0  \n",
       "2             2             2             0              4  \n",
       "3             6             0             0              2  \n",
       "4             6             4             8              4  \n",
       "\n",
       "[5 rows x 23 columns]"
      ]
     },
     "execution_count": 24,
     "metadata": {},
     "output_type": "execute_result"
    }
   ],
   "source": [
    "# Get the Date, Changes, and the articles\n",
    "topTen = combined_dataset.loc[:, \"Date\":\"Top10\"]\n",
    "opti_model_labels = opti_model.labels_\n",
    "opti_model_labels_shape = opti_model_labels.shape\n",
    "\n",
    "cluster_labels_shaped = np.reshape(opti_model_labels, (int(opti_model_labels_shape[0] / optimal_num_centroids), optimal_num_centroids))\n",
    "cluster_labels_shaped_columns = ['Top{}_Cluster'.format(i) for i in range(1, 11)]\n",
    "\n",
    "cluster_lables_df = pd.DataFrame(cluster_labels_shaped, columns=cluster_labels_shaped_columns)\n",
    "\n",
    "# Sanity check\n",
    "print(cluster_lables_df.shape)\n",
    "\n",
    "# cluster_lables_df.head()\n",
    "\n",
    "topTen_clusters = pd.concat([topTen, cluster_lables_df], axis=1)\n",
    "topTen_clusters.head()\n"
   ]
  },
  {
   "cell_type": "markdown",
   "metadata": {},
   "source": [
    "## Map in z-scores"
   ]
  },
  {
   "cell_type": "code",
   "execution_count": 25,
   "metadata": {},
   "outputs": [
    {
     "name": "stdout",
     "output_type": "stream",
     "text": [
      "(1989, 10)\n"
     ]
    },
    {
     "data": {
      "text/html": [
       "<div>\n",
       "<style scoped>\n",
       "    .dataframe tbody tr th:only-of-type {\n",
       "        vertical-align: middle;\n",
       "    }\n",
       "\n",
       "    .dataframe tbody tr th {\n",
       "        vertical-align: top;\n",
       "    }\n",
       "\n",
       "    .dataframe thead th {\n",
       "        text-align: right;\n",
       "    }\n",
       "</style>\n",
       "<table border=\"1\" class=\"dataframe\">\n",
       "  <thead>\n",
       "    <tr style=\"text-align: right;\">\n",
       "      <th></th>\n",
       "      <th>Date</th>\n",
       "      <th>percent_change</th>\n",
       "      <th>spread_rel_open</th>\n",
       "      <th>Top1</th>\n",
       "      <th>Top2</th>\n",
       "      <th>Top3</th>\n",
       "      <th>Top4</th>\n",
       "      <th>Top5</th>\n",
       "      <th>Top6</th>\n",
       "      <th>Top7</th>\n",
       "      <th>...</th>\n",
       "      <th>Top1_Compound_Sentiment</th>\n",
       "      <th>Top2_Compound_Sentiment</th>\n",
       "      <th>Top3_Compound_Sentiment</th>\n",
       "      <th>Top4_Compound_Sentiment</th>\n",
       "      <th>Top5_Compound_Sentiment</th>\n",
       "      <th>Top6_Compound_Sentiment</th>\n",
       "      <th>Top7_Compound_Sentiment</th>\n",
       "      <th>Top8_Compound_Sentiment</th>\n",
       "      <th>Top9_Compound_Sentiment</th>\n",
       "      <th>Top10_Compound_Sentiment</th>\n",
       "    </tr>\n",
       "  </thead>\n",
       "  <tbody>\n",
       "    <tr>\n",
       "      <th>0</th>\n",
       "      <td>2008-08-08</td>\n",
       "      <td>0.026437</td>\n",
       "      <td>0.032533</td>\n",
       "      <td>Georgia 'downs two Russian warplanes' as count...</td>\n",
       "      <td>BREAKING: Musharraf to be impeached.</td>\n",
       "      <td>Russia Today: Columns of troops roll into Sout...</td>\n",
       "      <td>Russian tanks are moving towards the capital o...</td>\n",
       "      <td>Afghan children raped with 'impunity,' U.N. of...</td>\n",
       "      <td>150 Russian tanks have entered South Ossetia w...</td>\n",
       "      <td>Breaking: Georgia invades South Ossetia, Russi...</td>\n",
       "      <td>...</td>\n",
       "      <td>-0.858680</td>\n",
       "      <td>2.312440</td>\n",
       "      <td>0.542440</td>\n",
       "      <td>-1.125367</td>\n",
       "      <td>0.937989</td>\n",
       "      <td>-1.191927</td>\n",
       "      <td>-1.587477</td>\n",
       "      <td>-1.287173</td>\n",
       "      <td>-0.127641</td>\n",
       "      <td>1.340262</td>\n",
       "    </tr>\n",
       "    <tr>\n",
       "      <th>1</th>\n",
       "      <td>2008-08-11</td>\n",
       "      <td>0.004491</td>\n",
       "      <td>0.016333</td>\n",
       "      <td>Why wont America and Nato help us? If they won...</td>\n",
       "      <td>Bush puts foot down on Georgian conflict</td>\n",
       "      <td>Jewish Georgian minister: Thanks to Israeli tr...</td>\n",
       "      <td>Georgian army flees in disarray as Russians ad...</td>\n",
       "      <td>Olympic opening ceremony fireworks 'faked</td>\n",
       "      <td>What were the Mossad with fraudulent New Zeala...</td>\n",
       "      <td>Russia angered by Israeli military sale to Geo...</td>\n",
       "      <td>...</td>\n",
       "      <td>1.294096</td>\n",
       "      <td>-0.764554</td>\n",
       "      <td>-1.336476</td>\n",
       "      <td>-1.018020</td>\n",
       "      <td>1.385307</td>\n",
       "      <td>-0.968940</td>\n",
       "      <td>-1.550499</td>\n",
       "      <td>0.484620</td>\n",
       "      <td>1.246585</td>\n",
       "      <td>-0.927256</td>\n",
       "    </tr>\n",
       "    <tr>\n",
       "      <th>2</th>\n",
       "      <td>2008-08-12</td>\n",
       "      <td>-0.011818</td>\n",
       "      <td>0.015348</td>\n",
       "      <td>Remember that adorable 9-year-old who sang at ...</td>\n",
       "      <td>Russia 'ends Georgia operation</td>\n",
       "      <td>If we had no sexual harassment we would have n...</td>\n",
       "      <td>Al-Qa'eda is losing support in Iraq because of...</td>\n",
       "      <td>Ceasefire in Georgia: Putin Outmaneuvers the West</td>\n",
       "      <td>Why Microsoft and Intel tried to kill the XO $...</td>\n",
       "      <td>Stratfor: The Russo-Georgian War and the Balan...</td>\n",
       "      <td>...</td>\n",
       "      <td>-0.828425</td>\n",
       "      <td>-0.968940</td>\n",
       "      <td>-0.764554</td>\n",
       "      <td>0.937989</td>\n",
       "      <td>0.484620</td>\n",
       "      <td>-0.324856</td>\n",
       "      <td>1.548009</td>\n",
       "      <td>-1.336476</td>\n",
       "      <td>-1.162793</td>\n",
       "      <td>-0.764554</td>\n",
       "    </tr>\n",
       "    <tr>\n",
       "      <th>3</th>\n",
       "      <td>2008-08-13</td>\n",
       "      <td>-0.008583</td>\n",
       "      <td>0.015511</td>\n",
       "      <td>U.S. refuses Israel weapons to attack Iran: re...</td>\n",
       "      <td>When the president ordered to attack Tskhinval...</td>\n",
       "      <td>Israel clears troops who killed Reuters cameraman</td>\n",
       "      <td>Britain\\'s policy of being tough on drugs is \"...</td>\n",
       "      <td>Body of 14 year old found in trunk; Latest (ra...</td>\n",
       "      <td>China has moved 10 *million* quake survivors i...</td>\n",
       "      <td>Bush announces Operation Get All Up In Russia'...</td>\n",
       "      <td>...</td>\n",
       "      <td>0.484620</td>\n",
       "      <td>-1.197530</td>\n",
       "      <td>-0.622246</td>\n",
       "      <td>0.484620</td>\n",
       "      <td>1.246585</td>\n",
       "      <td>0.484620</td>\n",
       "      <td>1.385307</td>\n",
       "      <td>1.246585</td>\n",
       "      <td>-0.695754</td>\n",
       "      <td>-1.312721</td>\n",
       "    </tr>\n",
       "    <tr>\n",
       "      <th>4</th>\n",
       "      <td>2008-08-14</td>\n",
       "      <td>0.007272</td>\n",
       "      <td>0.023187</td>\n",
       "      <td>All the experts admit that we should legalise ...</td>\n",
       "      <td>War in South Osetia - 89 pictures made by a Ru...</td>\n",
       "      <td>Swedish wrestler Ara Abrahamian throws away me...</td>\n",
       "      <td>Russia exaggerated the death toll in South Oss...</td>\n",
       "      <td>Missile That Killed 9 Inside Pakistan May Have...</td>\n",
       "      <td>Rushdie Condemns Random House's Refusal to Pub...</td>\n",
       "      <td>Poland and US agree to missle defense deal. In...</td>\n",
       "      <td>...</td>\n",
       "      <td>1.911960</td>\n",
       "      <td>-0.583700</td>\n",
       "      <td>-1.084804</td>\n",
       "      <td>-0.887814</td>\n",
       "      <td>0.542440</td>\n",
       "      <td>0.484620</td>\n",
       "      <td>-0.622246</td>\n",
       "      <td>0.714778</td>\n",
       "      <td>0.484620</td>\n",
       "      <td>0.484620</td>\n",
       "    </tr>\n",
       "  </tbody>\n",
       "</table>\n",
       "<p>5 rows × 33 columns</p>\n",
       "</div>"
      ],
      "text/plain": [
       "         Date  percent_change  spread_rel_open  \\\n",
       "0  2008-08-08        0.026437         0.032533   \n",
       "1  2008-08-11        0.004491         0.016333   \n",
       "2  2008-08-12       -0.011818         0.015348   \n",
       "3  2008-08-13       -0.008583         0.015511   \n",
       "4  2008-08-14        0.007272         0.023187   \n",
       "\n",
       "                                                Top1  \\\n",
       "0  Georgia 'downs two Russian warplanes' as count...   \n",
       "1  Why wont America and Nato help us? If they won...   \n",
       "2  Remember that adorable 9-year-old who sang at ...   \n",
       "3  U.S. refuses Israel weapons to attack Iran: re...   \n",
       "4  All the experts admit that we should legalise ...   \n",
       "\n",
       "                                                Top2  \\\n",
       "0               BREAKING: Musharraf to be impeached.   \n",
       "1           Bush puts foot down on Georgian conflict   \n",
       "2                     Russia 'ends Georgia operation   \n",
       "3  When the president ordered to attack Tskhinval...   \n",
       "4  War in South Osetia - 89 pictures made by a Ru...   \n",
       "\n",
       "                                                Top3  \\\n",
       "0  Russia Today: Columns of troops roll into Sout...   \n",
       "1  Jewish Georgian minister: Thanks to Israeli tr...   \n",
       "2  If we had no sexual harassment we would have n...   \n",
       "3  Israel clears troops who killed Reuters cameraman   \n",
       "4  Swedish wrestler Ara Abrahamian throws away me...   \n",
       "\n",
       "                                                Top4  \\\n",
       "0  Russian tanks are moving towards the capital o...   \n",
       "1  Georgian army flees in disarray as Russians ad...   \n",
       "2  Al-Qa'eda is losing support in Iraq because of...   \n",
       "3  Britain\\'s policy of being tough on drugs is \"...   \n",
       "4  Russia exaggerated the death toll in South Oss...   \n",
       "\n",
       "                                                Top5  \\\n",
       "0  Afghan children raped with 'impunity,' U.N. of...   \n",
       "1          Olympic opening ceremony fireworks 'faked   \n",
       "2  Ceasefire in Georgia: Putin Outmaneuvers the West   \n",
       "3  Body of 14 year old found in trunk; Latest (ra...   \n",
       "4  Missile That Killed 9 Inside Pakistan May Have...   \n",
       "\n",
       "                                                Top6  \\\n",
       "0  150 Russian tanks have entered South Ossetia w...   \n",
       "1  What were the Mossad with fraudulent New Zeala...   \n",
       "2  Why Microsoft and Intel tried to kill the XO $...   \n",
       "3  China has moved 10 *million* quake survivors i...   \n",
       "4  Rushdie Condemns Random House's Refusal to Pub...   \n",
       "\n",
       "                                                Top7  ...  \\\n",
       "0  Breaking: Georgia invades South Ossetia, Russi...  ...   \n",
       "1  Russia angered by Israeli military sale to Geo...  ...   \n",
       "2  Stratfor: The Russo-Georgian War and the Balan...  ...   \n",
       "3  Bush announces Operation Get All Up In Russia'...  ...   \n",
       "4  Poland and US agree to missle defense deal. In...  ...   \n",
       "\n",
       "  Top1_Compound_Sentiment Top2_Compound_Sentiment Top3_Compound_Sentiment  \\\n",
       "0               -0.858680                2.312440                0.542440   \n",
       "1                1.294096               -0.764554               -1.336476   \n",
       "2               -0.828425               -0.968940               -0.764554   \n",
       "3                0.484620               -1.197530               -0.622246   \n",
       "4                1.911960               -0.583700               -1.084804   \n",
       "\n",
       "   Top4_Compound_Sentiment  Top5_Compound_Sentiment  Top6_Compound_Sentiment  \\\n",
       "0                -1.125367                 0.937989                -1.191927   \n",
       "1                -1.018020                 1.385307                -0.968940   \n",
       "2                 0.937989                 0.484620                -0.324856   \n",
       "3                 0.484620                 1.246585                 0.484620   \n",
       "4                -0.887814                 0.542440                 0.484620   \n",
       "\n",
       "   Top7_Compound_Sentiment  Top8_Compound_Sentiment  Top9_Compound_Sentiment  \\\n",
       "0                -1.587477                -1.287173                -0.127641   \n",
       "1                -1.550499                 0.484620                 1.246585   \n",
       "2                 1.548009                -1.336476                -1.162793   \n",
       "3                 1.385307                 1.246585                -0.695754   \n",
       "4                -0.622246                 0.714778                 0.484620   \n",
       "\n",
       "   Top10_Compound_Sentiment  \n",
       "0                  1.340262  \n",
       "1                 -0.927256  \n",
       "2                 -0.764554  \n",
       "3                 -1.312721  \n",
       "4                  0.484620  \n",
       "\n",
       "[5 rows x 33 columns]"
      ]
     },
     "execution_count": 25,
     "metadata": {},
     "output_type": "execute_result"
    }
   ],
   "source": [
    "normalizedCompListShaped = np.reshape(normalizedCompList, (int(normalizedCompList.shape[0] / optimal_num_centroids), optimal_num_centroids))\n",
    "sentiment_shaped_columns = ['Top{}_Compound_Sentiment'.format(i) for i in range(1, 11)]\n",
    "\n",
    "normalizedCompListDf = pd.DataFrame(normalizedCompListShaped, columns=sentiment_shaped_columns)\n",
    "\n",
    "# Sanity check\n",
    "print(normalizedCompListDf.shape)\n",
    "\n",
    "normalizedCompListDf.head()\n",
    "\n",
    "main_frame = pd.concat([topTen_clusters, normalizedCompListDf], axis=1)\n",
    "main_frame.head()"
   ]
  },
  {
   "cell_type": "markdown",
   "metadata": {},
   "source": [
    "## Regression on Compound Sentiment"
   ]
  },
  {
   "cell_type": "code",
   "execution_count": 26,
   "metadata": {},
   "outputs": [],
   "source": [
    "# split train-test 80-20\n",
    "from sklearn.model_selection import train_test_split\n",
    "from sklearn.metrics import mean_squared_error\n",
    "\n",
    "selected_dframe = main_frame.loc[:, \"Top1_Compound_Sentiment\":\"Top10_Compound_Sentiment\"]\n",
    "change_frame = main_frame[\"percent_change\"]\n",
    "vol_frame = main_frame[\"spread_rel_open\"]\n",
    "\n",
    "X_train, X_test, y_train, y_test = train_test_split(selected_dframe, change_frame, test_size=.2, random_state=100)"
   ]
  },
  {
   "cell_type": "code",
   "execution_count": 57,
   "metadata": {},
   "outputs": [
    {
     "name": "stdout",
     "output_type": "stream",
     "text": [
      "Error mean: 1.5892234487341061\n",
      "Accuracy: 0.5257286432160804\n",
      "Error min: 0.9544611046577638; index: 8\n"
     ]
    }
   ],
   "source": [
    "from sklearn import linear_model\n",
    "\n",
    "corrects = []\n",
    "totals = []\n",
    "errors = []\n",
    "compound_sentiment_predictions = []\n",
    "\n",
    "# Regression found across random samples\n",
    "for i in range(100):\n",
    "    X_train, X_test, y_train, y_test = train_test_split(selected_dframe, change_frame, test_size=.2, random_state=i)\n",
    "    multi_reg = linear_model.LinearRegression()\n",
    "    multi_reg.fit(X_train, y_train*100)\n",
    "    y_predict = multi_reg.predict(X_test)\n",
    "    diff_arr = (y_predict - y_test * 100)\n",
    "    t_dframe = pd.DataFrame(y_predict, y_test*100)\n",
    "    np.mean(y_test * 100)\n",
    "    totals.append(np.count_nonzero(y_test > 0))\n",
    "    corrects.append(np.count_nonzero((y_predict < 0) == (y_test < 0)))\n",
    "    errors.append(mean_squared_error(y_predict, y_test*100))\n",
    "    all_predictions = multi_reg.predict(selected_dframe)\n",
    "    compound_sentiment_predictions.append(np.array(all_predictions))\n",
    "\n",
    "print(\"Error mean: {}\".format(np.mean(errors)))\n",
    "print(\"Accuracy: {}\".format(np.mean(corrects) / len(y_test)))\n",
    "print(\"Error min: {}; index: {}\".format(np.min(errors), np.argmin(errors)))\n",
    "\n",
    "compound_sentiment_predictions = np.array(compound_sentiment_predictions)"
   ]
  },
  {
   "cell_type": "code",
   "execution_count": 28,
   "metadata": {},
   "outputs": [
    {
     "name": "stdout",
     "output_type": "stream",
     "text": [
      "(1989, 66)\n"
     ]
    },
    {
     "data": {
      "text/plain": [
       "201"
      ]
     },
     "execution_count": 28,
     "metadata": {},
     "output_type": "execute_result"
    }
   ],
   "source": [
    "from sklearn.preprocessing import PolynomialFeatures\n",
    "\n",
    "quadrat = PolynomialFeatures(2)\n",
    "new_selected_dframe = quadrat.fit_transform(selected_dframe)\n",
    "print(new_selected_dframe.shape)\n",
    "X_train, X_test, y_train, y_test = train_test_split(new_selected_dframe, change_frame, test_size=.2, random_state=100)\n",
    "\n",
    "multi_reg = linear_model.LinearRegression()\n",
    "multi_reg.fit(X_train, y_train*100)\n",
    "y_predict = multi_reg.predict(X_test)\n",
    "diff_arr = (y_predict - y_test * 100)\n",
    "t_dframe = pd.DataFrame(y_predict, y_test*100)\n",
    "np.mean(y_test * 100)\n",
    "np.count_nonzero((y_predict < 0) == (y_test < 0))"
   ]
  },
  {
   "cell_type": "code",
   "execution_count": 29,
   "metadata": {
    "tags": []
   },
   "outputs": [
    {
     "data": {
      "text/plain": [
       "99.7"
      ]
     },
     "execution_count": 29,
     "metadata": {},
     "output_type": "execute_result"
    }
   ],
   "source": [
    "#spread \n",
    "\n",
    "from sklearn import linear_model\n",
    "corrects = []\n",
    "totals = []\n",
    "\n",
    "for i in range(100):\n",
    "    X_train, X_test, y_train, y_test = train_test_split(selected_dframe, vol_frame, test_size=.2, random_state=i)\n",
    "    multi_reg = linear_model.LinearRegression()\n",
    "    multi_reg.fit(X_train, y_train*100)\n",
    "    y_predict = multi_reg.predict(X_test)\n",
    "    diff_arr = (y_predict - y_test * 100)\n",
    "    t_dframe = pd.DataFrame(y_predict, y_test*100)\n",
    "    np.mean(y_test * 100)\n",
    "    totals.append(np.count_nonzero(y_test * 100))\n",
    "    corrects.append(np.count_nonzero((abs(y_predict - y_test * 100) < .3)))\n",
    "\n",
    "np.mean(corrects)"
   ]
  },
  {
   "cell_type": "code",
   "execution_count": 30,
   "metadata": {},
   "outputs": [
    {
     "data": {
      "text/plain": [
       "0.149453693104917"
      ]
     },
     "execution_count": 30,
     "metadata": {},
     "output_type": "execute_result"
    }
   ],
   "source": [
    "# Finds residual graph on random seed\n",
    "X_train, X_test, y_train, y_test = train_test_split(selected_dframe, change_frame, test_size=.2, random_state=42)\n",
    "multi_reg = linear_model.LinearRegression()\n",
    "multi_reg.fit(X_train, y_train*100)\n",
    "y_predict = multi_reg.predict(X_test)\n",
    "diff_arr = (y_predict - y_test * 100)\n",
    "t_dframe = pd.DataFrame(y_predict, y_test*100)\n",
    "np.mean(y_test * 100)"
   ]
  },
  {
   "cell_type": "markdown",
   "metadata": {},
   "source": [
    "## Regression on Clusters\n",
    "\n"
   ]
  },
  {
   "cell_type": "code",
   "execution_count": 31,
   "metadata": {},
   "outputs": [],
   "source": [
    "# split train-test 80-20\n",
    "from sklearn.model_selection import train_test_split\n",
    "\n",
    "selected_dframe = main_frame.loc[:, \"Top1_Cluster\":\"Top10_Cluster\"]\n",
    "change_frame = main_frame[\"percent_change\"]\n",
    "vol_frame = main_frame[\"spread_rel_open\"]\n",
    "\n",
    "X_train, X_test, y_train, y_test = train_test_split(selected_dframe, change_frame, test_size=.2, random_state=100)"
   ]
  },
  {
   "cell_type": "code",
   "execution_count": 58,
   "metadata": {},
   "outputs": [
    {
     "name": "stdout",
     "output_type": "stream",
     "text": [
      "Error mean: 1.5892234487341061\n",
      "Accuracy: 0.5257286432160804\n",
      "Error min: 0.9544611046577638; index: 8\n"
     ]
    }
   ],
   "source": [
    "from sklearn import linear_model\n",
    "\n",
    "corrects = []\n",
    "totals = []\n",
    "errors = []\n",
    "cluster_predictions = []\n",
    "\n",
    "# Regression found across random samples\n",
    "for i in range(100):\n",
    "    X_train, X_test, y_train, y_test = train_test_split(selected_dframe, change_frame, test_size=.2, random_state=i)\n",
    "    multi_reg = linear_model.LinearRegression()\n",
    "    multi_reg.fit(X_train, y_train*100)\n",
    "    y_predict = multi_reg.predict(X_test)\n",
    "    diff_arr = (y_predict - y_test * 100)\n",
    "    t_dframe = pd.DataFrame(y_predict, y_test*100)\n",
    "    np.mean(y_test * 100)\n",
    "    totals.append(np.count_nonzero(y_test > 0))\n",
    "    corrects.append(np.count_nonzero((y_predict < 0) == (y_test < 0)))\n",
    "    errors.append(mean_squared_error(y_predict, y_test*100))\n",
    "    all_predictions = multi_reg.predict(selected_dframe)\n",
    "    cluster_predictions.append(np.array(all_predictions))\n",
    "    \n",
    "print(\"Error mean: {}\".format(np.mean(errors)))\n",
    "print(\"Accuracy: {}\".format(np.mean(corrects) / len(y_test)))\n",
    "print(\"Error min: {}; index: {}\".format(np.min(errors), np.argmin(errors)))\n",
    "\n",
    "cluster_predictions = np.array(cluster_predictions)"
   ]
  },
  {
   "cell_type": "code",
   "execution_count": 33,
   "metadata": {},
   "outputs": [
    {
     "name": "stdout",
     "output_type": "stream",
     "text": [
      "(1989, 66)\n"
     ]
    },
    {
     "data": {
      "text/plain": [
       "228"
      ]
     },
     "execution_count": 33,
     "metadata": {},
     "output_type": "execute_result"
    }
   ],
   "source": [
    "from sklearn.preprocessing import PolynomialFeatures\n",
    "\n",
    "quadrat = PolynomialFeatures(2)\n",
    "new_selected_dframe = quadrat.fit_transform(selected_dframe)\n",
    "print(new_selected_dframe.shape)\n",
    "X_train, X_test, y_train, y_test = train_test_split(new_selected_dframe, change_frame, test_size=.2, random_state=100)\n",
    "\n",
    "multi_reg = linear_model.LinearRegression()\n",
    "multi_reg.fit(X_train, y_train*100)\n",
    "y_predict = multi_reg.predict(X_test)\n",
    "diff_arr = (y_predict - y_test * 100)\n",
    "t_dframe = pd.DataFrame(y_predict, y_test*100)\n",
    "np.mean(y_test * 100)\n",
    "np.count_nonzero((y_predict < 0) == (y_test < 0))"
   ]
  },
  {
   "cell_type": "code",
   "execution_count": 34,
   "metadata": {
    "tags": []
   },
   "outputs": [
    {
     "data": {
      "text/plain": [
       "98.56"
      ]
     },
     "execution_count": 34,
     "metadata": {},
     "output_type": "execute_result"
    }
   ],
   "source": [
    "#spread \n",
    "\n",
    "from sklearn import linear_model\n",
    "corrects = []\n",
    "totals = []\n",
    "\n",
    "for i in range(100):\n",
    "    X_train, X_test, y_train, y_test = train_test_split(selected_dframe, vol_frame, test_size=.2, random_state=i)\n",
    "    multi_reg = linear_model.LinearRegression()\n",
    "    multi_reg.fit(X_train, y_train*100)\n",
    "    y_predict = multi_reg.predict(X_test)\n",
    "    diff_arr = (y_predict - y_test * 100)\n",
    "    t_dframe = pd.DataFrame(y_predict, y_test*100)\n",
    "    np.mean(y_test * 100)\n",
    "    totals.append(np.count_nonzero(y_test * 100 ))\n",
    "    corrects.append(np.count_nonzero((abs(y_predict - y_test * 100) < .3)))\n",
    "\n",
    "np.mean(corrects)"
   ]
  },
  {
   "cell_type": "markdown",
   "metadata": {},
   "source": [
    "## Regression on Clusters and Sentiment"
   ]
  },
  {
   "cell_type": "code",
   "execution_count": 35,
   "metadata": {},
   "outputs": [],
   "source": [
    "# split train-test 80-20\n",
    "from sklearn.model_selection import train_test_split\n",
    "\n",
    "selected_dframe = main_frame.loc[:, \"Top1_Cluster\":\"Top10_Compound_Sentiment\"]\n",
    "change_frame = main_frame[\"percent_change\"]\n",
    "vol_frame = main_frame[\"spread_rel_open\"]\n",
    "\n",
    "X_train, X_test, y_train, y_test = train_test_split(selected_dframe, change_frame, test_size=.2, random_state=100)"
   ]
  },
  {
   "cell_type": "code",
   "execution_count": 59,
   "metadata": {},
   "outputs": [
    {
     "name": "stdout",
     "output_type": "stream",
     "text": [
      "Error mean: 1.5892234487341061\n",
      "Accuracy: 0.5257286432160804\n",
      "Error min: 0.9544611046577638; index: 8\n"
     ]
    },
    {
     "data": {
      "text/plain": [
       "(100, 1989)"
      ]
     },
     "execution_count": 59,
     "metadata": {},
     "output_type": "execute_result"
    }
   ],
   "source": [
    "from sklearn import linear_model\n",
    "\n",
    "corrects = []\n",
    "totals = []\n",
    "errors = []\n",
    "bestCorrect = 0\n",
    "bestModel = None\n",
    "data = []\n",
    "sentiment_cluster_predictions = []\n",
    "# Regression found across random samples\n",
    "for i in range(100):\n",
    "    X_train, X_test, y_train, y_test = train_test_split(selected_dframe, change_frame, test_size=.2, random_state=i)\n",
    "    multi_reg = linear_model.LinearRegression()\n",
    "    multi_reg.fit(X_train, y_train*100)\n",
    "    y_predict = multi_reg.predict(X_test)\n",
    "    diff_arr = (y_predict - y_test * 100)\n",
    "    t_dframe = pd.DataFrame(y_predict, y_test*100)\n",
    "    np.mean(y_test * 100)\n",
    "    totals.append(np.count_nonzero(y_test > 0))\n",
    "    correct = np.count_nonzero((y_predict < 0) == (y_test < 0))\n",
    "    if correct > bestCorrect:\n",
    "        bestCorrect = correct\n",
    "        bestModel = multi_reg\n",
    "        data = [X_test, y_test]\n",
    "    corrects.append(np.count_nonzero((y_predict < 0) == (y_test < 0)))\n",
    "    errors.append(mean_squared_error(y_predict, y_test*100))\n",
    "    \n",
    "    all_predictions = multi_reg.predict(selected_dframe)\n",
    "    sentiment_cluster_predictions.append(np.array(all_predictions))\n",
    "\n",
    "print(\"Error mean: {}\".format(np.mean(errors)))\n",
    "print(\"Accuracy: {}\".format(np.mean(corrects) / len(y_test)))\n",
    "print(\"Error min: {}; index: {}\".format(np.min(errors), np.argmin(errors)))\n",
    "sentiment_cluster_predictions = np.array(sentiment_cluster_predictions)\n",
    "sentiment_cluster_predictions.shape"
   ]
  },
  {
   "cell_type": "code",
   "execution_count": 37,
   "metadata": {},
   "outputs": [
    {
     "name": "stdout",
     "output_type": "stream",
     "text": [
      "(1989, 231)\n"
     ]
    },
    {
     "data": {
      "text/plain": [
       "218"
      ]
     },
     "execution_count": 37,
     "metadata": {},
     "output_type": "execute_result"
    }
   ],
   "source": [
    "from sklearn.preprocessing import PolynomialFeatures\n",
    "\n",
    "quadrat = PolynomialFeatures(2)\n",
    "new_selected_dframe = quadrat.fit_transform(selected_dframe)\n",
    "print(new_selected_dframe.shape)\n",
    "X_train, X_test, y_train, y_test = train_test_split(new_selected_dframe, change_frame, test_size=.2, random_state=100)\n",
    "\n",
    "multi_reg = linear_model.LinearRegression()\n",
    "multi_reg.fit(X_train, y_train*100)\n",
    "y_predict = multi_reg.predict(X_test)\n",
    "diff_arr = (y_predict - y_test * 100)\n",
    "t_dframe = pd.DataFrame(y_predict, y_test*100)\n",
    "np.mean(y_test * 100)\n",
    "np.count_nonzero((y_predict < 0) == (y_test < 0))"
   ]
  },
  {
   "cell_type": "code",
   "execution_count": 38,
   "metadata": {
    "tags": []
   },
   "outputs": [
    {
     "data": {
      "text/plain": [
       "102.65"
      ]
     },
     "execution_count": 38,
     "metadata": {},
     "output_type": "execute_result"
    }
   ],
   "source": [
    "#spread \n",
    "\n",
    "from sklearn import linear_model\n",
    "corrects = []\n",
    "totals = []\n",
    "\n",
    "for i in range(100):\n",
    "    X_train, X_test, y_train, y_test = train_test_split(selected_dframe, vol_frame, test_size=.2, random_state=i)\n",
    "    multi_reg = linear_model.LinearRegression()\n",
    "    multi_reg.fit(X_train, y_train*100)\n",
    "    y_predict = multi_reg.predict(X_test)\n",
    "    diff_arr = (y_predict - y_test * 100)\n",
    "    t_dframe = pd.DataFrame(y_predict, y_test*100)\n",
    "    np.mean(y_test * 100)\n",
    "    totals.append(np.count_nonzero(y_test * 100 ))\n",
    "    corrects.append(np.count_nonzero((abs(y_predict - y_test * 100) < .3)))\n",
    "\n",
    "np.mean(corrects)"
   ]
  },
  {
   "cell_type": "markdown",
   "metadata": {},
   "source": [
    "## Map values into predicted market\n",
    "Beginning with one of the days, we may use our predictions from the otpimal model to make predictions"
   ]
  },
  {
   "cell_type": "code",
   "execution_count": 39,
   "metadata": {},
   "outputs": [
    {
     "name": "stdout",
     "output_type": "stream",
     "text": [
      "0       0.026437\n",
      "1       0.004491\n",
      "2      -0.011818\n",
      "3      -0.008583\n",
      "4       0.007272\n",
      "          ...   \n",
      "1984   -0.012387\n",
      "1985    0.012752\n",
      "1986    0.013672\n",
      "1987    0.012264\n",
      "1988    0.001402\n",
      "Name: percent_change, Length: 1989, dtype: float64\n",
      "[ 0.01950995 -0.42070431  0.30854288 ...  0.07410589  0.0664373\n",
      "  0.29960832]\n"
     ]
    }
   ],
   "source": [
    "market = []\n",
    "correctChange = change_frame\n",
    "predictedY = bestModel.predict(selected_dframe)\n",
    "print(correctChange)\n",
    "print(predictedY)\n",
    "\n",
    "def mapMarket(changes, start):\n",
    "    res = [start]\n",
    "    cur = start\n",
    "    for change in changes:\n",
    "#         print(change)\n",
    "        cur += change * cur\n",
    "        res.append(cur)\n",
    "    return res"
   ]
  },
  {
   "cell_type": "code",
   "execution_count": 40,
   "metadata": {},
   "outputs": [
    {
     "data": {
      "text/plain": [
       "[<matplotlib.lines.Line2D at 0x7fdbd2ba2470>]"
      ]
     },
     "execution_count": 40,
     "metadata": {},
     "output_type": "execute_result"
    },
    {
     "data": {
      "image/png": "[encoded data removed]",
      "text/plain": [
       "<Figure size 432x288 with 1 Axes>"
      ]
     },
     "metadata": {},
     "output_type": "display_data"
    }
   ],
   "source": [
    "start = 17924.240234\n",
    "predictedMarket = mapMarket(predictedY, start)\n",
    "\n",
    "trueMarket = mapMarket(correctChange, start)\n",
    "\n",
    "plt.plot(trueMarket)\n",
    "# plt.plot(trueMarket)\n",
    "# print(trueMarket)\n",
    "# print(predictedMarket)"
   ]
  },
  {
   "cell_type": "code",
   "execution_count": 41,
   "metadata": {},
   "outputs": [
    {
     "data": {
      "text/plain": [
       "[<matplotlib.lines.Line2D at 0x7fdbe883feb8>]"
      ]
     },
     "execution_count": 41,
     "metadata": {},
     "output_type": "execute_result"
    },
    {
     "data": {
      "image/png": "[encoded data removed]",
      "text/plain": [
       "<Figure size 432x288 with 1 Axes>"
      ]
     },
     "metadata": {},
     "output_type": "display_data"
    }
   ],
   "source": [
    "plt.plot(predictedMarket)"
   ]
  },
  {
   "cell_type": "markdown",
   "metadata": {},
   "source": [
    "## Make Residual Graph"
   ]
  },
  {
   "cell_type": "code",
   "execution_count": 60,
   "metadata": {},
   "outputs": [
    {
     "data": {
      "text/plain": [
       "(100, 1989)"
      ]
     },
     "execution_count": 60,
     "metadata": {},
     "output_type": "execute_result"
    }
   ],
   "source": [
    "# sanity checks of size\n",
    "compound_sentiment_predictions.shape"
   ]
  },
  {
   "cell_type": "code",
   "execution_count": 61,
   "metadata": {},
   "outputs": [],
   "source": [
    "# Find the mean of each\n",
    "compound_sentiment_predictions = np.mean(compound_sentiment_predictions, axis=0)\n",
    "cluster_predictions = np.mean(cluster_predictions, axis=0)\n",
    "sentiment_cluster_predictions = np.mean(sentiment_cluster_predictions, axis=0)"
   ]
  },
  {
   "cell_type": "code",
   "execution_count": 92,
   "metadata": {},
   "outputs": [
    {
     "name": "stdout",
     "output_type": "stream",
     "text": [
      "[ 0.04680878 -0.32747345  0.33889389 ...  0.07057099  0.0214592\n",
      "  0.27990841]\n",
      "0       0.026437\n",
      "1       0.004491\n",
      "2      -0.011818\n",
      "3      -0.008583\n",
      "4       0.007272\n",
      "          ...   \n",
      "1984   -0.012387\n",
      "1985    0.012752\n",
      "1986    0.013672\n",
      "1987    0.012264\n",
      "1988    0.001402\n",
      "Name: percent_change, Length: 1989, dtype: float64\n"
     ]
    }
   ],
   "source": [
    "compound_sentiment_predictions.shape\n",
    "print(compound_sentiment_predictions)\n",
    "print(change_frame)"
   ]
  },
  {
   "cell_type": "code",
   "execution_count": 93,
   "metadata": {},
   "outputs": [],
   "source": [
    "def findResidual(truth, predictions):\n",
    "    return np.absolute(np.array(truth) - np.array(predictions))"
   ]
  },
  {
   "cell_type": "code",
   "execution_count": 97,
   "metadata": {},
   "outputs": [
    {
     "name": "stdout",
     "output_type": "stream",
     "text": [
      "[0.02037175 0.3319646  0.35071141 ... 0.0568989  0.00919514 0.27850646]\n"
     ]
    }
   ],
   "source": [
    "compound_sentiment_residual = findResidual(change_frame, compound_sentiment_predictions)\n",
    "cluster_residual = findResidual(change_frame, cluster_predictions)\n",
    "sentiment_cluster_residual = findResidual(change_frame, sentiment_cluster_predictions)\n",
    "print(compound_sentiment_residual)"
   ]
  },
  {
   "cell_type": "code",
   "execution_count": 95,
   "metadata": {},
   "outputs": [],
   "source": [
    "def plotResidual(data, title):\n",
    "    plt.plot(data)\n",
    "    plt.title = title\n",
    "    plt.xtitle(\"Date\")\n",
    "    plt.show()"
   ]
  },
  {
   "cell_type": "code",
   "execution_count": 96,
   "metadata": {},
   "outputs": [
    {
     "data": {
      "text/plain": [
       "Text(0.5, 1.0, 'Sentiment and Cluster residual')"
      ]
     },
     "execution_count": 96,
     "metadata": {},
     "output_type": "execute_result"
    },
    {
     "data": {
      "image/png": "[encoded data removed]",
      "text/plain": [
       "<Figure size 432x288 with 3 Axes>"
      ]
     },
     "metadata": {},
     "output_type": "display_data"
    }
   ],
   "source": [
    "fig, (ax1, ax2, ax3) = plt.subplots(3)\n",
    "fig.suptitle('Residual differences of plots')\n",
    "ax1.plot(compound_sentiment_residual)\n",
    "ax1.set_title('Compound sentiment residual')\n",
    "\n",
    "ax2.plot(cluster_residual)\n",
    "ax2.set_title('Cluster residual')\n",
    "\n",
    "ax3.plot(sentiment_cluster_residual)\n",
    "ax3.set_title('Sentiment and Cluster residual')\n",
    "         "
   ]
  },
  {
   "cell_type": "code",
   "execution_count": 82,
   "metadata": {},
   "outputs": [
    {
     "ename": "AttributeError",
     "evalue": "module 'matplotlib.pyplot' has no attribute 'xtitle'",
     "output_type": "error",
     "traceback": [
      "\u001b[0;31m---------------------------------------------------------------------------\u001b[0m",
      "\u001b[0;31mAttributeError\u001b[0m                            Traceback (most recent call last)",
      "\u001b[0;32m<ipython-input-82-cd13dc3aa4e2>\u001b[0m in \u001b[0;36m<module>\u001b[0;34m\u001b[0m\n\u001b[0;32m----> 1\u001b[0;31m \u001b[0mplotResidual\u001b[0m\u001b[0;34m(\u001b[0m\u001b[0mcompound_sentiment_residual\u001b[0m\u001b[0;34m,\u001b[0m \u001b[0;34m'Compound sentiment residual'\u001b[0m\u001b[0;34m)\u001b[0m\u001b[0;34m\u001b[0m\u001b[0;34m\u001b[0m\u001b[0m\n\u001b[0m\u001b[1;32m      2\u001b[0m \u001b[0mplotResidual\u001b[0m\u001b[0;34m(\u001b[0m\u001b[0mcluster_residual\u001b[0m\u001b[0;34m,\u001b[0m \u001b[0;34m'Cluster residual'\u001b[0m\u001b[0;34m)\u001b[0m\u001b[0;34m\u001b[0m\u001b[0;34m\u001b[0m\u001b[0m\n\u001b[1;32m      3\u001b[0m \u001b[0mplotResidual\u001b[0m\u001b[0;34m(\u001b[0m\u001b[0msentiment_cluster_residual\u001b[0m\u001b[0;34m,\u001b[0m \u001b[0;34m'Compound sentiment residual'\u001b[0m\u001b[0;34m)\u001b[0m\u001b[0;34m\u001b[0m\u001b[0;34m\u001b[0m\u001b[0m\n",
      "\u001b[0;32m<ipython-input-80-c845bec3b125>\u001b[0m in \u001b[0;36mplotResidual\u001b[0;34m(data, title)\u001b[0m\n\u001b[1;32m      2\u001b[0m     \u001b[0mplt\u001b[0m\u001b[0;34m.\u001b[0m\u001b[0mplot\u001b[0m\u001b[0;34m(\u001b[0m\u001b[0mdata\u001b[0m\u001b[0;34m)\u001b[0m\u001b[0;34m\u001b[0m\u001b[0;34m\u001b[0m\u001b[0m\n\u001b[1;32m      3\u001b[0m     \u001b[0mplt\u001b[0m\u001b[0;34m.\u001b[0m\u001b[0mtitle\u001b[0m \u001b[0;34m=\u001b[0m \u001b[0mtitle\u001b[0m\u001b[0;34m\u001b[0m\u001b[0;34m\u001b[0m\u001b[0m\n\u001b[0;32m----> 4\u001b[0;31m     \u001b[0mplt\u001b[0m\u001b[0;34m.\u001b[0m\u001b[0mxtitle\u001b[0m\u001b[0;34m(\u001b[0m\u001b[0;34m\"Date\"\u001b[0m\u001b[0;34m)\u001b[0m\u001b[0;34m\u001b[0m\u001b[0;34m\u001b[0m\u001b[0m\n\u001b[0m\u001b[1;32m      5\u001b[0m     \u001b[0mplt\u001b[0m\u001b[0;34m.\u001b[0m\u001b[0mshow\u001b[0m\u001b[0;34m(\u001b[0m\u001b[0;34m)\u001b[0m\u001b[0;34m\u001b[0m\u001b[0;34m\u001b[0m\u001b[0m\n",
      "\u001b[0;31mAttributeError\u001b[0m: module 'matplotlib.pyplot' has no attribute 'xtitle'"
     ]
    },
    {
     "data": {
      "image/png": "[encoded data removed]",
      "text/plain": [
       "<Figure size 432x288 with 1 Axes>"
      ]
     },
     "metadata": {},
     "output_type": "display_data"
    }
   ],
   "source": [
    "plotResidual(compound_sentiment_residual, 'Compound sentiment residual')\n",
    "plotResidual(cluster_residual, 'Cluster residual')\n",
    "plotResidual(sentiment_cluster_residual, 'Compound sentiment residual')"
   ]
  },
  {
   "cell_type": "code",
   "execution_count": null,
   "metadata": {},
   "outputs": [],
   "source": []
  }
 ],
 "metadata": {
  "kernelspec": {
   "display_name": "Python 3",
   "language": "python",
   "name": "python3"
  },
  "language_info": {
   "codemirror_mode": {
    "name": "ipython",
    "version": 3
   },
   "file_extension": ".py",
   "mimetype": "text/x-python",
   "name": "python",
   "nbconvert_exporter": "python",
   "pygments_lexer": "ipython3",
   "version": "3.6.10"
  }
 },
 "nbformat": 4,
 "nbformat_minor": 4
}
